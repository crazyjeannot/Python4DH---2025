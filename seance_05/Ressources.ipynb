{
 "cells": [
  {
   "cell_type": "markdown",
   "id": "f402f3b5-78f8-465c-96da-feaca1b7cc74",
   "metadata": {},
   "source": [
    "## Ressources\n",
    "\n",
    "- [Real Python](https://realpython.com), des cours et des tutoriels souvent de très bonne qualité et\n",
    "  pour tous niveaux.\n",
    "\n",
    "### cours et tutoriels\n",
    "\n",
    "- [Le tutoriel officiel](https://docs.python.org/fr/3/tutorial/) en français !\n",
    "- [Google's Python Class](https://developers.google.com/edu/python/).\n",
    "\n",
    "Plus avancés :\n",
    "\n",
    "- [Practical Python](https://dabeaz-course.github.io/practical-python/Notes/Contents.html)\n",
    "- [Python Mastery](https://github.com/dabeaz-course/python-mastery)\n",
    "\n",
    "Pour les Humanités Numériques:\n",
    "\n",
    "- [Python Humanities](https://pythonhumanities.com/), avec une excellente chaine youtube du même auteur que je recommande [ici](https://www.youtube.com/pythontutorialsfordigitalhumanities)\n",
    "- [Python Course](http://www.karsdorp.io/python-course/)\n",
    "\n",
    "### Livres\n",
    "\n",
    "- *Dive into Python*, Mark Pilgrim. [Ici](http://www.diveintopython3.net/) vous pouvez le lire ou\n",
    "  télécharger le pdf.\n",
    "- *Humanities Data Analysis Case Studies with Python*, Folgert Karsdorp, Mike Kestemont, Allen Riddell [ici](https://www.humanitiesdataanalysis.org/). Ce livre est à la BEC, allez l'emprunter !\n",
    "- *Automate the boring stuff with python*, Al Sweigart"
   ]
  },
  {
   "cell_type": "code",
   "execution_count": null,
   "id": "c870687e-750c-4459-9d66-91071b282be0",
   "metadata": {},
   "outputs": [],
   "source": []
  }
 ],
 "metadata": {
  "kernelspec": {
   "display_name": "Python 3 (ipykernel)",
   "language": "python",
   "name": "python3"
  },
  "language_info": {
   "codemirror_mode": {
    "name": "ipython",
    "version": 3
   },
   "file_extension": ".py",
   "mimetype": "text/x-python",
   "name": "python",
   "nbconvert_exporter": "python",
   "pygments_lexer": "ipython3",
   "version": "3.12.3"
  }
 },
 "nbformat": 4,
 "nbformat_minor": 5
}
