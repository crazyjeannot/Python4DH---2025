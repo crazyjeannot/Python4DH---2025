{
 "cells": [
  {
   "cell_type": "markdown",
   "id": "e72ae04f",
   "metadata": {
    "slideshow": {
     "slide_type": "slide"
    }
   },
   "source": [
    "# Bases de NumPy\n",
    "\n",
    "[NumPy](https://numpy.org/). Notebook basé sur le cours de [Loïc Grobol](https://loicgrobol.github.io/apprentissage-artificiel/)\n",
    "\n",
    "NumPy est un des packages les plus utilisés de Python. Il ajoute au langage des maths plus performantes, le support des tableaux multidimensionnels (`ndarray`) et du calcul matriciel."
   ]
  },
  {
   "cell_type": "markdown",
   "id": "41a55539",
   "metadata": {
    "slideshow": {
     "slide_type": "subslide"
    }
   },
   "source": [
    "Installez NumPy, soit dans votre terminal avec `pip`, soit en exécutant la cellule de code\n",
    "suivante :"
   ]
  },
  {
   "cell_type": "code",
   "execution_count": null,
   "id": "5fc580fa",
   "metadata": {},
   "outputs": [],
   "source": [
    "%pip install -U numpy"
   ]
  },
  {
   "cell_type": "markdown",
   "id": "b9046cf3",
   "metadata": {},
   "source": []
  },
  {
   "cell_type": "markdown",
   "id": "f144c724",
   "metadata": {
    "slideshow": {
     "slide_type": "subslide"
    }
   },
   "source": [
    "On importe Numpy comme ceci"
   ]
  },
  {
   "cell_type": "code",
   "execution_count": null,
   "id": "f2a3b213",
   "metadata": {},
   "outputs": [],
   "source": [
    "import numpy as np"
   ]
  },
  {
   "cell_type": "markdown",
   "id": "8e05aa6e",
   "metadata": {
    "slideshow": {
     "slide_type": "slide"
    }
   },
   "source": [
    "## Maths de base"
   ]
  },
  {
   "cell_type": "markdown",
   "id": "43f01e16",
   "metadata": {},
   "source": [
    "Numpy a ses propres types numériques, qui permettent par exemple de travailler avec différentes précisions."
   ]
  },
  {
   "cell_type": "code",
   "execution_count": null,
   "id": "c474a14f",
   "metadata": {
    "slideshow": {
     "slide_type": "-"
    }
   },
   "outputs": [],
   "source": [
    "# Un nombre à virgule flottante codé sur 16 bits\n"
   ]
  },
  {
   "cell_type": "code",
   "execution_count": null,
   "id": "c07ee34f",
   "metadata": {},
   "outputs": [],
   "source": [
    "# Un nombre à virgule flottante codé sur 32 bits\n"
   ]
  },
  {
   "cell_type": "code",
   "execution_count": null,
   "id": "e7cdb60f",
   "metadata": {},
   "outputs": [],
   "source": [
    "# Un nombre à virgule flottante codé sur 64 bits\n"
   ]
  },
  {
   "cell_type": "markdown",
   "id": "7ff5f994",
   "metadata": {
    "slideshow": {
     "slide_type": "subslide"
    }
   },
   "source": [
    "On peut faire des maths comme d'habitude avec"
   ]
  },
  {
   "cell_type": "code",
   "execution_count": null,
   "id": "d8dd0639",
   "metadata": {},
   "outputs": [],
   "source": []
  },
  {
   "cell_type": "code",
   "execution_count": null,
   "id": "7f2c2493",
   "metadata": {},
   "outputs": [],
   "source": []
  },
  {
   "cell_type": "markdown",
   "id": "2752a0e9",
   "metadata": {
    "slideshow": {
     "slide_type": "fragment"
    }
   },
   "source": [
    "Et même les combiner avec les types habituels de Python"
   ]
  },
  {
   "cell_type": "code",
   "execution_count": null,
   "id": "542db1b9",
   "metadata": {},
   "outputs": [],
   "source": []
  },
  {
   "cell_type": "markdown",
   "id": "e0329ec0",
   "metadata": {
    "slideshow": {
     "slide_type": "subslide"
    }
   },
   "source": [
    "Et Numpy vous donne accès à plein de fonctions mathématiques, souvent plus efficaces que les équivalents du module standard `math`, plus variées, et apportant souvent d'autres avantages, comme une meilleur stabilité numérique."
   ]
  },
  {
   "cell_type": "code",
   "execution_count": null,
   "id": "5800f5fc",
   "metadata": {},
   "outputs": [],
   "source": [
    "## avec Numpy"
   ]
  },
  {
   "cell_type": "code",
   "execution_count": null,
   "id": "15a9d3a1",
   "metadata": {},
   "outputs": [],
   "source": [
    "## avec math"
   ]
  },
  {
   "cell_type": "markdown",
   "id": "56bbffd7",
   "metadata": {
    "slideshow": {
     "slide_type": "slide"
    }
   },
   "source": [
    "## `ndarray`\n",
    "\n",
    "Le grand apport de NumPy ce sont les *array* (classe `ndarray`), à une dimension (vecteur), deux\n",
    "dimensions (matrices) ou trois et plus (tenseur).\n",
    "\n",
    "Un *array* sera plus rapide et plus compact (moins de taille en mémoire) qu'une liste Python."
   ]
  },
  {
   "cell_type": "markdown",
   "id": "8fed3756",
   "metadata": {
    "slideshow": {
     "slide_type": "-"
    }
   },
   "source": [
    "NumPy ajoute plein de fonctions pour manipuler ses *array* de façon optimisée. À tel point qu'il est\n",
    "recommandé de ne pas utiliser de boucle pour les manipuler."
   ]
  },
  {
   "cell_type": "markdown",
   "id": "3ef6094b",
   "metadata": {
    "slideshow": {
     "slide_type": "subslide"
    }
   },
   "source": [
    "On peut créer un *array* à partir d'une liste (ou d'un tuple) :"
   ]
  },
  {
   "cell_type": "code",
   "execution_count": null,
   "id": "33fc9433",
   "metadata": {},
   "outputs": [],
   "source": []
  },
  {
   "cell_type": "markdown",
   "id": "9407fc66",
   "metadata": {
    "slideshow": {
     "slide_type": "subslide"
    }
   },
   "source": [
    "**Mais** à la différence d'une liste, un *array* aura les caractéristiques suivantes :\n",
    "\n",
    "- Une taille fixe (donnée à la création)\n",
    "- Ses éléments doivent tous être de même type"
   ]
  },
  {
   "cell_type": "code",
   "execution_count": null,
   "id": "4075a669-3e64-4d44-86ba-5cb492e9d3e1",
   "metadata": {},
   "outputs": [],
   "source": []
  },
  {
   "cell_type": "code",
   "execution_count": null,
   "id": "80c87e66",
   "metadata": {
    "slideshow": {
     "slide_type": "subslide"
    }
   },
   "outputs": [],
   "source": []
  },
  {
   "cell_type": "markdown",
   "id": "38070e2c",
   "metadata": {
    "slideshow": {
     "slide_type": "slide"
    }
   },
   "source": [
    "### Infos sur les `ndarray`\n",
    "\n",
    "Pour avoir des infos sur les *array* que vous manipulez vous avez différentes **méthodes**:\n",
    "\n",
    "\n",
    "- `dtype` (type des éléments)"
   ]
  },
  {
   "cell_type": "code",
   "execution_count": null,
   "id": "fe5217dc",
   "metadata": {},
   "outputs": [],
   "source": []
  },
  {
   "cell_type": "code",
   "execution_count": null,
   "id": "206f259f",
   "metadata": {},
   "outputs": [],
   "source": []
  },
  {
   "cell_type": "code",
   "execution_count": null,
   "id": "4ca22132",
   "metadata": {},
   "outputs": [],
   "source": []
  },
  {
   "cell_type": "markdown",
   "id": "34c2db62",
   "metadata": {},
   "source": [
    "- `ndim` (le nombre de dimensions)"
   ]
  },
  {
   "cell_type": "code",
   "execution_count": null,
   "id": "d24b3d46",
   "metadata": {},
   "outputs": [],
   "source": []
  },
  {
   "cell_type": "markdown",
   "id": "701c4f8f",
   "metadata": {
    "slideshow": {
     "slide_type": "subslide"
    }
   },
   "source": [
    "- `size` (le nombre d'éléments)"
   ]
  },
  {
   "cell_type": "code",
   "execution_count": null,
   "id": "1a66e7cd-4bd0-43cc-a6b0-35be483a857a",
   "metadata": {},
   "outputs": [],
   "source": []
  },
  {
   "cell_type": "markdown",
   "id": "bcb1b485",
   "metadata": {},
   "source": [
    "- `shape` (un tuple avec la taille de chaque dimension)"
   ]
  },
  {
   "cell_type": "code",
   "execution_count": null,
   "id": "69a4b6a4-56e7-495d-a4ad-f9e2cc0a75fb",
   "metadata": {},
   "outputs": [],
   "source": []
  },
  {
   "cell_type": "code",
   "execution_count": null,
   "id": "81f49708-209f-41a4-8e57-900e521d0177",
   "metadata": {},
   "outputs": [],
   "source": []
  },
  {
   "cell_type": "markdown",
   "id": "ff5d9bc0",
   "metadata": {
    "slideshow": {
     "slide_type": "slide"
    }
   },
   "source": [
    "### Créer un *array*\n",
    "\n",
    "- `np.zeros`"
   ]
  },
  {
   "cell_type": "code",
   "execution_count": null,
   "id": "6e48104a-694f-435c-8a9e-4f8ee6b47531",
   "metadata": {},
   "outputs": [],
   "source": []
  },
  {
   "cell_type": "code",
   "execution_count": null,
   "id": "523b0a09",
   "metadata": {},
   "outputs": [],
   "source": []
  },
  {
   "cell_type": "markdown",
   "id": "73d3d7e6",
   "metadata": {
    "slideshow": {
     "slide_type": "subslide"
    }
   },
   "source": [
    "- `np.ones`"
   ]
  },
  {
   "cell_type": "code",
   "execution_count": null,
   "id": "8b8a3e4c",
   "metadata": {},
   "outputs": [],
   "source": []
  },
  {
   "cell_type": "markdown",
   "id": "788edbcb",
   "metadata": {
    "slideshow": {
     "slide_type": "fragment"
    }
   },
   "source": [
    "- `np.full`"
   ]
  },
  {
   "cell_type": "code",
   "execution_count": null,
   "id": "4f3e2c66-6d05-4704-912b-51b33e8c06d7",
   "metadata": {},
   "outputs": [],
   "source": []
  },
  {
   "cell_type": "markdown",
   "id": "311187bc",
   "metadata": {
    "slideshow": {
     "slide_type": "subslide"
    }
   },
   "source": [
    "Et des choses plus sophistiquées"
   ]
  },
  {
   "cell_type": "markdown",
   "id": "07738549",
   "metadata": {
    "slideshow": {
     "slide_type": "fragment"
    }
   },
   "source": [
    "- `np.eye`"
   ]
  },
  {
   "cell_type": "code",
   "execution_count": null,
   "id": "c1813055-73ba-4d26-8857-754bc1a1139d",
   "metadata": {},
   "outputs": [],
   "source": []
  },
  {
   "cell_type": "markdown",
   "id": "297abaab",
   "metadata": {
    "slideshow": {
     "slide_type": "fragment"
    }
   },
   "source": [
    "- `np.arange`"
   ]
  },
  {
   "cell_type": "code",
   "execution_count": null,
   "id": "02e502a0",
   "metadata": {},
   "outputs": [],
   "source": []
  },
  {
   "cell_type": "markdown",
   "id": "e3b99b91",
   "metadata": {
    "slideshow": {
     "slide_type": "subslide"
    }
   },
   "source": [
    "- `np.linspace(start, stop)` (crée un *array* avec des valeurs réparties uniformément entre start et\n",
    "   stop (50 valeurs par défaut))"
   ]
  },
  {
   "cell_type": "code",
   "execution_count": null,
   "id": "870709f1",
   "metadata": {},
   "outputs": [],
   "source": []
  },
  {
   "cell_type": "markdown",
   "id": "8a56cffc",
   "metadata": {
    "slideshow": {
     "slide_type": "fragment"
    }
   },
   "source": [
    "- `np.empty` (crée un array \"vide\", enfin avec des valeurs aléatoires car non-initialisées)"
   ]
  },
  {
   "cell_type": "code",
   "execution_count": null,
   "id": "c56eff64",
   "metadata": {},
   "outputs": [],
   "source": []
  },
  {
   "cell_type": "markdown",
   "id": "f92700e4",
   "metadata": {
    "slideshow": {
     "slide_type": "subslide"
    }
   },
   "source": [
    "Il y a plein d'autres !"
   ]
  },
  {
   "cell_type": "code",
   "execution_count": null,
   "id": "169690e3",
   "metadata": {},
   "outputs": [],
   "source": [
    "np.random.rand(3,2)"
   ]
  },
  {
   "cell_type": "markdown",
   "id": "d9a3483c",
   "metadata": {
    "slideshow": {
     "slide_type": "fragment"
    }
   },
   "source": [
    "Allez lire [la doc](https://numpy.org/doc) 👀"
   ]
  },
  {
   "cell_type": "markdown",
   "id": "1f90d2f9",
   "metadata": {
    "slideshow": {
     "slide_type": "slide"
    }
   },
   "source": [
    "### Indexer et trancher\n",
    "\n",
    "- Comme pour les listes Python"
   ]
  },
  {
   "cell_type": "code",
   "execution_count": null,
   "id": "37593720",
   "metadata": {},
   "outputs": [],
   "source": [
    "a = np.array([5, 6, 7, 8, 9, 10])\n",
    "a"
   ]
  },
  {
   "cell_type": "code",
   "execution_count": null,
   "id": "b7d07a99",
   "metadata": {
    "slideshow": {
     "slide_type": "fragment"
    }
   },
   "outputs": [],
   "source": []
  },
  {
   "cell_type": "code",
   "execution_count": null,
   "id": "a3230077",
   "metadata": {
    "slideshow": {
     "slide_type": "fragment"
    }
   },
   "outputs": [],
   "source": []
  },
  {
   "cell_type": "markdown",
   "id": "ab0ae409",
   "metadata": {
    "slideshow": {
     "slide_type": "subslide"
    }
   },
   "source": [
    "- Au-delà d'une dimension il y a une syntaxe différente"
   ]
  },
  {
   "cell_type": "code",
   "execution_count": null,
   "id": "6445c72d",
   "metadata": {},
   "outputs": [],
   "source": [
    "b = np.random.randint(2, 27, size=(5, 7))\n",
    "b"
   ]
  },
  {
   "cell_type": "code",
   "execution_count": null,
   "id": "3b153e83",
   "metadata": {
    "slideshow": {
     "slide_type": "fragment"
    }
   },
   "outputs": [],
   "source": []
  },
  {
   "cell_type": "code",
   "execution_count": null,
   "id": "f6337893",
   "metadata": {
    "slideshow": {
     "slide_type": "fragment"
    }
   },
   "outputs": [],
   "source": []
  },
  {
   "cell_type": "code",
   "execution_count": null,
   "id": "0c4eb218",
   "metadata": {
    "slideshow": {
     "slide_type": "subslide"
    }
   },
   "outputs": [],
   "source": []
  },
  {
   "cell_type": "code",
   "execution_count": null,
   "id": "38be0457",
   "metadata": {
    "slideshow": {
     "slide_type": "fragment"
    }
   },
   "outputs": [],
   "source": []
  },
  {
   "cell_type": "markdown",
   "id": "4daa80c5",
   "metadata": {},
   "source": [
    "- On peut aussi faire des sélections avec des conditions, choses qu'on retrouvera aussi dans ``pandas`` juste après "
   ]
  },
  {
   "cell_type": "code",
   "execution_count": null,
   "id": "238792f1",
   "metadata": {},
   "outputs": [],
   "source": [
    "a = np.array([5, 6, 7, 8, 9, 10])\n",
    "a"
   ]
  },
  {
   "cell_type": "code",
   "execution_count": null,
   "id": "b9eb3cd1",
   "metadata": {},
   "outputs": [],
   "source": []
  },
  {
   "cell_type": "markdown",
   "id": "6ae76b14",
   "metadata": {
    "slideshow": {
     "slide_type": "slide"
    }
   },
   "source": [
    "## Changer de dimension"
   ]
  },
  {
   "cell_type": "code",
   "execution_count": null,
   "id": "9882e203",
   "metadata": {},
   "outputs": [],
   "source": [
    "c = np.arange(9)\n"
   ]
  },
  {
   "cell_type": "markdown",
   "id": "646a70f1",
   "metadata": {
    "slideshow": {
     "slide_type": "fragment"
    }
   },
   "source": [
    "J'en fais une matrice de 2 lignes et 3 colonnes"
   ]
  },
  {
   "cell_type": "code",
   "execution_count": null,
   "id": "4f2567c7",
   "metadata": {},
   "outputs": [],
   "source": []
  },
  {
   "cell_type": "markdown",
   "id": "c700e44e",
   "metadata": {
    "slideshow": {
     "slide_type": "subslide"
    }
   },
   "source": [
    "On revient à une dimension"
   ]
  },
  {
   "cell_type": "code",
   "execution_count": null,
   "id": "d149572f",
   "metadata": {},
   "outputs": [],
   "source": []
  },
  {
   "cell_type": "markdown",
   "id": "e10077aa",
   "metadata": {
    "slideshow": {
     "slide_type": "fragment"
    }
   },
   "source": [
    "Hop, on ajoute une dimension"
   ]
  },
  {
   "cell_type": "code",
   "execution_count": null,
   "id": "575dabc4",
   "metadata": {},
   "outputs": [],
   "source": [
    "c = c[:, np.newaxis]"
   ]
  },
  {
   "cell_type": "code",
   "execution_count": null,
   "id": "b9a68a29-ed97-4d3e-86bc-927b49a0209f",
   "metadata": {},
   "outputs": [],
   "source": [
    "c"
   ]
  },
  {
   "cell_type": "markdown",
   "id": "b6db8176",
   "metadata": {
    "slideshow": {
     "slide_type": "fragment"
    }
   },
   "source": [
    "Transposition (lignes deviennent colonnes et colonnes deviennent lignes)"
   ]
  },
  {
   "cell_type": "code",
   "execution_count": null,
   "id": "947c2995",
   "metadata": {},
   "outputs": [],
   "source": []
  },
  {
   "cell_type": "markdown",
   "id": "1e1c7427",
   "metadata": {
    "slideshow": {
     "slide_type": "slide"
    }
   },
   "source": [
    "## Opérations\n",
    "\n",
    "- Les trucs classiques"
   ]
  },
  {
   "cell_type": "code",
   "execution_count": null,
   "id": "6cc5120c",
   "metadata": {},
   "outputs": [],
   "source": [
    "a = np.array([5, 6, 7, 8, 9, 10])\n",
    "a"
   ]
  },
  {
   "cell_type": "code",
   "execution_count": null,
   "id": "b867ec2f-9ceb-4687-95d6-5758c164a561",
   "metadata": {},
   "outputs": [],
   "source": [
    "liste = [5, 6, 7, 8, 9, 10]"
   ]
  },
  {
   "cell_type": "code",
   "execution_count": null,
   "id": "34420b64",
   "metadata": {},
   "outputs": [],
   "source": []
  },
  {
   "cell_type": "code",
   "execution_count": null,
   "id": "9886f13f",
   "metadata": {
    "slideshow": {
     "slide_type": "subslide"
    }
   },
   "outputs": [],
   "source": []
  },
  {
   "cell_type": "code",
   "execution_count": null,
   "id": "facfd4f9",
   "metadata": {},
   "outputs": [],
   "source": []
  },
  {
   "cell_type": "code",
   "execution_count": null,
   "id": "c59aeedd",
   "metadata": {},
   "outputs": [],
   "source": []
  },
  {
   "cell_type": "markdown",
   "id": "40c05099",
   "metadata": {
    "slideshow": {
     "slide_type": "subslide"
    }
   },
   "source": [
    "- Opérations sur *array* à une dimension\n"
   ]
  },
  {
   "cell_type": "code",
   "execution_count": null,
   "id": "979b4d9d",
   "metadata": {
    "slideshow": {
     "slide_type": "-"
    }
   },
   "outputs": [],
   "source": [
    "c = np.arange(10,16)\n",
    "c"
   ]
  },
  {
   "cell_type": "code",
   "execution_count": null,
   "id": "a07ddd5a",
   "metadata": {},
   "outputs": [],
   "source": [
    "a = np.arange(6)\n",
    "a"
   ]
  },
  {
   "cell_type": "code",
   "execution_count": null,
   "id": "cd4e67b7",
   "metadata": {
    "slideshow": {
     "slide_type": "subslide"
    }
   },
   "outputs": [],
   "source": []
  },
  {
   "cell_type": "code",
   "execution_count": null,
   "id": "96c86231",
   "metadata": {},
   "outputs": [],
   "source": []
  },
  {
   "cell_type": "code",
   "execution_count": null,
   "id": "b3b9ce2f",
   "metadata": {},
   "outputs": [],
   "source": []
  },
  {
   "cell_type": "code",
   "execution_count": null,
   "id": "7cdeb355",
   "metadata": {},
   "outputs": [],
   "source": []
  },
  {
   "cell_type": "markdown",
   "id": "d958bf52",
   "metadata": {
    "slideshow": {
     "slide_type": "subslide"
    }
   },
   "source": [
    "- Produit matriciel"
   ]
  },
  {
   "cell_type": "code",
   "execution_count": null,
   "id": "e327eaee",
   "metadata": {},
   "outputs": [],
   "source": [
    "m1 = np.array([[1, 2],[ 3, 4]])\n",
    "m1"
   ]
  },
  {
   "cell_type": "code",
   "execution_count": null,
   "id": "24c6083d",
   "metadata": {},
   "outputs": [],
   "source": [
    "m2 = np.array([[5, 6],[ 7, 8]])\n",
    "m2"
   ]
  },
  {
   "cell_type": "code",
   "execution_count": null,
   "id": "481e7234",
   "metadata": {},
   "outputs": [],
   "source": []
  },
  {
   "cell_type": "code",
   "execution_count": null,
   "id": "65970eda",
   "metadata": {},
   "outputs": [],
   "source": []
  },
  {
   "cell_type": "markdown",
   "id": "d03c6882",
   "metadata": {
    "slideshow": {
     "slide_type": "slide"
    }
   },
   "source": [
    "## Broadcasting\n",
    "\n",
    "Une notion un peu plus compliquée, mais qui sert souvent."
   ]
  },
  {
   "cell_type": "code",
   "execution_count": null,
   "id": "c28dbd5d-4818-44ab-ba94-466c28cba689",
   "metadata": {},
   "outputs": [],
   "source": [
    "a = np.array([[1, 2, 3], [5, 6, 7], [9, 10, 11]])\n",
    "a"
   ]
  },
  {
   "cell_type": "code",
   "execution_count": null,
   "id": "6744ce3c-c6ad-45d1-842c-8b2c0fffd14a",
   "metadata": {},
   "outputs": [],
   "source": [
    "a.shape"
   ]
  },
  {
   "cell_type": "code",
   "execution_count": null,
   "id": "a7408270",
   "metadata": {},
   "outputs": [],
   "source": [
    "c = np.array([2, 4, 8])\n",
    "c"
   ]
  },
  {
   "cell_type": "code",
   "execution_count": null,
   "id": "acef2053-18ae-4e29-9dd0-f512eb4c37d3",
   "metadata": {},
   "outputs": [],
   "source": [
    "c.shape"
   ]
  },
  {
   "cell_type": "code",
   "execution_count": null,
   "id": "beac5dd0",
   "metadata": {},
   "outputs": [],
   "source": [
    "a+c"
   ]
  },
  {
   "cell_type": "markdown",
   "id": "b49a6506",
   "metadata": {
    "slideshow": {
     "slide_type": "subslide"
    }
   },
   "source": [
    "Explication : si un des tableaux a moins de dimensions que l'autre, Numpy fait automatiquement la\n",
    "conversion pour que tout se passe comme si on avait ajouté par"
   ]
  },
  {
   "cell_type": "code",
   "execution_count": null,
   "id": "ec97d66e",
   "metadata": {},
   "outputs": [],
   "source": [
    "np.broadcast_to(c, [3,3])"
   ]
  },
  {
   "cell_type": "markdown",
   "id": "5f99d1ef",
   "metadata": {},
   "source": [
    "Ajouter un tableau à une dimension revient donc à ajouter colonne par colonne"
   ]
  },
  {
   "cell_type": "code",
   "execution_count": null,
   "id": "eb3cdfed",
   "metadata": {},
   "outputs": [],
   "source": [
    "a*-1"
   ]
  },
  {
   "cell_type": "markdown",
   "id": "523cc775",
   "metadata": {},
   "source": [
    "À [lire la doc](https://numpy.org/doc/stable/user/basics.broadcasting.html).\n"
   ]
  },
  {
   "cell_type": "markdown",
   "id": "17bd2e9b",
   "metadata": {
    "slideshow": {
     "slide_type": "slide"
    }
   },
   "source": [
    "## Matplotlib\n",
    "\n",
    "Les deux packages sont très copains, c'est très simple d'afficher des graphiques à partir de données\n",
    "NumPy. Installez-le d'abord si c'est nécessaire, vous savez faire, maintenant."
   ]
  },
  {
   "cell_type": "code",
   "execution_count": null,
   "id": "fac50149",
   "metadata": {},
   "outputs": [],
   "source": [
    "import matplotlib.pyplot as plt"
   ]
  },
  {
   "cell_type": "code",
   "execution_count": null,
   "id": "8e37fcf2",
   "metadata": {},
   "outputs": [],
   "source": []
  },
  {
   "cell_type": "code",
   "execution_count": null,
   "id": "1a13952f",
   "metadata": {
    "slideshow": {
     "slide_type": "subslide"
    }
   },
   "outputs": [],
   "source": []
  },
  {
   "cell_type": "markdown",
   "id": "e62707c5",
   "metadata": {
    "slideshow": {
     "slide_type": "subslide"
    }
   },
   "source": [
    "En plus des graphiques, matplotlib permet plus généralement d'afficher des choses. Comme des images par exemple"
   ]
  },
  {
   "cell_type": "markdown",
   "id": "34e90c10",
   "metadata": {},
   "source": [
    "`plt.imread` permet de changer un fichier image en objet python… devinez lequel"
   ]
  },
  {
   "cell_type": "code",
   "execution_count": null,
   "id": "14a60948-af56-43cd-9df1-6564b5d921ed",
   "metadata": {},
   "outputs": [],
   "source": []
  },
  {
   "cell_type": "markdown",
   "id": "597563f4",
   "metadata": {
    "slideshow": {
     "slide_type": "subslide"
    }
   },
   "source": [
    "Bingo, un *array* Numpy. Dans les faites, chaque image est une somme de pixels, eux-mêmes étant des petits array de dim 1 "
   ]
  },
  {
   "cell_type": "code",
   "execution_count": null,
   "id": "b8e12cb1",
   "metadata": {},
   "outputs": [],
   "source": []
  },
  {
   "cell_type": "code",
   "execution_count": null,
   "id": "c44ea886",
   "metadata": {},
   "outputs": [],
   "source": []
  },
  {
   "cell_type": "markdown",
   "id": "d2b4687b",
   "metadata": {},
   "source": [
    "Un *array* à trois dimensions : X, Y (les coordonnées du pixel) et la valeur RGB du pixel\n",
    "\n",
    "Le pixel `(200, 200)` par exemple est un *array* de 3 éléments `(r,g,b)` :"
   ]
  },
  {
   "cell_type": "code",
   "execution_count": null,
   "id": "374de7e2",
   "metadata": {},
   "outputs": [],
   "source": []
  },
  {
   "cell_type": "code",
   "execution_count": null,
   "id": "3ba5bcab-9e48-42af-b345-e30a9f53a900",
   "metadata": {},
   "outputs": [],
   "source": []
  },
  {
   "cell_type": "markdown",
   "id": "2585f493",
   "metadata": {
    "slideshow": {
     "slide_type": "subslide"
    }
   },
   "source": [
    "On peut afficher l'image"
   ]
  },
  {
   "cell_type": "code",
   "execution_count": null,
   "id": "f45e0618",
   "metadata": {},
   "outputs": [],
   "source": []
  },
  {
   "cell_type": "markdown",
   "id": "7af22c6a",
   "metadata": {
    "slideshow": {
     "slide_type": "subslide"
    }
   },
   "source": [
    "si je ne prends que la valeur de R dans RGB j'obtiens des niveaux de bleu / vert (ça marche aussi pour G ou\n",
    "B)"
   ]
  },
  {
   "cell_type": "code",
   "execution_count": null,
   "id": "8946fae3",
   "metadata": {},
   "outputs": [],
   "source": []
  },
  {
   "cell_type": "code",
   "execution_count": null,
   "id": "d0683699",
   "metadata": {},
   "outputs": [],
   "source": []
  },
  {
   "cell_type": "markdown",
   "id": "400b0a49",
   "metadata": {
    "slideshow": {
     "slide_type": "subslide"
    }
   },
   "source": [
    "Si vous voulez en savoir plus je vous invite à consulter les pages suivantes :\n",
    "\n",
    "- <https://matplotlib.org/tutorials/introductory/images.html>\n",
    "- <https://www.degeneratestate.org/posts/2016/Oct/23/image-processing-with-numpy/>"
   ]
  },
  {
   "cell_type": "markdown",
   "id": "4b190e04",
   "metadata": {
    "slideshow": {
     "slide_type": "slide"
    }
   },
   "source": [
    "## Exercices avec NumPy\n",
    "\n",
    "### Exercice 1 : Création d'un tableau Numpy\n",
    "**Enoncé :** Créez un tableau Numpy contenant 5 entiers aléatoires entre 1 et 10.\n",
    "\n",
    "### Exercice 2 : Opérations arithmétiques\n",
    "**Enoncé :** Créez deux tableaux Numpy de même forme (par exemple, 2x3) et effectuez une opération d'addition entre les deux.\n",
    "\n",
    "### Exercice 3 : Fonctions mathématiques\n",
    "**Enoncé :** Générez un tableau Numpy contenant des angles en radians (par exemple, [0, π/2, π, 3π/2]) et calculez les valeurs du sinus de chaque angle.\n",
    "\n",
    "### Exercice 4 : Indexation et découpage\n",
    "**Enoncé :** Créez un tableau Numpy 1D et affichez uniquement les éléments dont la valeur est supérieure à 5.\n",
    "\n",
    "### Exercice 5 : Manipulation de forme (reshape)\n",
    "**Enoncé :** Créez un tableau Numpy 1D avec 12 éléments et modifiez sa forme pour en faire une matrice 3x4.\n"
   ]
  },
  {
   "cell_type": "code",
   "execution_count": null,
   "id": "258d086c-80c9-4777-993f-65d17d79c680",
   "metadata": {},
   "outputs": [],
   "source": []
  },
  {
   "cell_type": "code",
   "execution_count": null,
   "id": "3691d9d2-00d5-480f-aef7-6e0ea3a6e7b6",
   "metadata": {},
   "outputs": [],
   "source": []
  },
  {
   "cell_type": "code",
   "execution_count": null,
   "id": "8d689068-dfda-4432-bbe8-16aa963ba462",
   "metadata": {},
   "outputs": [],
   "source": [
    "\n"
   ]
  },
  {
   "cell_type": "code",
   "execution_count": null,
   "id": "1cfc8800-331d-4d2a-89cd-be0d63d5fd4d",
   "metadata": {},
   "outputs": [],
   "source": []
  },
  {
   "cell_type": "code",
   "execution_count": null,
   "id": "86f2dd07-78b9-4aab-a184-2bac792bd096",
   "metadata": {},
   "outputs": [],
   "source": [
    "\n"
   ]
  },
  {
   "cell_type": "code",
   "execution_count": null,
   "id": "2898ec4e-2867-4d9a-a281-2845ccef0751",
   "metadata": {},
   "outputs": [],
   "source": [
    "\n"
   ]
  },
  {
   "cell_type": "code",
   "execution_count": null,
   "id": "0caf1b39-c0a3-40a6-b00b-c6e902e6adf8",
   "metadata": {},
   "outputs": [],
   "source": []
  },
  {
   "cell_type": "code",
   "execution_count": null,
   "id": "a9c576a6-1c0d-434b-859b-77c793c67cd8",
   "metadata": {},
   "outputs": [],
   "source": []
  }
 ],
 "metadata": {
  "jupytext": {
   "formats": "ipynb,md",
   "split_at_heading": true
  },
  "kernelspec": {
   "display_name": "base",
   "language": "python",
   "name": "python3"
  },
  "language_info": {
   "codemirror_mode": {
    "name": "ipython",
    "version": 3
   },
   "file_extension": ".py",
   "mimetype": "text/x-python",
   "name": "python",
   "nbconvert_exporter": "python",
   "pygments_lexer": "ipython3",
   "version": "3.12.2"
  }
 },
 "nbformat": 4,
 "nbformat_minor": 5
}
