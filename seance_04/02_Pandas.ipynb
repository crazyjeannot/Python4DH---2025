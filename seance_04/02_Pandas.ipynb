{
 "cells": [
  {
   "cell_type": "markdown",
   "id": "5517bd97-9649-4e01-8877-eb9b4fa601a3",
   "metadata": {},
   "source": [
    "# Bases de Pandas\n",
    "\n",
    "Dans cette leçon, nous allons introduire quelques notions fondamentales supplémentaires de [Pandas](https://pandas.pydata.org/pandas-docs/stable/getting_started/overview.html), une puissante bibliothèque Python pour travailler avec des données tabulaires telles que des fichiers CSV.\n",
    "\n",
    "Nous allons revoir les compétences apprises lors de la dernière leçon et introduire comment :\n",
    "\n",
    "* Examiner largement les données\n",
    "* Travailler avec des données manquantes\n",
    "* Renommer, supprimer et ajouter de nouvelles colonnes\n",
    "* Effectuer des calculs mathématiques\n",
    "* Agréger des sous-ensembles de données"
   ]
  },
  {
   "cell_type": "code",
   "execution_count": null,
   "id": "94666632-b96a-4ae3-9653-69d81c15aa86",
   "metadata": {},
   "outputs": [],
   "source": [
    "import pandas as pd"
   ]
  },
  {
   "cell_type": "code",
   "execution_count": null,
   "id": "4ec54a29-8a34-46e0-8661-9370429aa2d0",
   "metadata": {},
   "outputs": [],
   "source": [
    "l = [{'date': '2022-02-12', 'prix': '220', 'devise':'euros'},\n",
    "     {'date': '2022-02-13', 'prix': '10', 'devise':'euros'},\n",
    "     {'date': '2022-02-16', 'prix': '30', 'devise':'euros'}]\n",
    "\n"
   ]
  },
  {
   "cell_type": "code",
   "execution_count": null,
   "id": "f2845215",
   "metadata": {},
   "outputs": [],
   "source": []
  },
  {
   "cell_type": "code",
   "execution_count": null,
   "id": "7857cb3c",
   "metadata": {},
   "outputs": [],
   "source": []
  },
  {
   "cell_type": "code",
   "execution_count": null,
   "id": "ea6e4ef8",
   "metadata": {},
   "outputs": [],
   "source": []
  },
  {
   "cell_type": "markdown",
   "id": "98d93ec2-9194-47c3-afbe-ce3025d956d4",
   "metadata": {},
   "source": [
    "## Lire des CSV"
   ]
  },
  {
   "cell_type": "markdown",
   "id": "a8309e41",
   "metadata": {},
   "source": [
    "Les fichiers ``.csv`` (*comma separated values*) sont des fichiers tabulaires (des tableaux) où les valeurs sont séparées par les virgules (ou des points virgules en fonction). \n",
    "\n",
    "Dans l'idée c'est la version épurée d'un fichier excel. C'est le format de base de beaucoup de projet !\n",
    "\n",
    "Pour lire un fichier ``.csv`` pandas utilise la méthode ``pd.read_csv()``\n"
   ]
  },
  {
   "cell_type": "code",
   "execution_count": null,
   "id": "c3c846dc",
   "metadata": {},
   "outputs": [],
   "source": []
  },
  {
   "cell_type": "code",
   "execution_count": null,
   "id": "62906fc4-5960-4521-9bd2-56def795510c",
   "metadata": {},
   "outputs": [],
   "source": []
  },
  {
   "cell_type": "code",
   "execution_count": null,
   "id": "08c8472b-2215-4b45-bea4-9c9022907974",
   "metadata": {},
   "outputs": [],
   "source": []
  },
  {
   "cell_type": "markdown",
   "id": "4ede1b08-312e-488a-997d-bf29956d7df0",
   "metadata": {},
   "source": [
    "### Affiche"
   ]
  },
  {
   "cell_type": "code",
   "execution_count": null,
   "id": "a387d237-708c-4bfe-9f5b-1b6c1e8c451e",
   "metadata": {},
   "outputs": [],
   "source": []
  },
  {
   "cell_type": "code",
   "execution_count": null,
   "id": "c254bf9f-f314-43c6-a812-e211ffe62d03",
   "metadata": {},
   "outputs": [],
   "source": []
  },
  {
   "cell_type": "code",
   "execution_count": null,
   "id": "71eb9545-6aa0-4e95-8bd2-c7c43a7d64dc",
   "metadata": {},
   "outputs": [],
   "source": []
  },
  {
   "cell_type": "code",
   "execution_count": null,
   "id": "6a7cc1b5-6f65-4f32-bc59-fe292d399099",
   "metadata": {},
   "outputs": [],
   "source": []
  },
  {
   "cell_type": "markdown",
   "id": "9a5f0601-f097-45dc-8f30-a84ba7e0c115",
   "metadata": {},
   "source": [
    "### Attributs"
   ]
  },
  {
   "cell_type": "code",
   "execution_count": null,
   "id": "8226df0e-ef96-40d4-a872-6b11887dcb9e",
   "metadata": {},
   "outputs": [],
   "source": []
  },
  {
   "cell_type": "code",
   "execution_count": null,
   "id": "35ef90e8-87ec-48c1-ae7d-ff35881e3e21",
   "metadata": {},
   "outputs": [],
   "source": []
  },
  {
   "cell_type": "code",
   "execution_count": null,
   "id": "4d88861b-72a6-4a03-a3cd-563d3da68772",
   "metadata": {},
   "outputs": [],
   "source": []
  },
  {
   "cell_type": "code",
   "execution_count": null,
   "id": "acce5e57-8c50-4d17-998d-fec17b8b0bda",
   "metadata": {},
   "outputs": [],
   "source": []
  },
  {
   "cell_type": "code",
   "execution_count": null,
   "id": "5c499dca-e3a4-486d-95c2-9776391841df",
   "metadata": {},
   "outputs": [],
   "source": []
  },
  {
   "cell_type": "markdown",
   "id": "41c38317-800e-4526-a400-990b39fb0841",
   "metadata": {},
   "source": [
    "## Methodes de Pandas\n",
    "\n",
    "| Méthode Pandas | Explication                                       |\n",
    "|---------------|---------------------------------------------------|\n",
    "| `.sum()`      | Somme des valeurs                                 |\n",
    "| `.mean()`     | Moyenne des valeurs                               |\n",
    "| `.median()`   | Médiane des valeurs                               |\n",
    "| `.min()`      | Minimum                                           |\n",
    "| `.max()`      | Maximum                                           |\n",
    "| `.mode()`     | Mode                                              |\n",
    "| `.std()`      | Écart-type non biaisé                             |\n",
    "| `.count()`    | Nombre total de valeurs non vides                  |\n",
    "| `.value_counts()` | Fréquence des valeurs uniques                    |\n",
    "| `.groupby()`  | Division des données en groupes basés sur des critères spécifiques. Permet d'appliquer des opérations sur ces groupes. |\n",
    "| `.sort_values()` | Trie les valeurs dans un DataFrame ou une Series. |\n",
    "| `.describe()` | Génère des statistiques descriptives pour les données, comme la moyenne, l'écart-type et les quartiles. |"
   ]
  },
  {
   "cell_type": "code",
   "execution_count": null,
   "id": "b082fe33-3a83-47e6-ab55-e3a419897a8b",
   "metadata": {},
   "outputs": [],
   "source": []
  },
  {
   "cell_type": "code",
   "execution_count": null,
   "id": "ddfd6692",
   "metadata": {},
   "outputs": [],
   "source": []
  },
  {
   "cell_type": "code",
   "execution_count": null,
   "id": "09fb61b6",
   "metadata": {},
   "outputs": [],
   "source": []
  },
  {
   "cell_type": "code",
   "execution_count": null,
   "id": "770afe92",
   "metadata": {},
   "outputs": [],
   "source": []
  },
  {
   "cell_type": "code",
   "execution_count": null,
   "id": "6cdff00c",
   "metadata": {},
   "outputs": [],
   "source": []
  },
  {
   "cell_type": "markdown",
   "id": "b6c5ffd7-fc58-475c-ad68-6ef8ae896e36",
   "metadata": {},
   "source": [
    "## + graphiques à partir de Pandas (semaine prochaine)"
   ]
  },
  {
   "cell_type": "code",
   "execution_count": null,
   "id": "661af276-a07c-45b4-8056-6e0fc4aed140",
   "metadata": {},
   "outputs": [],
   "source": [
    "df2.groupby('date')['doc_name'].count().plot(title='Nombre de Romans par an')"
   ]
  },
  {
   "cell_type": "code",
   "execution_count": null,
   "id": "468c32cf-98c7-4caf-aa09-3b230e626ecc",
   "metadata": {},
   "outputs": [],
   "source": [
    "df2[:1]"
   ]
  },
  {
   "cell_type": "markdown",
   "id": "bb5dd04f-b992-4c18-8794-0c37ccc32a66",
   "metadata": {},
   "source": [
    "### Exercices !\n",
    "\n",
    "x/ Afficher le dataframe du roman 'pauvre blaise'\n",
    "\n",
    "x/ Afficher le dataframe de l'auteur 'romain gary'\n",
    "\n",
    "x/ Afficher le dataframe des auteurs morts avant 1865\n",
    "\n",
    "x/ Afficher le dataframe des autrices femmes qui sont canoniques \n",
    "\n",
    "x/ Afficher le dataframe des autrices femmes qui sont canoniques avant 1878"
   ]
  },
  {
   "cell_type": "code",
   "execution_count": null,
   "id": "b6aa43d1-920e-43cd-b809-0b8e7a65933c",
   "metadata": {},
   "outputs": [],
   "source": []
  }
 ],
 "metadata": {
  "kernelspec": {
   "display_name": "Python 3 (ipykernel)",
   "language": "python",
   "name": "python3"
  },
  "language_info": {
   "codemirror_mode": {
    "name": "ipython",
    "version": 3
   },
   "file_extension": ".py",
   "mimetype": "text/x-python",
   "name": "python",
   "nbconvert_exporter": "python",
   "pygments_lexer": "ipython3",
   "version": "3.12.3"
  }
 },
 "nbformat": 4,
 "nbformat_minor": 5
}
