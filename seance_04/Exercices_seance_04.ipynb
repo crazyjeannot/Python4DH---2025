{
 "cells": [
  {
   "cell_type": "markdown",
   "id": "522b32e4-2176-4a92-99ba-f7529735117f",
   "metadata": {},
   "source": [
    "## Exercices avec NumPy\n",
    "\n",
    "### 1 : Création d'un tableau Numpy\n",
    "**Enoncé :** Créez un tableau Numpy contenant 5 entiers aléatoires entre 1 et 10 (inclus).\n",
    "\n",
    "### 2 : Opérations arithmétiques\n",
    "**Enoncé :** Créez deux tableaux Numpy de même forme (par exemple, 2x3, par la méthode que vous souhaitez) et effectuez une opération d'addition entre les deux.\n",
    "\n",
    "### 3 : Indexation et découpage\n",
    "**Enoncé :** Créez un tableau Numpy 1D et affichez uniquement les éléments dont la valeur est supérieure à 5.\n",
    "\n",
    "### 4 : Manipulation de forme (reshape)\n",
    "**Enoncé :** Créez un tableau Numpy 1D avec 12 éléments et modifiez sa forme pour en faire une matrice 3x4.\n",
    "\n",
    "### 5 : Manipulation avancée\n",
    "**Enoncé :** Créez une matrice NumPy 3x4 avec des valeurs générées aléatoirement entre 1 et 10. Ensuite, remplacez toutes les valeurs impaires par zéro.\n",
    "\n"
   ]
  },
  {
   "cell_type": "code",
   "execution_count": null,
   "id": "b7c1fc87",
   "metadata": {},
   "outputs": [],
   "source": []
  },
  {
   "cell_type": "code",
   "execution_count": null,
   "id": "0a0c3d2a",
   "metadata": {},
   "outputs": [],
   "source": []
  },
  {
   "cell_type": "code",
   "execution_count": null,
   "id": "10b024f2",
   "metadata": {},
   "outputs": [],
   "source": []
  },
  {
   "cell_type": "code",
   "execution_count": null,
   "id": "736839d5",
   "metadata": {},
   "outputs": [],
   "source": []
  },
  {
   "cell_type": "markdown",
   "id": "1ba9c8e8-946f-43b8-a121-d5ae95aeb2d4",
   "metadata": {},
   "source": [
    "## Exercices avec Pandas\n",
    "\n",
    "**Lire le datadrame comme dans le notebook du cours : df_corpus = pd.read_csv('chemin/vers/data_corpus.csv')**\n",
    "\n",
    "### 1 : Afficher le dataframe du roman 'pauvre blaise'\n",
    "\n",
    "### 2 : Afficher le dataframe de l'auteur 'romain gary'\n",
    "\n",
    "### 3 : Afficher le dataframe des auteurs morts avant 1865\n",
    "\n",
    "### 4 : Afficher le dataframe des autrices femmes qui sont canoniques \n",
    "\n",
    "### 5 : Afficher le dataframe des autrices femmes qui sont canoniques avant 1878\n"
   ]
  },
  {
   "cell_type": "code",
   "execution_count": null,
   "id": "4d87df6f",
   "metadata": {},
   "outputs": [],
   "source": []
  },
  {
   "cell_type": "code",
   "execution_count": null,
   "id": "3aebff52",
   "metadata": {},
   "outputs": [],
   "source": []
  },
  {
   "cell_type": "code",
   "execution_count": null,
   "id": "d9d76495",
   "metadata": {},
   "outputs": [],
   "source": []
  },
  {
   "cell_type": "code",
   "execution_count": null,
   "id": "6f743895",
   "metadata": {},
   "outputs": [],
   "source": []
  },
  {
   "cell_type": "code",
   "execution_count": null,
   "id": "50e099c0",
   "metadata": {},
   "outputs": [],
   "source": []
  }
 ],
 "metadata": {
  "kernelspec": {
   "display_name": "base",
   "language": "python",
   "name": "python3"
  },
  "language_info": {
   "codemirror_mode": {
    "name": "ipython",
    "version": 3
   },
   "file_extension": ".py",
   "mimetype": "text/x-python",
   "name": "python",
   "nbconvert_exporter": "python",
   "pygments_lexer": "ipython3",
   "version": "3.12.2"
  }
 },
 "nbformat": 4,
 "nbformat_minor": 5
}
