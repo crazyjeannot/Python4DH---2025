{
 "cells": [
  {
   "cell_type": "markdown",
   "id": "afce4f35-a5d9-4337-b75b-aece3d7fe397",
   "metadata": {},
   "source": [
    "# Listes"
   ]
  },
  {
   "cell_type": "markdown",
   "id": "e8e99609-ec23-4278-81c5-a4eca85402e1",
   "metadata": {},
   "source": [
    "Les listes en Python sont un type de collection qui vous permet de stocker plusieurs éléments dans un ordre séquentiel. Vous pouvez ajouter, supprimer, ou accéder aux éléments d'une liste en utilisant des index. Les listes sont très flexibles et polyvalentes, ce qui les rend utiles pour de nombreuses tâches différentes en programmation : par exemple, on peut mettre plusierus fois certains objets, on peut mélanger les types etc..."
   ]
  },
  {
   "cell_type": "code",
   "execution_count": null,
   "id": "18f35e6b-bcff-4d42-a2fe-e77f2a7453c6",
   "metadata": {},
   "outputs": [],
   "source": []
  },
  {
   "cell_type": "code",
   "execution_count": null,
   "id": "711a84c1",
   "metadata": {},
   "outputs": [],
   "source": []
  },
  {
   "cell_type": "code",
   "execution_count": null,
   "id": "6c59e918",
   "metadata": {},
   "outputs": [],
   "source": []
  },
  {
   "cell_type": "code",
   "execution_count": null,
   "id": "a11c3205",
   "metadata": {},
   "outputs": [],
   "source": []
  },
  {
   "cell_type": "markdown",
   "id": "bf72a0c7-5180-482d-995b-9426b7778173",
   "metadata": {},
   "source": [
    "## Index"
   ]
  },
  {
   "cell_type": "code",
   "execution_count": null,
   "id": "c0e97436",
   "metadata": {},
   "outputs": [],
   "source": []
  },
  {
   "cell_type": "code",
   "execution_count": null,
   "id": "e8c5bd6c",
   "metadata": {},
   "outputs": [],
   "source": []
  },
  {
   "cell_type": "code",
   "execution_count": null,
   "id": "3f9f6031",
   "metadata": {},
   "outputs": [],
   "source": []
  },
  {
   "cell_type": "markdown",
   "id": "1df2f5b6-39ee-4700-8dca-05f64e83aa97",
   "metadata": {},
   "source": [
    "## Slice\n",
    "\n",
    "En utilisant des index spécifiques entre ces deux deux-points, vous pouvez découper la liste à des points de départ et d'arrêt spécifiques, et vous pouvez également \"sauter\" par différentes quantités, c'est-à-dire que vous pouvez avancer d'un certain nombre dans la liste et prendre seulement chaque n-ième élément de la liste (par exemple, chaque 3ème élément).\n",
    "\n",
    "`liste[debut:fin:etape]`"
   ]
  },
  {
   "cell_type": "code",
   "execution_count": null,
   "id": "aed9e0fc-13f3-4310-bf6c-3a9cc21be28a",
   "metadata": {},
   "outputs": [],
   "source": []
  },
  {
   "cell_type": "markdown",
   "id": "768c3820-57e6-4467-958a-44e0e5c5f6a8",
   "metadata": {},
   "source": [
    "#### Reverse"
   ]
  },
  {
   "cell_type": "markdown",
   "id": "7132449b-967b-4f98-8d85-7116494113bc",
   "metadata": {},
   "source": [
    "## Méthode de liste"
   ]
  },
  {
   "cell_type": "code",
   "execution_count": null,
   "id": "91d86721",
   "metadata": {},
   "outputs": [],
   "source": []
  },
  {
   "cell_type": "code",
   "execution_count": null,
   "id": "03cb2430",
   "metadata": {},
   "outputs": [],
   "source": []
  },
  {
   "cell_type": "code",
   "execution_count": null,
   "id": "cf5a7a2c",
   "metadata": {},
   "outputs": [],
   "source": []
  },
  {
   "cell_type": "markdown",
   "id": "2180b6ea-38a7-489a-96f0-666294706280",
   "metadata": {},
   "source": [
    "Les listes ont beaucoup de méthode de liste spécifiques, comme par exemple pour ajouter des éléments dans la liste\n",
    "\n",
    "| **Méthode de liste** | **Explication**                                                                                   |\n",
    "|-------------|---------------------------------------------------------------------------------------------------|\n",
    "| `liste.append(autre_element)`          | ajoute un nouvel élément à la fin de la liste                                                                                |\n",
    "| `liste.extend(autre_liste)`        | ajoute les éléments de `autre_liste` à la liste actuelle                                             |\n",
    "| `liste.remove(element)`        | supprime la première occurrence de l'élément                                                       |\n",
    "| `liste.sort(reverse=False)`       | trie la liste dans l'ordre spécifié, par défaut, dans l'ordre croissant          |\n",
    "| `liste.reverse()`       | inverse l'ordre de la liste                                                                          |\n",
    "\n",
    "\n",
    "Essayons tout ça !!"
   ]
  },
  {
   "cell_type": "code",
   "execution_count": null,
   "id": "2e872c2c",
   "metadata": {},
   "outputs": [],
   "source": []
  },
  {
   "cell_type": "code",
   "execution_count": null,
   "id": "7ee6066a",
   "metadata": {},
   "outputs": [],
   "source": []
  },
  {
   "cell_type": "code",
   "execution_count": null,
   "id": "f117eed9",
   "metadata": {},
   "outputs": [],
   "source": []
  }
 ],
 "metadata": {
  "kernelspec": {
   "display_name": "base",
   "language": "python",
   "name": "python3"
  },
  "language_info": {
   "codemirror_mode": {
    "name": "ipython",
    "version": 3
   },
   "file_extension": ".py",
   "mimetype": "text/x-python",
   "name": "python",
   "nbconvert_exporter": "python",
   "pygments_lexer": "ipython3",
   "version": "3.12.2"
  }
 },
 "nbformat": 4,
 "nbformat_minor": 5
}
