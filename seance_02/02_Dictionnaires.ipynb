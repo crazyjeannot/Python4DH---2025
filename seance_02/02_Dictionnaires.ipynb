{
 "cells": [
  {
   "cell_type": "markdown",
   "id": "e5ed4941-60b0-40e3-b152-566d1592a4d7",
   "metadata": {},
   "source": [
    "# Dictionnaires"
   ]
  },
  {
   "cell_type": "code",
   "execution_count": null,
   "id": "240f143f-fa37-40d8-99d5-bb8fe11ca3cb",
   "metadata": {},
   "outputs": [],
   "source": [
    "bovary_nom = 'Emma Bovary'\n",
    "bovary_age = 27\n",
    "bovary_maladie = 'dépressive'\n",
    "bovary_profession = 'idealiste'\n",
    "bovary_genre = 'f'\n",
    "bovary_enfants = 'Berthe'"
   ]
  },
  {
   "cell_type": "markdown",
   "id": "87dfb590-6586-44cd-b634-10b63149d83c",
   "metadata": {},
   "source": [
    "#### Pas très pratique.. Mais on peut déclarer le tout en un seul dictionnaire !"
   ]
  },
  {
   "cell_type": "code",
   "execution_count": null,
   "id": "79493240-7b89-4783-a5fb-b2904ec99ac6",
   "metadata": {},
   "outputs": [],
   "source": [
    "emma = {\"prenom\": \"Emma\",\n",
    "        \"nom\": \"Bovary\",\n",
    "        \"age\": 27,\n",
    "        \"maladie\": 'dépressive',\n",
    "        \"profession\": \"idealiste\",\n",
    "        \"genre\": 'f',\n",
    "        \"enfants\": \"Berthe\"}"
   ]
  },
  {
   "cell_type": "markdown",
   "id": "6ae57c3d-38e5-4f19-97d3-6acfc627391a",
   "metadata": {},
   "source": [
    "### Clé - Valeur "
   ]
  },
  {
   "cell_type": "markdown",
   "id": "df898bad-72bf-4676-837e-4eb356d12a82",
   "metadata": {},
   "source": [
    "Un dictionnaire est composé de paires \"clé\"-\"valeur\", qui sont séparées par deux-points `:` et de différentes paires clé-valeur par des virgules `,`. Un dictionnaire est toujours encadré par des accolades `{}`."
   ]
  },
  {
   "cell_type": "code",
   "execution_count": null,
   "id": "ec1a1aad-4fc0-4e92-8e89-877c48738e30",
   "metadata": {},
   "outputs": [],
   "source": [
    "emma"
   ]
  },
  {
   "cell_type": "markdown",
   "id": "bf0665a9-c7f2-4a2b-906e-632f6a654a48",
   "metadata": {},
   "source": [
    "Vous pouvez vérifier toutes les clés d'un dictionnaire en utilisant la méthode `.keys()` ou toutes les valeurs d'un dictionnaire en utilisant la méthode `.values()`."
   ]
  },
  {
   "cell_type": "code",
   "execution_count": null,
   "id": "5b82cd6c",
   "metadata": {},
   "outputs": [],
   "source": []
  },
  {
   "cell_type": "code",
   "execution_count": null,
   "id": "8847786f",
   "metadata": {},
   "outputs": [],
   "source": []
  },
  {
   "cell_type": "code",
   "execution_count": null,
   "id": "4d8ea21b",
   "metadata": {},
   "outputs": [],
   "source": []
  },
  {
   "cell_type": "markdown",
   "id": "8d14ad3b-6b73-4e81-9c62-4d0aeeb9bcef",
   "metadata": {},
   "source": [
    "### Accéder aux éléments\n",
    "\n",
    "Vous pouvez accéder à une valeur dans un dictionnaire en utilisant des crochets `[]` et le nom de la clé (un peu comme nous avons indexé une chaîne de caractères ou une liste).\n"
   ]
  },
  {
   "cell_type": "code",
   "execution_count": null,
   "id": "bdce3667-8b52-4fb3-876e-8d0ad894fc5a",
   "metadata": {},
   "outputs": [],
   "source": [
    "emma"
   ]
  },
  {
   "cell_type": "code",
   "execution_count": null,
   "id": "7be62fb3-de56-4823-af80-9cd3677c4198",
   "metadata": {},
   "outputs": [],
   "source": [
    "type(emma['age'])"
   ]
  },
  {
   "cell_type": "markdown",
   "id": "cca4d339",
   "metadata": {},
   "source": [
    "Attention néanmoins ! On ne peut pas parcourir le dictionnaire comme une liste (cf. notebook suivant) ou une chaîne de caractère avec un indice (ex: `emma[0]` ne fonctionnera pas). Il faut toujours utiliser la clé pour accéder à la valeur associée."
   ]
  },
  {
   "cell_type": "code",
   "execution_count": null,
   "id": "097da9d1",
   "metadata": {},
   "outputs": [],
   "source": []
  },
  {
   "cell_type": "markdown",
   "id": "d8ff01ee-8419-4315-8e5f-9ecc583ac376",
   "metadata": {},
   "source": [
    "### Changer les éléments"
   ]
  },
  {
   "cell_type": "code",
   "execution_count": null,
   "id": "0da8bb9f",
   "metadata": {},
   "outputs": [],
   "source": []
  },
  {
   "cell_type": "code",
   "execution_count": null,
   "id": "c18d4f86",
   "metadata": {},
   "outputs": [],
   "source": []
  },
  {
   "cell_type": "code",
   "execution_count": null,
   "id": "e67fcb3e",
   "metadata": {},
   "outputs": [],
   "source": []
  },
  {
   "cell_type": "code",
   "execution_count": null,
   "id": "3a7fa201",
   "metadata": {},
   "outputs": [],
   "source": []
  },
  {
   "cell_type": "markdown",
   "id": "7e344023-ebdd-44af-8d37-289166a8c45e",
   "metadata": {},
   "source": [
    "### Dictionnaires Imbriqués"
   ]
  },
  {
   "cell_type": "code",
   "execution_count": null,
   "id": "7d2ae6ef-e830-4be8-8b6d-07d723efe33b",
   "metadata": {},
   "outputs": [],
   "source": [
    "personnes = {\"personne1\":\n",
    "                  {'prenom': 'Emma',\n",
    "                   'nom': 'Bovary',\n",
    "                   'age': 27,\n",
    "                   'maladie': 'dépressive',\n",
    "                   'profession': 'idéaliste',\n",
    "                   'genre': 'f',\n",
    "                   'enfants': 'Berthe'},\n",
    "            \"personne2\":\n",
    "                  {'prenom': 'Arsène',\n",
    "                   'nom': 'Lupin',\n",
    "                   'age': 31,\n",
    "                   'maladie': 'kleptoman',\n",
    "                   'profession': 'gentleman-cambrioleur',\n",
    "                   'genre': 'm',\n",
    "                   'enfants': None}\n",
    "                }"
   ]
  },
  {
   "cell_type": "code",
   "execution_count": null,
   "id": "0eb82f95",
   "metadata": {},
   "outputs": [],
   "source": []
  },
  {
   "cell_type": "code",
   "execution_count": null,
   "id": "7be37fb2",
   "metadata": {},
   "outputs": [],
   "source": []
  },
  {
   "cell_type": "code",
   "execution_count": null,
   "id": "55481eb9",
   "metadata": {},
   "outputs": [],
   "source": []
  }
 ],
 "metadata": {
  "kernelspec": {
   "display_name": "base",
   "language": "python",
   "name": "python3"
  },
  "language_info": {
   "codemirror_mode": {
    "name": "ipython",
    "version": 3
   },
   "file_extension": ".py",
   "mimetype": "text/x-python",
   "name": "python",
   "nbconvert_exporter": "python",
   "pygments_lexer": "ipython3",
   "version": "3.12.2"
  }
 },
 "nbformat": 4,
 "nbformat_minor": 5
}
