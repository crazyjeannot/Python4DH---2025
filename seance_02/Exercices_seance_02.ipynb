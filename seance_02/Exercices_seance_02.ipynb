{
 "cells": [
  {
   "cell_type": "markdown",
   "id": "7d9b59c1-3dad-4f34-a300-23e174b56d3c",
   "metadata": {},
   "source": [
    "# Exercices de programmation Séance 2: \n",
    "\n",
    "## Dictionnaires, Listes, Conditions, Boucle For et +"
   ]
  },
  {
   "cell_type": "markdown",
   "id": "347b0e5f-108b-48f9-a5e0-656f71670b29",
   "metadata": {},
   "source": [
    "### Tâche 1 : Liste et boucle for"
   ]
  },
  {
   "cell_type": "code",
   "execution_count": 1,
   "id": "1fdca061-c504-4835-8597-1487d01bea5f",
   "metadata": {},
   "outputs": [],
   "source": [
    "professions = ['Écrivain','Écrivain','Juge','Artiste','Chercheur','Médecin','Juge','Chercheur','Chercheur', 'Écrivain', 'Artiste', 'Médecin', 'Médecin', 'Chercheur', 'Chercheur', 'Écrivain', 'Chercheur', 'Chercheur','Chercheur', 'Juge', 'Juge', 'Chercheur', 'Chercheur','Médecin','Écrivain','Chercheur','Artiste','Écrivain','Juge','Artiste']"
   ]
  },
  {
   "cell_type": "markdown",
   "id": "40ffb87a-b943-42da-ba84-96fab859372a",
   "metadata": {},
   "source": [
    "__1/__ Faites une nouvelle liste qui inclut seulement les éléments de la liste `professions` qui correspondent à `'Artiste'`. Afficher la longueur de la liste\n"
   ]
  },
  {
   "cell_type": "code",
   "execution_count": null,
   "id": "87fb8fd8-6347-4ea1-9792-f998cf65f249",
   "metadata": {},
   "outputs": [],
   "source": []
  },
  {
   "cell_type": "markdown",
   "id": "34d0202e-4ca7-44a3-8447-c419129f2061",
   "metadata": {},
   "source": [
    "__2/__ Affichez chaque élément de la liste `professions` avec son numéro d'index."
   ]
  },
  {
   "cell_type": "code",
   "execution_count": null,
   "id": "98f0d978-f158-4028-af67-cdcdb4eb08e8",
   "metadata": {},
   "outputs": [],
   "source": []
  },
  {
   "cell_type": "markdown",
   "id": "02588b7e-4c4f-46a4-a243-906e0150a8a3",
   "metadata": {},
   "source": [
    "__3/__ Trouvez les professions les plus courantes et les moins courantes dans la liste `professions`."
   ]
  },
  {
   "cell_type": "code",
   "execution_count": null,
   "id": "e169e286-e226-4dc5-b235-2d64f1d300e2",
   "metadata": {},
   "outputs": [],
   "source": []
  },
  {
   "cell_type": "markdown",
   "id": "2a543249-4f56-4170-805b-ebeee2b177f6",
   "metadata": {},
   "source": [
    "### Tâche 2 : Liste, Dictionnaire et Boucle for"
   ]
  },
  {
   "cell_type": "code",
   "execution_count": 35,
   "id": "05f2a632-c22c-4828-87a9-525da13e3c62",
   "metadata": {},
   "outputs": [],
   "source": [
    "personne_1 = {\n",
    "    \"prenom\": \"Jean\",\n",
    "    \"nom\": \"Dupont\",\n",
    "    \"genre\": \"homme\",\n",
    "    \"profession\": \"ingénieur\",\n",
    "    \"age\": 35\n",
    "}\n",
    "\n",
    "personne_2 = {\n",
    "    \"prenom\": \"Sophie\",\n",
    "    \"nom\": \"Lefevre\",\n",
    "    \"genre\": \"femme\",\n",
    "    \"profession\": \"médecin\",\n",
    "    \"age\": 28\n",
    "}\n",
    "\n",
    "personne_3 = {\n",
    "    \"prenom\": \"Alex\",\n",
    "    \"nom\": \"Martin\",\n",
    "    \"genre\": \"homme\",\n",
    "    \"profession\": \"étudiant\",\n",
    "    \"age\": 22\n",
    "}\n",
    "\n",
    "personne_4 = {\n",
    "    \"prenom\": \"Marie\",\n",
    "    \"nom\": \"Dubois\",\n",
    "    \"genre\": \"femme\",\n",
    "    \"profession\": \"avocate\",\n",
    "    \"age\": 41\n",
    "}\n",
    "\n",
    "personne_5 = {\n",
    "    \"prenom\": \"Sam\",\n",
    "    \"nom\": \"Taylor\",\n",
    "    \"genre\": \"pas défini\",\n",
    "    \"profession\": \"artiste\",\n",
    "    \"age\": 30\n",
    "}\n"
   ]
  },
  {
   "cell_type": "markdown",
   "id": "65b8acd2-7d4b-4063-97c3-b70ab70be67e",
   "metadata": {},
   "source": [
    "__1/__ À partir des cinq dictionnaires ci-dessus, créer une liste de dictionnaire"
   ]
  },
  {
   "cell_type": "code",
   "execution_count": null,
   "id": "f1195483-c43d-43ee-a0b9-0e84888bef91",
   "metadata": {},
   "outputs": [],
   "source": []
  },
  {
   "cell_type": "markdown",
   "id": "b7299149-f311-42ed-b582-7ee391c58509",
   "metadata": {},
   "source": [
    "__2/__ Écrivez un script qui parcourt la liste de dictionnaires représentant des personnes. Affichez le prénom, le nom et l'âge des personnes en fonction de leur genre. Si le genre est \"homme\", affichez \"Nom Prénom est un homme de X ans.\". Si le genre est \"femme\", affichez \"Nom Prénom est une femme de X ans.\". Sinon, affichez \"Genre de Nom Prénom non défini\".\n"
   ]
  },
  {
   "cell_type": "code",
   "execution_count": null,
   "id": "76f67f3f-5764-4e01-9fec-e5c41e27e9bc",
   "metadata": {},
   "outputs": [],
   "source": []
  },
  {
   "cell_type": "markdown",
   "id": "c21d0cc4-3fb4-4ace-9df1-dd4d4458a7b4",
   "metadata": {},
   "source": [
    "__3/__ Écrivez un script pour parcourir la liste de dictionnaires représentant des personnes et afficher le nom et le genre de celles âgées de plus de 30 ans. Si une personne est âgée de 30 ans ou moins, n'affichez pas son nom et son genre."
   ]
  },
  {
   "cell_type": "code",
   "execution_count": null,
   "id": "014bede2-7f9f-413a-8319-35b4d11bd23f",
   "metadata": {},
   "outputs": [],
   "source": []
  },
  {
   "cell_type": "markdown",
   "id": "c966e903-04ca-4c47-8ff8-e3f4ba455937",
   "metadata": {},
   "source": [
    "### Tâche 3 : Création d'un Dictionnaire par Profession"
   ]
  },
  {
   "cell_type": "code",
   "execution_count": 45,
   "id": "8375c6b5-ad6c-4aa3-a966-b65af4a247d1",
   "metadata": {},
   "outputs": [],
   "source": [
    "noms = ['David', 'Emma', 'Fabrice', 'Grace', 'Hector', 'Isabelle', 'Jack', 'Kate', 'Louis', 'Marie', 'Nathan', 'Olivia', 'Pierre', 'Queen', 'Robert', 'Samantha', 'Thierry', 'Ursula', 'Vincent', 'Wendy', 'Xavier', 'Yvonne', 'Zack', 'Alicia', 'Bryan', 'Celine', 'Derek', 'Elena', 'Frank', 'Gloria']\n",
    "ages = [34, 28, 42, 35, 29, 31, 45, 39, 27, 33, 38, 26, 40, 30, 37, 41, 32, 36, 43, 25, 44, 29, 31, 39, 46, 28, 35, 37, 30, 42]\n",
    "professions = ['Écrivain', 'Écrivain', 'Juge', 'Artiste', 'Chercheur', 'Médecin', 'Juge', 'Chercheur', 'Chercheur', 'Écrivain', 'Artiste', 'Médecin', 'Médecin', 'Chercheur', 'Chercheur', 'Écrivain', 'Chercheur', 'Chercheur', 'Chercheur', 'Juge', 'Juge', 'Chercheur', 'Chercheur', 'Médecin', 'Écrivain', 'Chercheur', 'Artiste', 'Écrivain', 'Juge', 'Artiste']"
   ]
  },
  {
   "cell_type": "code",
   "execution_count": 46,
   "id": "88dcd100-cfe5-453b-a7c1-7382124e2b28",
   "metadata": {},
   "outputs": [
    {
     "data": {
      "text/plain": [
       "30"
      ]
     },
     "execution_count": 46,
     "metadata": {},
     "output_type": "execute_result"
    }
   ],
   "source": [
    "len(ages)"
   ]
  },
  {
   "cell_type": "markdown",
   "id": "6a8f56d9-8622-466e-b039-5ba0369e237d",
   "metadata": {},
   "source": [
    "**1/ Écrivez un script qui combine ces trois listes et affiche une liste numérotée des éléments**"
   ]
  },
  {
   "cell_type": "code",
   "execution_count": null,
   "id": "7405b2e6-8f49-4c1d-9544-8120cddce851",
   "metadata": {},
   "outputs": [],
   "source": []
  },
  {
   "cell_type": "markdown",
   "id": "1d18a4c6-8efb-4775-af57-e80a12695cdd",
   "metadata": {},
   "source": [
    "**2/ Écrivez un script qui (*if*) n'affiche que les médecins de plus de 33 ans dont la première lettre commence par un A sinon (*elif*) les chercheurs de moins de 30 ans, sinon (*else*) affiche la premiere lettre de leur nom et leur age**"
   ]
  },
  {
   "cell_type": "code",
   "execution_count": null,
   "id": "f5f09bcd-3a8e-4a2a-91a3-e17ef5187196",
   "metadata": {},
   "outputs": [],
   "source": []
  },
  {
   "cell_type": "markdown",
   "id": "5d704e7f-1239-48b8-8817-11307a4865d3",
   "metadata": {},
   "source": [
    "**3/ Création d'un Dictionnaire par Profession**\n",
    "\n",
    "Utilisez les listes `noms`, `ages`, et `professions` pour créer un dictionnaire où les clés sont les professions et les valeurs sont les listes de noms associés à leur âge. Utilisez une boucle `for` et `if/else` pour effectuer cette opération.\n",
    "\n",
    "Sortie - {'Écrivain': [['David', 34], ['Emma', 28], ['Marie', 33], ['Samantha', 41], ['Bryan', 46], ['Elena', 37]], 'Juge': ...."
   ]
  },
  {
   "cell_type": "code",
   "execution_count": null,
   "id": "22b1844d-1904-47aa-8042-997c8fc15bdc",
   "metadata": {},
   "outputs": [],
   "source": []
  }
 ],
 "metadata": {
  "kernelspec": {
   "display_name": "Python 3 (ipykernel)",
   "language": "python",
   "name": "python3"
  },
  "language_info": {
   "codemirror_mode": {
    "name": "ipython",
    "version": 3
   },
   "file_extension": ".py",
   "mimetype": "text/x-python",
   "name": "python",
   "nbconvert_exporter": "python",
   "pygments_lexer": "ipython3",
   "version": "3.12.3"
  }
 },
 "nbformat": 4,
 "nbformat_minor": 5
}
