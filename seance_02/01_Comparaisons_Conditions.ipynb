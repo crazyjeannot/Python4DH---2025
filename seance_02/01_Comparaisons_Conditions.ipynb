{
 "cells": [
  {
   "cell_type": "markdown",
   "id": "2c4214ae-aa1e-43e8-b473-8ac1bda6bdfa",
   "metadata": {},
   "source": [
    "# Comparaisons et Conditions"
   ]
  },
  {
   "cell_type": "markdown",
   "id": "73fd99ae-5ff3-4011-a196-6a7118e135bb",
   "metadata": {},
   "source": [
    "Écrire du code Python ressemble beaucoup à la rédaction d'une liste d'instructions détaillées pour l'ordinateur. La plupart du temps, vous demandez à l'ordinateur d'effectuer certaines tâches si certaines conditions sont remplies. Par exemple :\n",
    "\n",
    "- *Si une personne dans l'ensemble de données est plus âgée de 30 ans, alors affichez son nom.*\n",
    "- *Si un tweet contient la phrase \"ok boomer,\" alors retweetez-le automatiquement.*\n",
    "- *Si Lupin est le meilleur aventurier, alors affiche \"Bravo, Lupin !\"*\n",
    "\n",
    "\n",
    "Peut être que certains sont familiers avec l'expression IFTTT, \"if this, then that\" (si ceci, alors cela), qui est une façon courante de décrire la logique conditionnelle."
   ]
  },
  {
   "cell_type": "code",
   "execution_count": 2,
   "id": "b06234c7-aab7-4cfe-9146-d07caa5ab165",
   "metadata": {},
   "outputs": [],
   "source": [
    "lupin = 'meilleur aventurier'"
   ]
  },
  {
   "cell_type": "code",
   "execution_count": null,
   "id": "55d8655f-aff8-4ab9-a8b6-0947a858b992",
   "metadata": {},
   "outputs": [],
   "source": []
  },
  {
   "cell_type": "markdown",
   "id": "8e425a1c-f392-4207-bdc8-9cae1272a908",
   "metadata": {},
   "source": [
    "Il y a deux éléments Python importants présents dans le code ci-dessus : une *comparaison* et une *condition*. Nous avons comparé si la variable `lupin` est égale à la valeur `'meilleur aventurier'`. Ensuite, nous avons affiché \"Bravo\" si cette condition était `True` (Vraie)."
   ]
  },
  {
   "cell_type": "markdown",
   "id": "86c6c69c-7184-4078-83b8-de795cdd47f4",
   "metadata": {},
   "source": [
    "## Comparaisons"
   ]
  },
  {
   "cell_type": "markdown",
   "id": "adb28d13-20be-42f1-9e32-6af6dad51026",
   "metadata": {},
   "source": [
    "Il existe de nombreuses façons de comparer des valeurs avec Python, telles que égales (`==`), non égales (`!=`), supérieures à (`>`), inférieures à (`<`), supérieures ou égales à (`>=`), ou inférieures ou égales à (`<=`)."
   ]
  },
  {
   "cell_type": "markdown",
   "id": "0f032d66-8ce6-4548-8233-ec46d04148b8",
   "metadata": {},
   "source": [
    "| **Opérateur de Comparaison** | **Explication**                                                                                   |\n",
    "|:-------------:|:---------------------------------------------------------------------------------------------------:|\n",
    "| `x == y `         | `True` si x est égal à y                                                                                |\n",
    "| `x != y `         | `True` si x n'est pas égal à y                                               |\n",
    "| `x > y`       |  `True` si x est supérieur à y                                                        |\n",
    "| `x < y`       |   `True` si x est inférieur à y  \n",
    "| `x >= y`       |   `True` si x est supérieur ou égal à y |\n",
    "| `x <= y`      | `True` si x est inférieur ou égal à y`                                                                             |"
   ]
  },
  {
   "cell_type": "code",
   "execution_count": null,
   "id": "37e8cfb8-c07d-4e61-bf19-7bd7c5bcba10",
   "metadata": {},
   "outputs": [],
   "source": [
    "personne_1 = 30\n",
    "personne_2 = 30.5"
   ]
  },
  {
   "cell_type": "markdown",
   "id": "f7a9beb7-f765-45db-a97f-77753f3543a8",
   "metadata": {},
   "source": [
    "### Plus grand/petit que"
   ]
  },
  {
   "cell_type": "code",
   "execution_count": null,
   "id": "465af2cc-fe7a-4f16-b4b5-cd94bdb65c83",
   "metadata": {},
   "outputs": [],
   "source": []
  },
  {
   "cell_type": "code",
   "execution_count": null,
   "id": "9a9c15bb-0721-44b3-9b7c-dba0ee40dcab",
   "metadata": {},
   "outputs": [],
   "source": []
  },
  {
   "cell_type": "code",
   "execution_count": null,
   "id": "a556a4c3-b4cf-4499-9bae-7ccdf2406ace",
   "metadata": {},
   "outputs": [],
   "source": []
  },
  {
   "cell_type": "markdown",
   "id": "a3c41174-a4f2-4668-b12c-dc224af2229f",
   "metadata": {},
   "source": [
    "### Différent"
   ]
  },
  {
   "cell_type": "code",
   "execution_count": null,
   "id": "508d48c6-3320-4cc4-9aeb-e8dc30ca569f",
   "metadata": {},
   "outputs": [],
   "source": []
  },
  {
   "cell_type": "code",
   "execution_count": null,
   "id": "a1f1c69e-46ef-4982-a83b-c310bb842e63",
   "metadata": {},
   "outputs": [],
   "source": []
  },
  {
   "cell_type": "markdown",
   "id": "c4501e8a-538a-4c10-ba64-5908e9a2f187",
   "metadata": {},
   "source": [
    "### Opérateurs logiques"
   ]
  },
  {
   "cell_type": "markdown",
   "id": "f61cca45-fc4b-4f96-a78b-f1711957e03b",
   "metadata": {},
   "source": [
    "Nous pouvons également combiner des valeurs et les comparer. Nous pouvons vérifier si `x et y` sont tous les deux `True`, ou si `x ou y` est `True`.\n",
    "| **Opérateur logique** | **En Python** |**Explication** |\n",
    "| :-------------: | :-------------:|:---------------------------------------------------------------------------------------------------: |\n",
    "| `x et y` | `x and y` ou `x & y`|`Vrai` si x et y sont tous les deux Vrais |\n",
    "| `x ou y` |`x or y` ou `x \\| y`|`Vrai` si soit x soit y est Vrai |\n",
    "| `non x` |`not x` |`Vrai` si x n'est pas Vrai |"
   ]
  },
  {
   "cell_type": "markdown",
   "id": "9a6998b5",
   "metadata": {},
   "source": []
  },
  {
   "cell_type": "markdown",
   "id": "36fcaf35-9592-4ec8-9767-a32d559eb794",
   "metadata": {},
   "source": [
    "#### AND\n",
    "\n",
    "Les deux conditions sont vraies"
   ]
  },
  {
   "cell_type": "code",
   "execution_count": null,
   "id": "f4935192-3aba-45ba-b540-870e3486d8a2",
   "metadata": {},
   "outputs": [],
   "source": [
    "personne_1 = 30\n",
    "personne_2 = 30.5"
   ]
  },
  {
   "cell_type": "code",
   "execution_count": null,
   "id": "b87c925f-04a6-4c68-beea-267b8f3b50a2",
   "metadata": {},
   "outputs": [],
   "source": []
  },
  {
   "cell_type": "code",
   "execution_count": null,
   "id": "07dcd0a1-9bd5-40db-8eca-f9e787a3decc",
   "metadata": {},
   "outputs": [],
   "source": [
    "# essayer >="
   ]
  },
  {
   "cell_type": "markdown",
   "id": "703d3c5a-ee0c-4029-8564-ab6815079a07",
   "metadata": {},
   "source": [
    "#### OR\n",
    "\n",
    "Une des deux condition est vraie"
   ]
  },
  {
   "cell_type": "code",
   "execution_count": null,
   "id": "e800fc06",
   "metadata": {},
   "outputs": [],
   "source": []
  },
  {
   "cell_type": "code",
   "execution_count": null,
   "id": "7c7a850a",
   "metadata": {},
   "outputs": [],
   "source": []
  },
  {
   "cell_type": "code",
   "execution_count": null,
   "id": "896da388",
   "metadata": {},
   "outputs": [],
   "source": []
  },
  {
   "cell_type": "markdown",
   "id": "091cf04f-4354-43d6-8147-7515571f1b64",
   "metadata": {},
   "source": [
    "## Conditions\n",
    "\n",
    "### If\n",
    "\n",
    "Une déclaration \"if\" est une instruction pour faire quelque chose *si* une condition particulière est remplie.\n",
    "\n",
    "Une condition commune se composera de deux lignes :\n",
    "- Sur la première ligne, vous tapez le mot anglais `if` suivi d'une expression, puis d'un deux-points (`:`).\n",
    "- Sur la deuxième ligne, vous indentez et écrivez une instruction ou une \"déclaration\" à exécuter si la condition est remplie.\n"
   ]
  },
  {
   "cell_type": "code",
   "execution_count": null,
   "id": "d85aaf37-c62a-44d3-95a8-cd592cb68c36",
   "metadata": {},
   "outputs": [],
   "source": [
    "if lupin == 'meilleur aventurier':\n",
    "    print('Bravo, Lupin !')\n",
    " "
   ]
  },
  {
   "cell_type": "markdown",
   "id": "2b78b6b0-20da-412a-b332-425686a9c9e1",
   "metadata": {},
   "source": [
    "#### Importance de la syntaxe / tabulation"
   ]
  },
  {
   "cell_type": "code",
   "execution_count": null,
   "id": "87a2ba57",
   "metadata": {},
   "outputs": [],
   "source": []
  },
  {
   "cell_type": "markdown",
   "id": "79bfddc3-cb16-4c27-a41f-e346f4650cac",
   "metadata": {},
   "source": [
    "## Else\n",
    "Vous pouvez ajouter encore plus de complexité à une condition en ajoutant une instruction `else`. Cela indique au programme de faire quelque chose si la condition n'est pas satisfaite. L'instruction `else` vient après une instruction `if` et doit être formatée de la même manière."
   ]
  },
  {
   "cell_type": "code",
   "execution_count": null,
   "id": "9f076ca3-743a-4207-aa53-8573e807206a",
   "metadata": {},
   "outputs": [],
   "source": [
    "lupin = 'pas le meilleur aventurier'"
   ]
  },
  {
   "cell_type": "code",
   "execution_count": null,
   "id": "56d9e329",
   "metadata": {},
   "outputs": [],
   "source": []
  },
  {
   "cell_type": "markdown",
   "id": "a349d713-452e-4bfc-84d2-bcc54f8a3c39",
   "metadata": {},
   "source": [
    "## Elif\n",
    "Parfois, vous voulez encore plus de subtilité pour répondre à des conditions légèrement différentes. Par exemple, si Beyoncé a été nominée pour un Grammy mais n'a pas gagné, alors vous voudrez peut-être exprimer un sentiment légèrement différent que si elle avait gagné ou n'avait pas été nominée du tout.\n",
    "\n",
    "Vous pouvez ajouter cette nuance avec une instruction `elif`, abréviation de *else if*. L'ordinateur évaluera d'abord la première instruction `if`. Si cette instruction n'est pas vraie, il évaluera ensuite l'instruction `elif`."
   ]
  },
  {
   "cell_type": "code",
   "execution_count": null,
   "id": "ea36555e-5801-4294-90da-20b92e11e028",
   "metadata": {},
   "outputs": [],
   "source": [
    "lupin = \"parmi les aventuriers\""
   ]
  },
  {
   "cell_type": "code",
   "execution_count": null,
   "id": "8cb60197-c6a7-4d35-b187-3d8899c40ef0",
   "metadata": {},
   "outputs": [],
   "source": []
  },
  {
   "cell_type": "markdown",
   "id": "6f03605f-e272-4744-936d-4777dfd304a1",
   "metadata": {},
   "source": [
    "## EXERCICES !"
   ]
  },
  {
   "cell_type": "code",
   "execution_count": null,
   "id": "e6865681-eb1f-4916-b5ea-0ba2621aa976",
   "metadata": {},
   "outputs": [],
   "source": [
    "lupin_nom = 'Arsène Lupin'\n",
    "lupin_age = 31\n",
    "lupin_maladie = 'kleptoman'\n",
    "lupin_profession = 'gentleman-cambrioleur'\n",
    "lupin_genre = 'm'\n",
    "lupin_enfants = None"
   ]
  },
  {
   "cell_type": "code",
   "execution_count": null,
   "id": "5144b3dd-f2d6-4e44-b90f-e3ecc7a055cc",
   "metadata": {},
   "outputs": [],
   "source": [
    "bovary_nom = 'Emma Bovary'\n",
    "bovary_age = 27\n",
    "bovary_maladie = 'dépressive'\n",
    "bovary_profession = 'idéaliste'\n",
    "bovary_genre = 'f'\n",
    "bovary_enfants = 'Berthe'"
   ]
  },
  {
   "cell_type": "code",
   "execution_count": null,
   "id": "f3280fd9-d537-4457-a359-0c1f828f6dd3",
   "metadata": {},
   "outputs": [],
   "source": []
  },
  {
   "cell_type": "markdown",
   "id": "2eb766c0-9c76-4507-9d0b-57913dff96df",
   "metadata": {},
   "source": [
    "Combiner une instruction `if` avec une instruction `else` qui rapportera si `lupin_age` a moins de 30 ans, sinon, plus de 30 ans."
   ]
  },
  {
   "cell_type": "code",
   "execution_count": null,
   "id": "d7a4e00d-9660-459c-aed3-95ca3f276433",
   "metadata": {},
   "outputs": [],
   "source": [
    "if bovary_age < 30:\n",
    "    print(\"bovary a moins de 30 ans\")\n",
    "else:\n",
    "    print(\"bovary en a plus\")"
   ]
  },
  {
   "cell_type": "code",
   "execution_count": null,
   "id": "6c23b4ff-6ae3-4f85-b0b2-c9fd850cd0a2",
   "metadata": {},
   "outputs": [],
   "source": []
  },
  {
   "cell_type": "markdown",
   "id": "f1dbd624-f243-4eff-b73c-3482d4c4b6f3",
   "metadata": {},
   "source": [
    "#### Ajoutez une instruction elif qui rapporte si `lupin_age` correspond exactement à 30."
   ]
  },
  {
   "cell_type": "code",
   "execution_count": null,
   "id": "f648cc1c-3d91-4f72-8859-33d1b1b5bb1b",
   "metadata": {},
   "outputs": [],
   "source": [
    "lupin_age = 30"
   ]
  },
  {
   "cell_type": "code",
   "execution_count": null,
   "id": "3b615004-ebeb-430f-ab90-a2d33f1c893a",
   "metadata": {},
   "outputs": [],
   "source": [
    "if lupin_age < 30:\n",
    "    print(\"lupin a moins de 30 ans\")\n",
    "elif lupin_age == 30:\n",
    "    print(\"lupin a 30 ans\")\n",
    "else:\n",
    "    print(\"lupin en a plus\")\n",
    "\n",
    "\n",
    "\n"
   ]
  },
  {
   "cell_type": "markdown",
   "id": "aeeca034-3712-4e22-ad4e-4bbb1d35e65b",
   "metadata": {},
   "source": [
    "#### affiche le prenom de la personne si elle est idéaliste"
   ]
  },
  {
   "cell_type": "code",
   "execution_count": null,
   "id": "1d8b9534-0c34-4428-9278-0dc07631fe12",
   "metadata": {},
   "outputs": [],
   "source": [
    "if bovary_profession == \"idéaliste\":\n",
    "    print(bovary_nom)"
   ]
  },
  {
   "cell_type": "code",
   "execution_count": null,
   "id": "79ac42e2-4eb6-4791-8661-649f726fe215",
   "metadata": {},
   "outputs": [],
   "source": []
  },
  {
   "cell_type": "code",
   "execution_count": null,
   "id": "1563c1a2-294a-407e-babc-e91eaa0afad6",
   "metadata": {},
   "outputs": [],
   "source": []
  },
  {
   "cell_type": "markdown",
   "id": "0bb8407f-f2c3-4326-9fd6-2e349048f2a3",
   "metadata": {},
   "source": [
    "#### affiche le prenom de la personne si elle a des enfants et qu'elle est dépressive"
   ]
  },
  {
   "cell_type": "code",
   "execution_count": null,
   "id": "8ad7e66b-7f08-4d29-acc6-79e139aa5ff8",
   "metadata": {},
   "outputs": [],
   "source": [
    "if bovary_enfants != None and bovary_maladie == \"dépressive\":\n",
    "    print(bovary_nom)"
   ]
  },
  {
   "cell_type": "markdown",
   "id": "f12e7285-2a31-4bad-a8ff-3096bcec25b1",
   "metadata": {},
   "source": [
    "#### affiche le prénom de la personne qui a la fonction la plus longue en chaine de caractere"
   ]
  },
  {
   "cell_type": "code",
   "execution_count": null,
   "id": "62eef0e2-e969-44df-a918-0d3bbe69e92c",
   "metadata": {},
   "outputs": [],
   "source": [
    "len(bovary_profession)"
   ]
  },
  {
   "cell_type": "code",
   "execution_count": null,
   "id": "5dcae943-98ea-44e9-9d91-dcf8975ff138",
   "metadata": {},
   "outputs": [],
   "source": []
  },
  {
   "cell_type": "code",
   "execution_count": null,
   "id": "3a527b12-562b-46b8-abf2-9255699b2103",
   "metadata": {},
   "outputs": [],
   "source": [
    "if len(bovary_profession)>len(lupin_profession[:9]):\n",
    "    print(bovary_nom)\n",
    "elif len(bovary_profession)==len(lupin_profession[:9]):\n",
    "    print(\"les deux ont la même longueur\")\n",
    "else:\n",
    "    print(lupin_nom)"
   ]
  },
  {
   "cell_type": "code",
   "execution_count": null,
   "id": "b147a2e5-0196-414a-b9ca-4f1670ff41f9",
   "metadata": {},
   "outputs": [],
   "source": []
  },
  {
   "cell_type": "markdown",
   "id": "8b17b0de",
   "metadata": {},
   "source": [
    "### Bonus : question plus compliquée ! \n"
   ]
  },
  {
   "cell_type": "markdown",
   "id": "8abfe528",
   "metadata": {},
   "source": []
  }
 ],
 "metadata": {
  "kernelspec": {
   "display_name": "Python 3 (ipykernel)",
   "language": "python",
   "name": "python3"
  },
  "language_info": {
   "codemirror_mode": {
    "name": "ipython",
    "version": 3
   },
   "file_extension": ".py",
   "mimetype": "text/x-python",
   "name": "python",
   "nbconvert_exporter": "python",
   "pygments_lexer": "ipython3",
   "version": "3.8.20"
  }
 },
 "nbformat": 4,
 "nbformat_minor": 5
}
