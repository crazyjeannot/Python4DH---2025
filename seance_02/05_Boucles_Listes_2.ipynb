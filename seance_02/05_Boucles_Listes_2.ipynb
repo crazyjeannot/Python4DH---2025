{
 "cells": [
  {
   "cell_type": "markdown",
   "id": "f189bbfb-42ee-4370-81f0-2fa539a12a2a",
   "metadata": {},
   "source": [
    "# Boucles & Listes ++\n",
    "\n",
    "Dans le notebook précédent, on appris à créer, manipuler et parcourir des listes, un type de collection Python important. Dans cette leçon, on va continuer à pratiquer et apprendre à :\n",
    "\n",
    "- construire des listes avec des boucles `for`\n",
    "- créer un index en cours d'exécution des éléments d'une liste avec `enumerate()`\n",
    "- créer des boucles `for` d'une seule ligne avec des *list comprehensions*\n",
    "- regrouper des listes avec `zip()`\n",
    "- compter facilement les éléments dans une liste\n",
    "\n",
    "Ces outils peuvent nous aider à :\n",
    "- identifier combien de fois une certaine valeur apparaît dans les données (par exemple, la maladie dite \"émigrant récent\")\n",
    "- changer programmatiquement toutes les valeurs vides dans les données (par exemple, d'une valeur vide à \"aucune maladie enregistrée\")\n",
    "- trouver les valeurs les plus fréquentes et les moins fréquentes dans les données (par exemple, les \"maladies\" ou professions les plus courantes)"
   ]
  },
  {
   "cell_type": "code",
   "execution_count": null,
   "id": "25642d54-a212-4b22-af47-fe91b3fce26a",
   "metadata": {},
   "outputs": [],
   "source": [
    "prenoms = ['Catherine', 'Thomas', 'Guillaume', 'Patrick', 'Marie-Anne', 'Morris',\n",
    "               'Michaël', 'Hélène', 'James', 'Michaël', 'Hannah', 'Alexandre', 'Marie', 'Serena',\n",
    "               'Marguerite', 'Michaël', 'Jane', 'Rosanna', 'James', 'Michaël', 'John', 'John', 'Marie',\n",
    "               'Bantel', 'Marcella', 'Arthur', 'Michaël', 'Marie', 'Martin']\n"
   ]
  },
  {
   "cell_type": "code",
   "execution_count": null,
   "id": "bc754c9f-d8b5-4a86-bfd6-05f4537ed096",
   "metadata": {},
   "outputs": [],
   "source": [
    "problemes = ['nouvel immigré', 'maladie', '', '', '', 'pauvreté', '', 'maladie', '',\n",
    "            'maladie', 'nouvel immigré', '', 'aliéné', 'nouvel immigré', 'aliéné', '', '',\n",
    "            'maladie', 'maladie', '', 'syphilis', 'maladie', '', 'nouvel immigré', 'pauvreté',\n",
    "            'maladie', 'nouvel immigré', 'maladie', 'syphilis']"
   ]
  },
  {
   "cell_type": "code",
   "execution_count": null,
   "id": "1655d6e6-1ad2-4429-8c84-8db1839c1b95",
   "metadata": {},
   "outputs": [],
   "source": [
    "ages = ['22', '21', '23', '47', '45', '28', '23', '50', '26', '28', '30', '30', '65', '17', '35',\n",
    "        '27', '32', '40', '22', '30', '27', '40', '41', '37', '16', '20', '30', '30', '35']"
   ]
  },
  {
   "cell_type": "code",
   "execution_count": null,
   "id": "e27a450f-49ef-4d45-9403-0f9778b58378",
   "metadata": {},
   "outputs": [],
   "source": []
  },
  {
   "cell_type": "code",
   "execution_count": null,
   "id": "0fe9bd6e-3cbb-4a3c-b40e-04659399f2fa",
   "metadata": {},
   "outputs": [],
   "source": []
  },
  {
   "cell_type": "markdown",
   "id": "2857a7f3-0bec-4b2b-92c9-25e50cf7867c",
   "metadata": {},
   "source": [
    "## Boucle For pour itérer sur tous les problèmes"
   ]
  },
  {
   "cell_type": "code",
   "execution_count": null,
   "id": "09a47d9c-9758-440a-b72f-354f6da0ccd0",
   "metadata": {},
   "outputs": [],
   "source": []
  },
  {
   "cell_type": "markdown",
   "id": "553f7b76",
   "metadata": {},
   "source": [
    "Et en affichant tous les problèmes non vides ? "
   ]
  },
  {
   "cell_type": "markdown",
   "id": "bb09212a-9b28-478e-809d-6349b9908897",
   "metadata": {},
   "source": [
    "## Boucle for avec Enumerate\n",
    "\n",
    "`enumerate` est une fonction qu'on utilise pour ajouter, dans une boucle `for`, les indices de progression. \n",
    "La fonction s'applique sur l'élément itérables (la liste le plus souvent), et génère une nouvelle variables."
   ]
  },
  {
   "cell_type": "code",
   "execution_count": null,
   "id": "450ee342-0398-43d8-8001-abcc50792eb0",
   "metadata": {},
   "outputs": [],
   "source": [
    "## Syntaxe de base\n",
    "for index, valeur in enumerate(problemes):\n",
    "    print(valeur)"
   ]
  },
  {
   "cell_type": "code",
   "execution_count": null,
   "id": "21d93769",
   "metadata": {},
   "outputs": [],
   "source": []
  },
  {
   "cell_type": "markdown",
   "id": "d0652da5-966f-4d53-86f2-e68b8ba30c08",
   "metadata": {},
   "source": [
    "## Construire une liste avec une boucle for\n",
    "\n",
    "On peut également créer des listes à l'aide de boucles `for`. Disons qu'on prenne cette liste `collection` et qu'on veuille créer une nouvelle liste qui ne contient que les éléments de la liste qui correspondent à \"l'élément voulu\"."
   ]
  },
  {
   "cell_type": "code",
   "execution_count": null,
   "id": "d669744c-6084-4fbe-9842-acf308b3ec31",
   "metadata": {},
   "outputs": [],
   "source": [
    "collection = ['item', 'item voulu', 'item', 'item', 'item voulu']"
   ]
  },
  {
   "cell_type": "markdown",
   "id": "dad58151-6030-42ff-87d7-2fa6d2ec3829",
   "metadata": {},
   "source": [
    "On peut donc créer une liste vide en assignant à la variable `liste_vide` la valeur `[]` - c'est-à-dire une liste sans éléments. Ensuite, on utilise une boucle `for` pour itérer à travers `collection`. Si un élément est égal à \"l'élément voulu\", alors nous utiliserons `.append()` pour ajouter cet élément à notre liste précédemment vide."
   ]
  },
  {
   "cell_type": "code",
   "execution_count": null,
   "id": "5bc432c4-e864-4986-874c-5938694aef7c",
   "metadata": {},
   "outputs": [],
   "source": [
    "liste_vide = []\n",
    "##"
   ]
  },
  {
   "cell_type": "code",
   "execution_count": null,
   "id": "9a9f31d9-d2de-4d52-89a6-150cfe6e25a1",
   "metadata": {},
   "outputs": [],
   "source": [
    "liste_vide"
   ]
  },
  {
   "cell_type": "code",
   "execution_count": null,
   "id": "fdf5e324-863e-4b19-9357-a48847745b20",
   "metadata": {},
   "outputs": [],
   "source": []
  },
  {
   "cell_type": "markdown",
   "id": "1fc33779-9119-4da7-bf8a-977a03343a65",
   "metadata": {},
   "source": [
    "##### On prend dans une nouvelle liste les gens dont le problème est la syphilis"
   ]
  },
  {
   "cell_type": "code",
   "execution_count": null,
   "id": "1bfeaa87-f2e3-468c-8d57-b2fe0d4809d6",
   "metadata": {},
   "outputs": [],
   "source": []
  },
  {
   "cell_type": "code",
   "execution_count": null,
   "id": "ff368930-948c-42db-a4a7-9b37756cfe39",
   "metadata": {},
   "outputs": [],
   "source": []
  },
  {
   "cell_type": "markdown",
   "id": "88f3a647-76cf-4a0f-87fd-af85efa83f7a",
   "metadata": {},
   "source": [
    "##### On prend dans une nouvelle liste les problèmes des gens, et 'pas de problème' si ''\n"
   ]
  },
  {
   "cell_type": "markdown",
   "id": "d322f20a-c825-4b80-a2d7-66cd7dbfad51",
   "metadata": {},
   "source": [
    "## Zipper des listes ensembles\n",
    "\n",
    "On peut également itérer à travers plusieurs listes en même temps en utilisant la fonction `zip()`, qui \"assemble\" essentiellement les listes ensemble.\n",
    "L'idée, c'est que `zip` permet de prendre des listes (qui sont des objets différents) et de parcourir un seul objet qui combine des liste zippées ensemble.\n",
    "\n",
    "Attention, `zip` s'arrête à la fin de la liste la plus courte, et est sensible à l'ordre des listes."
   ]
  },
  {
   "cell_type": "code",
   "execution_count": null,
   "id": "39428711-7b25-4136-963e-30e53832cf0e",
   "metadata": {},
   "outputs": [],
   "source": [
    "noms_de_famille = ['Dupont', 'Lefebvre', 'Martin', 'Dubois', 'Moreau', 'Leroy', 'Simon', 'Laurent', 'Garcia', 'Fournier',\n",
    "                  'Lambert', 'Roussel', 'Fontaine', 'Renaud', 'Guerin', 'Chevalier', 'Petit', 'Sanchez', 'Robert', 'Nguyen',\n",
    "                  'Lemoine', 'Rousseau', 'Vincent', 'Marchand', 'Mathieu', 'Girard', 'Legrand', 'Mercier']\n"
   ]
  },
  {
   "cell_type": "code",
   "execution_count": null,
   "id": "d967bd6f",
   "metadata": {},
   "outputs": [],
   "source": []
  },
  {
   "cell_type": "markdown",
   "id": "46044a10-e400-4e6d-b1bd-4a4ae5d66d35",
   "metadata": {},
   "source": [
    "#### Afficher seulement si l'âge est supérieure à 35"
   ]
  },
  {
   "cell_type": "code",
   "execution_count": null,
   "id": "317a5300-eb68-4f61-9e4a-f8ea8cbc5a9c",
   "metadata": {},
   "outputs": [],
   "source": []
  },
  {
   "cell_type": "markdown",
   "id": "902dcb31-b4b5-4237-9fb8-adc7fd42c2d1",
   "metadata": {},
   "source": [
    "### Count Items In a List or Collection\n",
    "\n",
    "Si vous souhaitez compter les éléments d'une liste ou d'une collection, vous pouvez utiliser le module `Counter` de la bibliothèque `collections`.\n",
    "\n",
    "`collections` est une bibliothèque Python intégrée qui fournit des alternatives spécialisées aux types de conteneurs Python généraux tels que les dictionnaires, les listes, les ensembles et les tuples. `Counter` est un sous-module de `collections` qui permet de compter les objets \"hashables\" (ou itérables qui peuvent être découpé, indéxé etc...). (pour plus d'information voir la [documentation officielle](https://docs.python.org/3/library/collections.html#collections.Counter)).\n",
    "\n",
    "\n",
    "Pour utiliser cet outil, vous devez d'abord l'importer. L'instruction `import` est utilisée chaque fois que vous souhaitez importer un package ou une bibliothèque Python externe écrite par quelqu'un d'autre.\n",
    "\n",
    "Le mot clé `from` nous permet d'importer un module spécifique à partir d'une bibliothèque plus large, dans ce cas, à partir de `collections`."
   ]
  },
  {
   "cell_type": "code",
   "execution_count": null,
   "id": "e86be7b9-6631-45e0-ba82-b4d97321d70d",
   "metadata": {},
   "outputs": [],
   "source": [
    "from collections import Counter\n"
   ]
  },
  {
   "cell_type": "markdown",
   "id": "b554fb81-a8f9-475b-a3af-cefecac7d6ce",
   "metadata": {},
   "source": [
    "Maintenant que nous avons importé `Counter`, on peut l'utiliser. Pour compter les éléments d'une d'un élément hashable, il suffit de l'insérer à l'intérieur de la fonction `Counter()`."
   ]
  },
  {
   "cell_type": "code",
   "execution_count": null,
   "id": "ba03065f-1b85-499c-a493-ea86868ef67f",
   "metadata": {},
   "outputs": [],
   "source": [
    "problemes"
   ]
  },
  {
   "cell_type": "markdown",
   "id": "329ff0f1-3a0f-4c53-b2f0-4c54481dd50d",
   "metadata": {},
   "source": [
    "Cela nous donne un autre type de collection appelé *dictionnaire*, comme vu précédément. Ce dictionnaire inclut chaque élément de la liste et combien de fois il apparaît dans la liste."
   ]
  },
  {
   "cell_type": "markdown",
   "id": "8cea1e83",
   "metadata": {},
   "source": [
    "Essayer de faire la même chose avec un dictionnaire, une chaîne de caractère ou un nombre entier : qu'est ce que le ça donne ?"
   ]
  },
  {
   "cell_type": "code",
   "execution_count": null,
   "id": "c7cafb90",
   "metadata": {},
   "outputs": [],
   "source": [
    "## Essayez ici ! \n"
   ]
  },
  {
   "cell_type": "markdown",
   "id": "671a6e81",
   "metadata": {},
   "source": [
    "#### Most_Common\n",
    "\n",
    "Pour trier ce dictionnaire Counter en fonction des éléments les plus courants, nous pouvons utiliser la méthode `.most_common()`."
   ]
  },
  {
   "cell_type": "code",
   "execution_count": null,
   "id": "f3bd4a59-6c0c-4110-a477-37b609d1fc89",
   "metadata": {},
   "outputs": [],
   "source": [
    "conteur_liste = Counter(problemes)"
   ]
  },
  {
   "cell_type": "code",
   "execution_count": null,
   "id": "97495bab",
   "metadata": {},
   "outputs": [],
   "source": []
  },
  {
   "cell_type": "markdown",
   "id": "1a1d25dd-5e8c-4281-b696-218d3b88c00f",
   "metadata": {},
   "source": [
    "#### Les moins communs ?\n",
    "\n",
    "Il n'exite pas de méthode native pour trouver les éléments les moins communs, il va falloir ruser ! \n",
    "Comme les éléments sont ordonnées, les moins communs sont... les derniers ! \n"
   ]
  },
  {
   "cell_type": "code",
   "execution_count": null,
   "id": "df67c497-04fe-43f6-926a-e38e48749893",
   "metadata": {},
   "outputs": [],
   "source": []
  },
  {
   "cell_type": "markdown",
   "id": "45029511-a8ce-4561-83b8-d6b6fded8d1c",
   "metadata": {},
   "source": [
    "### Leçon Prochaine : Fonctions !!!"
   ]
  },
  {
   "cell_type": "code",
   "execution_count": null,
   "id": "d5cb823a-b56a-4ff4-a67c-c4ee75ccd2ec",
   "metadata": {},
   "outputs": [],
   "source": [
    "def most_common(collection, n=3):\n",
    "    conteur = Counter(collection)\n",
    "    return conteur.most_common(n)\n",
    "\n",
    "\n"
   ]
  }
 ],
 "metadata": {
  "kernelspec": {
   "display_name": "base",
   "language": "python",
   "name": "python3"
  },
  "language_info": {
   "codemirror_mode": {
    "name": "ipython",
    "version": 3
   },
   "file_extension": ".py",
   "mimetype": "text/x-python",
   "name": "python",
   "nbconvert_exporter": "python",
   "pygments_lexer": "ipython3",
   "version": "3.12.2"
  }
 },
 "nbformat": 4,
 "nbformat_minor": 5
}
