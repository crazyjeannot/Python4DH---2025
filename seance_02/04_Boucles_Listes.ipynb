{
 "cells": [
  {
   "cell_type": "markdown",
   "id": "24b0f416-daed-44b4-a0a4-8e385b33dbe1",
   "metadata": {},
   "source": [
    "# Boucles & Listes"
   ]
  },
  {
   "cell_type": "markdown",
   "id": "53f71635-4696-4a86-a8fd-82e45a4ae64a",
   "metadata": {},
   "source": [
    "## La boucle For\n",
    "\n",
    "L'une des meilleures façons de travailler avec une liste est d'utiliser des boucles `for`. Il s'agit d'une méthode permettant de parcourir chaque élément de la liste ou de \"l'itérer\"."
   ]
  },
  {
   "cell_type": "code",
   "execution_count": null,
   "id": "01e84292-5d42-4957-b1ad-b7304d02895f",
   "metadata": {},
   "outputs": [],
   "source": [
    "liste_noms = [\"Maria\", \"John\", \"Elena\", \"Satoshi\", \"Sophie\", \"Mohammed\", \"Olga\", \"Pablo\", \"Ling\", \"Alexandra\"]"
   ]
  },
  {
   "cell_type": "code",
   "execution_count": null,
   "id": "59746710",
   "metadata": {},
   "outputs": [],
   "source": []
  },
  {
   "cell_type": "code",
   "execution_count": null,
   "id": "4a5ab8a1",
   "metadata": {},
   "outputs": [],
   "source": []
  },
  {
   "cell_type": "code",
   "execution_count": null,
   "id": "2b029f1e",
   "metadata": {},
   "outputs": [],
   "source": []
  },
  {
   "cell_type": "markdown",
   "id": "d76b1389-fb5f-479e-92ea-d974778af8ff",
   "metadata": {},
   "source": [
    "Une boucle `for` basique se compose de deux lignes :\n",
    "\n",
    "- Sur la première ligne, vous tapez le mot anglais `for`, un nouveau nom de variable pour chaque élément de la liste, le mot anglais `in`, le nom de la liste et un deux-points (`:`).\n",
    "- NB. : le variable qu'on utilise pour chaque élément est dite muette, comme en maths. Vous pouvez lui donner le nom que vous voulez sans que cela ait d'incidences sur le fonctionnement du code ou sur les données de la liste !\n",
    "\n",
    "- Sur la deuxième ligne, vous indentez et écrivez une instruction ou une \"déclaration\" à exécuter pour chaque élément de la liste."
   ]
  },
  {
   "cell_type": "code",
   "execution_count": null,
   "id": "88547414-ad8a-4e16-99f2-c580d40559c3",
   "metadata": {},
   "outputs": [],
   "source": [
    "# Voici la syntaxe de base \n",
    "for nom in liste_noms:\n",
    "    print('salut chaine de caractère'+ nom)"
   ]
  },
  {
   "cell_type": "code",
   "execution_count": null,
   "id": "494c3a3c",
   "metadata": {},
   "outputs": [],
   "source": []
  },
  {
   "cell_type": "code",
   "execution_count": null,
   "id": "a20a34ce-d586-4bff-83ff-6689585d2267",
   "metadata": {},
   "outputs": [],
   "source": []
  },
  {
   "cell_type": "code",
   "execution_count": null,
   "id": "daea2414-3d04-4d1b-9e30-75478d104a6f",
   "metadata": {},
   "outputs": [],
   "source": [
    "ages = [22, 21, 23, 47, 45, 28, 23, 50, 26, 28, 30] \n"
   ]
  },
  {
   "cell_type": "code",
   "execution_count": null,
   "id": "948925e7-ec1f-4534-8cee-fc5a33c6f959",
   "metadata": {},
   "outputs": [],
   "source": []
  },
  {
   "cell_type": "code",
   "execution_count": null,
   "id": "16209c3b-c30f-40d0-af81-a2de9e463fd4",
   "metadata": {},
   "outputs": [],
   "source": []
  },
  {
   "cell_type": "code",
   "execution_count": null,
   "id": "8bbc685f-3fde-4594-a52f-b3355e507a45",
   "metadata": {},
   "outputs": [],
   "source": []
  },
  {
   "cell_type": "code",
   "execution_count": null,
   "id": "3ceda81d-59c3-4d91-b11b-6b0257e92b61",
   "metadata": {},
   "outputs": [],
   "source": []
  },
  {
   "cell_type": "markdown",
   "id": "6b8904ab-c9a5-4807-851f-5813bbfa8c68",
   "metadata": {},
   "source": [
    "## Exercices !"
   ]
  },
  {
   "cell_type": "code",
   "execution_count": null,
   "id": "78f8b1d7-63c6-4508-b66e-037d72e4568d",
   "metadata": {},
   "outputs": [],
   "source": [
    "profession = ['enseignante', 'médecin', 'avocat', 'commerçant', 'infirmière', 'agriculteur']\n",
    "enfant = ['Enfant Alana de 10 jours', 'Catherine de 2 mois', '', 'hippolite âgé de 10 jours', 'Lucie, 4 ans', 'Emily 7 mois']\n",
    "genre = ['f', 'm', 'w', 'm', 'f', 'm']"
   ]
  },
  {
   "cell_type": "markdown",
   "id": "0cbb8c79-1101-44f4-a7e8-125add240a44",
   "metadata": {},
   "source": [
    "#### 1/ Extraire le deuxième élément de la liste profession"
   ]
  },
  {
   "cell_type": "code",
   "execution_count": null,
   "id": "39630eec-1003-4b85-a464-2c85b768b180",
   "metadata": {},
   "outputs": [],
   "source": []
  },
  {
   "cell_type": "markdown",
   "id": "149f5e09-c603-4361-aa45-3adab687e709",
   "metadata": {},
   "source": [
    "\n",
    "#### 2/ Ajouter une profession de votre choix à la liste profession, puis l'afficher"
   ]
  },
  {
   "cell_type": "code",
   "execution_count": null,
   "id": "7126fd3a-2a98-4026-9c4d-b70716c57bee",
   "metadata": {},
   "outputs": [],
   "source": []
  },
  {
   "cell_type": "markdown",
   "id": "644f935a-b776-4896-9b05-9785f9e5e8a3",
   "metadata": {},
   "source": [
    "#### 3/ Faites une boucle for  qui itére la liste profession et affiche chaque profession"
   ]
  },
  {
   "cell_type": "code",
   "execution_count": null,
   "id": "62eb3c53-fbc8-42d7-bd4d-3f8b71aad8d2",
   "metadata": {},
   "outputs": [],
   "source": []
  },
  {
   "cell_type": "markdown",
   "id": "f1468c82-4aa6-4fc1-95e4-145f2dcfeacb",
   "metadata": {},
   "source": [
    "## Itérer sur des Dictionnaires\n",
    "\n",
    "Comme vu précédemment, un dictionnaire n'est pas nativement itérable (en fonction, vous croiserez l'expression `subsriptable` ou `hashable`). On va donc devoir jouer avec les valeurs et les clés, qui elles sont des listes, pour parcourir le dictionnaire ! "
   ]
  },
  {
   "cell_type": "code",
   "execution_count": null,
   "id": "01955fdb-bf58-4f7d-9726-13d7ea838c63",
   "metadata": {},
   "outputs": [],
   "source": [
    "personnes = {\"personne1\":\n",
    "                  {'prenom': 'Emma',\n",
    "                   'nom': 'Bovary',\n",
    "                   'age': 27,\n",
    "                   'maladie': 'dépressive',\n",
    "                   'profession': 'idéaliste',\n",
    "                   'genre': 'f',\n",
    "                   'enfants': 'Berthe'},\n",
    "            \"personne2\":\n",
    "                  {'prenom': 'Arsène',\n",
    "                   'nom': 'Lupin',\n",
    "                   'age': 31,\n",
    "                   'maladie': 'kleptoman',\n",
    "                   'profession': 'gentleman-cambrioleur',\n",
    "                   'genre': 'm',\n",
    "                   'enfants': None}\n",
    "                }"
   ]
  },
  {
   "cell_type": "code",
   "execution_count": null,
   "id": "ad062445",
   "metadata": {},
   "outputs": [],
   "source": []
  },
  {
   "cell_type": "code",
   "execution_count": null,
   "id": "905bce32",
   "metadata": {},
   "outputs": [],
   "source": []
  },
  {
   "cell_type": "code",
   "execution_count": null,
   "id": "b3727c71",
   "metadata": {},
   "outputs": [],
   "source": []
  },
  {
   "cell_type": "code",
   "execution_count": null,
   "id": "40685cdd",
   "metadata": {},
   "outputs": [],
   "source": []
  },
  {
   "cell_type": "code",
   "execution_count": null,
   "id": "4748d361",
   "metadata": {},
   "outputs": [],
   "source": []
  }
 ],
 "metadata": {
  "kernelspec": {
   "display_name": "base",
   "language": "python",
   "name": "python3"
  },
  "language_info": {
   "codemirror_mode": {
    "name": "ipython",
    "version": 3
   },
   "file_extension": ".py",
   "mimetype": "text/x-python",
   "name": "python",
   "nbconvert_exporter": "python",
   "pygments_lexer": "ipython3",
   "version": "3.12.2"
  }
 },
 "nbformat": 4,
 "nbformat_minor": 5
}
