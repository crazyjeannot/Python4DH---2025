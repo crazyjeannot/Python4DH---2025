{
 "cells": [
  {
   "cell_type": "markdown",
   "id": "ff198e82-6dac-4a9f-91d4-e925797faa47",
   "metadata": {},
   "source": [
    "# Les Fonctions en Python\n",
    "\n",
    "Les fonctions sont utiles car elles peuvent aider à organiser votre code et vous éviter la répétition. Si vous devez effectuer une tâche maintes et maintes fois, vous ne voulez pas réécrire le même code à partir de zéro à chaque fois.\n",
    "\n",
    "Nous avons déjà rencontré plusieurs fois des fonctions intégrées de Python, notamment :\n",
    "- `print()`\n",
    "- `len()`\n",
    "- `type()`\n",
    "\n",
    "Ces fonctions contiennent du code regroupé qui effectue des tâches spécifiques à chaque fois que nous les appelons.\n"
   ]
  },
  {
   "cell_type": "markdown",
   "id": "ffae0770-9152-445e-be67-a49bd6aa8148",
   "metadata": {},
   "source": [
    "## Définir une Fonction\n",
    "\n",
    "Pour créer votre propre fonction, vous utilisez le mot-clé `def`, abréviation de *définir*, suivi du nom souhaité pour la fonction, tout_attaché, des parenthèses (`()`) et d'un deux-points (`:`).\n",
    "\n",
    "Ensuite, sur les lignes suivantes, vous décalez d'une tabulation et écrivez le code que vous souhaitez que votre fonction exécute."
   ]
  },
  {
   "cell_type": "code",
   "execution_count": null,
   "id": "122f0b48-c962-4b94-a4f5-97cc63d22b43",
   "metadata": {},
   "outputs": [],
   "source": []
  },
  {
   "cell_type": "code",
   "execution_count": 2,
   "id": "2bfe2009-afcb-4725-8084-1672aecc3cea",
   "metadata": {},
   "outputs": [
    {
     "name": "stdout",
     "output_type": "stream",
     "text": [
      "La tempête Kirk a fait bcp de dégats\n"
     ]
    }
   ],
   "source": [
    "variable_tmp = \"La tempête Kirk a fait bcp de dégats\"\n",
    "print(variable_tmp)"
   ]
  },
  {
   "cell_type": "markdown",
   "id": "a16e57dc-04e1-4fbb-8364-b59f5a65a12e",
   "metadata": {},
   "source": [
    "Enfin, vous complétez la fonction avec une instruction `return`. Parfois, vous voudrez `return` une valeur spécifique, mais ici, nous ne retournons rien.\n",
    "\n",
    "\n",
    "\n",
    "Si vous ne décalez pas la ligne suivant la définition de la fonction, vous obtiendrez une erreur. Cela souligne l'importance de l'indentation en Python.\n",
    "\n",
    "## Appeler une fonction"
   ]
  },
  {
   "cell_type": "code",
   "execution_count": null,
   "id": "b56dd96f-509a-47db-a824-b2913bf5ec1d",
   "metadata": {},
   "outputs": [],
   "source": [
    "radio_automate_1()"
   ]
  },
  {
   "cell_type": "markdown",
   "id": "2e55f6e6-fdc3-4544-a558-b1e004241954",
   "metadata": {},
   "source": [
    "## Ajouter des arguments/des paramètres\n",
    "\n",
    "Vous pouvez ajouter des \"paramètres\" à vos fonctions, c'est-à-dire des valeurs requises par votre fonction, en plaçant les noms des paramètres entre les parenthèses.\n",
    "\n",
    "Par exemple, si l'on veut personnaliser une fonction de chanson d'anniversaire pour inclure le nom d'une personne spécifique, nous pouvons ajouter le paramètre `nom_personnalise` entre les parenthèses, ce qui nécessitera un nom personnalisé à passer à la fonction. La chose que vous passez à la fonction s'appelle un \"argument\".\n",
    "\n",
    "- paramètre = `nom_personnalise` (élément nécessitant une valeur pour la fonction)\n",
    "- argument = \"XX\" (valeur réelle transmise à la fonction)\n",
    "\n",
    "Étant donné que les paramètres et les arguments sont si interdépendants, ils sont parfois confondus l'un avec l'autre. Vous pouvez lire [la distinction officielle de Python ici](https://docs.python.org/3.3/faq/programming.html#faq-argument-vs-parameter)."
   ]
  },
  {
   "cell_type": "code",
   "execution_count": 3,
   "id": "24ec6a43-f9d0-4c11-a20a-1b4c63878144",
   "metadata": {},
   "outputs": [],
   "source": [
    "def bon_anniversaire():\n",
    "    print(\"Bon anniversaire !\")"
   ]
  },
  {
   "cell_type": "code",
   "execution_count": 4,
   "id": "c0562ee1-4bff-47f3-a857-08bca42a78c7",
   "metadata": {},
   "outputs": [],
   "source": [
    "def bon_anniversaire_personnalise(nom_personnalise):\n",
    "    print(\"Bon anniversaire \"+ nom_personnalise)"
   ]
  },
  {
   "cell_type": "code",
   "execution_count": null,
   "id": "ea6673cc-06d6-4021-bea5-dd3312f4389b",
   "metadata": {},
   "outputs": [],
   "source": [
    "# bon_anniversaire(\"Michel Ratault\")"
   ]
  },
  {
   "cell_type": "code",
   "execution_count": 6,
   "id": "77617bb5-c007-48f1-a70e-8ceb20891a7d",
   "metadata": {},
   "outputs": [],
   "source": [
    "# bon_anniversaire_personnalise(\"Michel Ratault\")"
   ]
  },
  {
   "cell_type": "markdown",
   "id": "f490aa3d-ea4d-4741-b9ed-488b89f6d806",
   "metadata": {},
   "source": [
    "Nous utilisons le nom transmis à la fonction à l'intérieur d'une f-string : `f\"Joyeux anniversaire {nom_personnalisé}\"`.\n",
    "\n",
    "Une fois que vous définissez un paramètre nécessitant un argument, vous devez passer quelque chose à l'intérieur de la fonction pour que celle-ci s'exécute. Ainsi, si vous exécutez `bon_anniversaire_personnalisé()` comme nous l'avons fait avec `bon_anniversaire()`, cela ne fonctionnera pas.\n"
   ]
  },
  {
   "cell_type": "code",
   "execution_count": 7,
   "id": "7fcd14df-501a-407c-a794-a1632e914aad",
   "metadata": {},
   "outputs": [],
   "source": [
    "# bon_anniversaire_personnalise()"
   ]
  },
  {
   "cell_type": "code",
   "execution_count": null,
   "id": "26b7d723-94ef-427e-a9f1-4d3435c1d97e",
   "metadata": {},
   "outputs": [],
   "source": []
  },
  {
   "cell_type": "code",
   "execution_count": 8,
   "id": "8b222c4e-0216-41d1-a29c-108a73f3d688",
   "metadata": {},
   "outputs": [],
   "source": [
    "# bon_anniversaire_personnalise(\"hehe\")"
   ]
  },
  {
   "cell_type": "markdown",
   "id": "7b9eb911-699d-45a5-b197-5de4616fda9a",
   "metadata": {},
   "source": [
    "### Arguments par mots clés\n",
    "\n",
    "Il existe une autre manière de demander des arguments dans une fonction, qui se fait avec des *arguments de mots-clés*. Auparavant, nous utilisions des \"arguments positionnels\", où la fonction savait automatiquement que \"prenom\" était l'argument `nom_personnalisé` simplement parce que \"prenom\" était à la bonne position. (Il n'y avait qu'un seul argument requis, donc évidemment.)\n",
    "\n",
    "Cependant, vous pouvez aussi définir explicitement vos arguments avec des arguments de mots-clés qui utilisent un signe `=`, ce qui peut être plus utile si vous avez plusieurs paramètres. Cela peut également être une manière de définir des valeurs par défaut dans vos fonctions."
   ]
  },
  {
   "cell_type": "code",
   "execution_count": 30,
   "id": "adea9d4d-3579-4b6a-82ec-413af738e882",
   "metadata": {},
   "outputs": [],
   "source": [
    "def bon_anniversaire_personnalise(premier, deuxieme):\n",
    "    print(\"Bon anniversaire \"+premier+\" de la part de \"+deuxieme)"
   ]
  },
  {
   "cell_type": "code",
   "execution_count": 9,
   "id": "18f284bd-6faa-4c8a-9a92-b36f0b7e7b49",
   "metadata": {},
   "outputs": [],
   "source": [
    "# bon_anniversaire_personnalise(' Jacqueline', ' Micheline')"
   ]
  },
  {
   "cell_type": "code",
   "execution_count": null,
   "id": "7dc234df-e589-410e-9928-857b728986c4",
   "metadata": {},
   "outputs": [],
   "source": []
  },
  {
   "cell_type": "code",
   "execution_count": 36,
   "id": "4a84f315-6b17-4add-83ad-a3a78a5b8495",
   "metadata": {},
   "outputs": [],
   "source": [
    "def bon_anniversaire_personnalise_mot_cle(pour, de_la_part_de=\"Michel Foucault\"):\n",
    "    print(\"Bon anniversaire \"+pour+\" de la part de \"+de_la_part_de)"
   ]
  },
  {
   "cell_type": "code",
   "execution_count": 10,
   "id": "870e25da-98ac-4988-84cf-e40942afadf1",
   "metadata": {},
   "outputs": [],
   "source": [
    "# bon_anniversaire_personnalise_mot_cle('Michel', de_la_part_de=\"Foucault\")"
   ]
  },
  {
   "cell_type": "code",
   "execution_count": null,
   "id": "d1ebec17-0c59-4a91-b72e-2c0aa67b18e2",
   "metadata": {},
   "outputs": [],
   "source": []
  },
  {
   "cell_type": "markdown",
   "id": "55fffcdc-079f-4b12-afee-a3032b1b3ac9",
   "metadata": {},
   "source": [
    "Par exemple, si nous ne passons aucun argument à cette fonction, elle utilisera les arguments par défaut."
   ]
  },
  {
   "cell_type": "code",
   "execution_count": null,
   "id": "913e49b6-52b6-431d-a05a-2538f3daafd4",
   "metadata": {},
   "outputs": [],
   "source": []
  },
  {
   "cell_type": "markdown",
   "id": "ab3a0087-a4ff-4023-818d-e46d25207042",
   "metadata": {},
   "source": [
    "Mais si nous définissons les arguments de mots-clés sur des valeurs différentes, même si nous changeons l'ordre ou la position des arguments, la fonction saura à quels arguments ils sont censés correspondre."
   ]
  },
  {
   "cell_type": "code",
   "execution_count": null,
   "id": "ec922cf1-c380-4c2c-9c81-3f7f4ac3913e",
   "metadata": {},
   "outputs": [],
   "source": []
  },
  {
   "cell_type": "markdown",
   "id": "4376d3e8-d7bb-42b4-a447-6ea765c4b621",
   "metadata": {},
   "source": [
    "## Valeurs de retour\n",
    "\n",
    "Dans tous les exemples ci-dessus, nous ne retournions aucune valeur spécifique, simplement en utilisant des déclarations `print()`. Mais parfois, vous voulez obtenir une valeur spécifique de votre fonction. Par exemple, si nous voulons créer une fonction qui transforme un peu de texte en un texte très fort, alors nous voudrons `return` ce texte très fort."
   ]
  },
  {
   "cell_type": "code",
   "execution_count": 51,
   "id": "703e2495-585a-472f-b997-3d067622714b",
   "metadata": {},
   "outputs": [],
   "source": [
    "def rend_text_plus_fort(text):\n",
    "    test = text.upper()\n",
    "    return test"
   ]
  },
  {
   "cell_type": "code",
   "execution_count": null,
   "id": "468317ef-2aab-468f-9d5f-3eb3b899972e",
   "metadata": {},
   "outputs": [],
   "source": []
  },
  {
   "cell_type": "code",
   "execution_count": 53,
   "id": "5cf0e7dc-491b-4d33-9d28-f1d11105589c",
   "metadata": {},
   "outputs": [
    {
     "data": {
      "text/plain": [
       "'CE TEXTE EST CRIÉ !!'"
      ]
     },
     "execution_count": 53,
     "metadata": {},
     "output_type": "execute_result"
    }
   ],
   "source": [
    "text_modifié"
   ]
  },
  {
   "cell_type": "code",
   "execution_count": 2,
   "id": "76bb5f2b-af63-4551-b157-237a72ad7b15",
   "metadata": {},
   "outputs": [],
   "source": [
    "def calcule_age_chien(age):\n",
    "    return age*7"
   ]
  },
  {
   "cell_type": "code",
   "execution_count": 3,
   "id": "0c1ec497-3327-4302-9cc4-2e6cb5e77297",
   "metadata": {},
   "outputs": [],
   "source": [
    "age_chien = calcule_age_chien(3)"
   ]
  },
  {
   "cell_type": "code",
   "execution_count": 4,
   "id": "c8acaaec-c40b-4fda-8f2c-df1a295ab67f",
   "metadata": {},
   "outputs": [],
   "source": [
    "age_nouveau_chien =  calcule_age_chien(age_chien)"
   ]
  },
  {
   "cell_type": "code",
   "execution_count": null,
   "id": "7f51632c-30ef-4c57-8863-7e5cdef33a12",
   "metadata": {},
   "outputs": [],
   "source": [
    "# + diff avec PRINT"
   ]
  },
  {
   "cell_type": "markdown",
   "id": "57cb4fe7-041f-4d00-be20-43e653e7fec1",
   "metadata": {},
   "source": [
    "## Exercices ! \n",
    "\n",
    "Créez une fonction appelée `rend_texte_chuchotement` qui transforme du texte en minuscules."
   ]
  },
  {
   "cell_type": "code",
   "execution_count": null,
   "id": "0c617635-622f-4663-bd6a-3e8ca2940c94",
   "metadata": {},
   "outputs": [],
   "source": []
  },
  {
   "cell_type": "markdown",
   "id": "7af6dc86-a4c8-4e21-bf83-e7226624e584",
   "metadata": {},
   "source": [
    "Insérez la chaîne de caractères \"JE CHUCHOTE\" dans rend_texte_chuchotement."
   ]
  },
  {
   "cell_type": "code",
   "execution_count": null,
   "id": "feb724a2-54f0-4e5c-995e-60530eefa027",
   "metadata": {},
   "outputs": [],
   "source": []
  },
  {
   "cell_type": "markdown",
   "id": "de1b2b7b-3a10-463d-9776-417526ab624b",
   "metadata": {},
   "source": [
    "### Reprendre l'exercice 3.3 pour cette semaine avec une fonction\n",
    "\n",
    "la fonction doit retourner le nouveau dictionnaire"
   ]
  },
  {
   "cell_type": "code",
   "execution_count": null,
   "id": "0e645fa6-f727-470f-8576-22b966e40b91",
   "metadata": {},
   "outputs": [],
   "source": []
  },
  {
   "cell_type": "code",
   "execution_count": 70,
   "id": "b0dad396-0429-402e-b037-f5252a02c561",
   "metadata": {},
   "outputs": [],
   "source": [
    "noms = ['David', 'Emma', 'Fabrice', 'Grace', 'Hector', 'Isabelle', 'Jack', 'Kate', 'Louis', 'Marie', 'Nathan', 'Olivia', 'Pierre', 'Queen', 'Robert', 'Samantha', 'Thierry', 'Ursula', 'Vincent', 'Wendy', 'Xavier', 'Yvonne', 'Zack', 'Alicia', 'Bryan', 'Celine', 'Derek', 'Elena', 'Frank', 'Gloria']\n",
    "ages = [34, 28, 42, 35, 29, 31, 45, 39, 27, 33, 38, 26, 40, 30, 37, 41, 32, 36, 43, 25, 44, 29, 31, 39, 46, 28, 35, 37, 30, 42]\n",
    "professions = ['Écrivain', 'Écrivain', 'Juge', 'Artiste', 'Chercheur', 'Médecin', 'Juge', 'Chercheur', 'Chercheur', 'Écrivain', 'Artiste', 'Médecin', 'Médecin', 'Chercheur', 'Chercheur', 'Écrivain', 'Chercheur', 'Chercheur', 'Chercheur', 'Juge', 'Juge', 'Chercheur', 'Chercheur', 'Médecin', 'Écrivain', 'Chercheur', 'Artiste', 'Écrivain', 'Juge', 'Artiste']"
   ]
  },
  {
   "cell_type": "code",
   "execution_count": null,
   "id": "2be77099-d153-4084-aaf7-48f5562e8520",
   "metadata": {},
   "outputs": [],
   "source": []
  }
 ],
 "metadata": {
  "kernelspec": {
   "display_name": "Python 3 (ipykernel)",
   "language": "python",
   "name": "python3"
  },
  "language_info": {
   "codemirror_mode": {
    "name": "ipython",
    "version": 3
   },
   "file_extension": ".py",
   "mimetype": "text/x-python",
   "name": "python",
   "nbconvert_exporter": "python",
   "pygments_lexer": "ipython3",
   "version": "3.12.3"
  }
 },
 "nbformat": 4,
 "nbformat_minor": 5
}
