{
 "cells": [
  {
   "cell_type": "markdown",
   "id": "6b202f36-b850-467a-bfa1-ff2d6f4d9896",
   "metadata": {},
   "source": [
    "# Lecture Fichier et Encodage"
   ]
  },
  {
   "cell_type": "markdown",
   "id": "cb298e53-33ef-4b64-8483-ce827bc65654",
   "metadata": {},
   "source": [
    "## Ouvrir un fichier\n",
    "\n",
    "Si vous souhaitez lire ou écrire un fichier texte avec Python, il est nécessaire d'ouvrir d'abord le fichier. Pour ouvrir un fichier, vous pouvez utiliser la fonction intégrée `open()` de Python."
   ]
  },
  {
   "cell_type": "code",
   "execution_count": 17,
   "id": "65a5a53e-2c65-4097-ab67-5dd060895184",
   "metadata": {},
   "outputs": [
    {
     "data": {
      "text/plain": [
       "'Ceci et une phrase'"
      ]
     },
     "execution_count": 17,
     "metadata": {},
     "output_type": "execute_result"
    }
   ],
   "source": [
    "open('fichier_test.txt', encoding='utf-8').read()"
   ]
  },
  {
   "cell_type": "markdown",
   "id": "92767ce1-e805-4a2d-9da3-920ddfc4c8ad",
   "metadata": {},
   "source": [
    "À l'intérieur des parenthèses de la fonction `open()`, vous insérez le chemin du fichier à ouvrir entre guillemets. Vous devriez également spécifier un encodage de caractères, sur lequel nous discuterons plus en détail ci-dessous. Cette fonction retourne ce qu'on appelle un *objet fichier*.\n",
    "\n",
    "\n",
    "## Lire un fichier\n",
    "\n",
    "\n",
    "Un objet fichier ne contient pas de texte lisible. Pour lire cet objet fichier comme du texte, vous devez utiliser la méthode `.read()`.\n"
   ]
  },
  {
   "cell_type": "code",
   "execution_count": 24,
   "id": "aeb75596-6eac-4228-bbf4-a1a4fe7cf3ac",
   "metadata": {},
   "outputs": [],
   "source": [
    "test = open('fichier_test.txt', mode='r', encoding='utf-8')"
   ]
  },
  {
   "cell_type": "code",
   "execution_count": 1,
   "id": "11d9331e-9d3d-49af-a143-91804c49e536",
   "metadata": {},
   "outputs": [],
   "source": [
    "fichier_verne = open('../corpus/1905_Verne-Jules_Le-Phare-du-Bout-du-Monde.txt', encoding='utf-8').read()"
   ]
  },
  {
   "cell_type": "code",
   "execution_count": 2,
   "id": "10dcf712-e205-4e77-84c5-7c255058ef6a",
   "metadata": {},
   "outputs": [
    {
     "data": {
      "text/plain": [
       "'Le soleil allait disparaître derrière les collines qui limitaient la vue à l’ouest. Le temps était b'"
      ]
     },
     "execution_count": 2,
     "metadata": {},
     "output_type": "execute_result"
    }
   ],
   "source": [
    "fichier_verne[:100]"
   ]
  },
  {
   "cell_type": "code",
   "execution_count": 18,
   "id": "0bbe673a-5ad3-4582-92e1-d59c3bf64a48",
   "metadata": {},
   "outputs": [],
   "source": [
    "fichier_lerouge = open('/home/crazyjeannot/Documents/cours/2025/Python4DH/corpus/1905_Le-Rouge-Gustave_L-Espionne-du-grand-Lama.txt', encoding='utf-8').read()"
   ]
  },
  {
   "cell_type": "code",
   "execution_count": 21,
   "id": "6702d583-8e27-4e24-818b-e154136cdb2f",
   "metadata": {
    "scrolled": true
   },
   "outputs": [
    {
     "data": {
      "text/plain": [
       "' L’ESPIONNE DU GRAND LAMA  1905  Malgré la chaleur torride de cet après-midi, le quai et les rues de'"
      ]
     },
     "execution_count": 21,
     "metadata": {},
     "output_type": "execute_result"
    }
   ],
   "source": [
    "fichier_lerouge[:100]"
   ]
  },
  {
   "cell_type": "markdown",
   "id": "d24de4e8-2149-4ee3-933c-281bfbab1592",
   "metadata": {},
   "source": [
    "### Bonne pratique: refermer instantanément les fichiers lus !"
   ]
  },
  {
   "cell_type": "code",
   "execution_count": 25,
   "id": "1015d953-7f73-441a-80da-d73cda85ce1a",
   "metadata": {},
   "outputs": [],
   "source": [
    "test.close()"
   ]
  },
  {
   "cell_type": "markdown",
   "id": "1b0ae644-9b61-44ef-932f-26e433d7057f",
   "metadata": {},
   "source": [
    "#### Encore mieux :"
   ]
  },
  {
   "cell_type": "code",
   "execution_count": 28,
   "id": "a31bcebd-f40c-47a1-a02c-ac28046f2672",
   "metadata": {},
   "outputs": [],
   "source": [
    "with open('../corpus/1905_Verne-Jules_Le-Phare-du-Bout-du-Monde.txt', encoding='utf-8') as fichier_lecture:\n",
    "    text = fichier_lecture.read()"
   ]
  },
  {
   "cell_type": "code",
   "execution_count": 29,
   "id": "8d89ac00-3479-44d9-b353-93468d98eb94",
   "metadata": {},
   "outputs": [
    {
     "data": {
      "text/plain": [
       "'Le soleil allait disparaître derrière les collines qui limitaient la vue à l’ouest. Le temps était b'"
      ]
     },
     "execution_count": 29,
     "metadata": {},
     "output_type": "execute_result"
    }
   ],
   "source": [
    "text[:100]"
   ]
  },
  {
   "cell_type": "code",
   "execution_count": null,
   "id": "f00e9003-e1f0-4c00-a777-fd2520bc0950",
   "metadata": {},
   "outputs": [],
   "source": []
  },
  {
   "cell_type": "markdown",
   "id": "245224da-eeb8-48e0-9725-df946d20347a",
   "metadata": {},
   "source": [
    "## Écrire un fichier\n",
    "\n",
    "Le mode par défaut pour la fonction `open()` est la lecture des fichiers texte : `mode = 'r'`.\n",
    "\n",
    "Cependant, vous pouvez également utiliser la fonction `open()` pour écrire des fichiers. Il suffit de définir le mode d'écriture : `mode = 'w'`."
   ]
  },
  {
   "cell_type": "code",
   "execution_count": 30,
   "id": "db1db520-2316-4179-9f7a-923a7e3e6c04",
   "metadata": {},
   "outputs": [
    {
     "data": {
      "text/plain": [
       "<_io.TextIOWrapper name='un_nouveau_fichier.txt' mode='w' encoding='utf-8'>"
      ]
     },
     "execution_count": 30,
     "metadata": {},
     "output_type": "execute_result"
    }
   ],
   "source": [
    "open('un_nouveau_fichier.txt', mode='w', encoding='utf-8')"
   ]
  },
  {
   "cell_type": "markdown",
   "id": "521f7448-6f18-4c41-b8bb-16dfa03e3582",
   "metadata": {},
   "source": [
    "Pour écrire quelque chose dans ce fichier texte nouvellement ouvert, vous pouvez utiliser la méthode `.write()`."
   ]
  },
  {
   "cell_type": "code",
   "execution_count": 31,
   "id": "efe7bd4f-1c27-49a1-99ba-36e6ad387732",
   "metadata": {},
   "outputs": [
    {
     "data": {
      "text/plain": [
       "27"
      ]
     },
     "execution_count": 31,
     "metadata": {},
     "output_type": "execute_result"
    }
   ],
   "source": [
    "open('un_nouveau_fichier.txt', mode='w', encoding='utf-8').write('Ceci est une nouvelle ligne')"
   ]
  },
  {
   "cell_type": "markdown",
   "id": "c7be3e2f-8ea7-4864-ba86-85e73579e543",
   "metadata": {},
   "source": [
    "Si nous lisons ce fichier texte nouvellement créé, nous pouvons constater que la méthode `.write()` a fonctionné correctement."
   ]
  },
  {
   "cell_type": "code",
   "execution_count": null,
   "id": "ec381dbe-ba18-4d26-ad98-292d4e95238e",
   "metadata": {},
   "outputs": [],
   "source": [
    "open('un_nouveau_fichier.txt', mode='r', encoding='utf-8').read()"
   ]
  },
  {
   "cell_type": "code",
   "execution_count": null,
   "id": "18cf0d2a-8ee3-4f0b-b46c-67c14f2b2fa8",
   "metadata": {},
   "outputs": [],
   "source": []
  },
  {
   "cell_type": "markdown",
   "id": "19bf0f23-914f-4b03-af3f-e6b204a9ab37",
   "metadata": {},
   "source": [
    "## Encodage de Caractère"
   ]
  },
  {
   "cell_type": "code",
   "execution_count": null,
   "id": "b92f7231-b906-4209-8cf5-3f4bf793d3bf",
   "metadata": {},
   "outputs": [],
   "source": [
    "encoding='utf-8'"
   ]
  },
  {
   "cell_type": "markdown",
   "id": "68d30d81-207b-4c5d-9c6e-7bbd61653097",
   "metadata": {},
   "source": [
    "On doit inclure `encoding='utf-8'` pour ouvrir notre fichier texte, car UTF-8 est un codage de caractères (un type spécifique d'Unicode). On doit spécifier un codage de caractères parce que — oh surprise ! — les ordinateurs ne savent pas réellement ce qu'est du texte. Les codages de caractères sont des systèmes qui cartographient des caractères en nombres. Chaque caractère reçoit un numéro d'identification spécifique. De cette manière, les ordinateurs peuvent réellement lire et comprendre les caractères.\n",
    "\n",
    "Vous pouvez vérifier le \"point de code\" de n'importe quel caractère, c'est-à-dire sa place dans l'univers Unicode, avec la fonction `ord()`."
   ]
  },
  {
   "cell_type": "code",
   "execution_count": 26,
   "id": "633818d9-bf0f-4828-b1ef-eb47e33a46a4",
   "metadata": {},
   "outputs": [
    {
     "data": {
      "text/plain": [
       "97"
      ]
     },
     "execution_count": 26,
     "metadata": {},
     "output_type": "execute_result"
    }
   ],
   "source": [
    "ord(\"a\")"
   ]
  },
  {
   "cell_type": "code",
   "execution_count": 27,
   "id": "20a5faa0-928b-40c2-afc6-fc89b5a3fe2c",
   "metadata": {},
   "outputs": [
    {
     "data": {
      "text/plain": [
       "65"
      ]
     },
     "execution_count": 27,
     "metadata": {},
     "output_type": "execute_result"
    }
   ],
   "source": [
    "ord(\"A\")"
   ]
  },
  {
   "cell_type": "code",
   "execution_count": 31,
   "id": "6fe792e1-91f2-46c9-8c5b-eff0562ed09a",
   "metadata": {},
   "outputs": [
    {
     "data": {
      "text/plain": [
       "'a'"
      ]
     },
     "execution_count": 31,
     "metadata": {},
     "output_type": "execute_result"
    }
   ],
   "source": [
    "chr(97)"
   ]
  },
  {
   "cell_type": "code",
   "execution_count": 28,
   "id": "552d4f2d-8c85-494c-b547-ed8225de12ae",
   "metadata": {},
   "outputs": [
    {
     "data": {
      "text/plain": [
       "128169"
      ]
     },
     "execution_count": 28,
     "metadata": {},
     "output_type": "execute_result"
    }
   ],
   "source": [
    "ord(\"💩\")"
   ]
  },
  {
   "cell_type": "code",
   "execution_count": 29,
   "id": "6b5fac5f-822f-4ee0-bf5e-e52281878d6d",
   "metadata": {},
   "outputs": [
    {
     "data": {
      "text/plain": [
       "2468"
      ]
     },
     "execution_count": 29,
     "metadata": {},
     "output_type": "execute_result"
    }
   ],
   "source": [
    "ord(\"ত\")"
   ]
  },
  {
   "cell_type": "code",
   "execution_count": 30,
   "id": "970d78ce-7818-48e2-878e-36009fa86870",
   "metadata": {},
   "outputs": [
    {
     "data": {
      "text/plain": [
       "33"
      ]
     },
     "execution_count": 30,
     "metadata": {},
     "output_type": "execute_result"
    }
   ],
   "source": [
    "ord(\"!\")"
   ]
  },
  {
   "cell_type": "code",
   "execution_count": null,
   "id": "2065b989-4d81-4bf4-92f0-54aeaf072b18",
   "metadata": {},
   "outputs": [],
   "source": []
  },
  {
   "cell_type": "markdown",
   "id": "62972559-32ed-4a93-a627-ae69c9e2146e",
   "metadata": {},
   "source": [
    "### Spécifier l'encodage (UTF-8)\n",
    "\n",
    "c'est toujours une bonne pratique de spécifier l'encodage UTF-8 lorsque l'on ouvre un fichier"
   ]
  },
  {
   "cell_type": "code",
   "execution_count": 6,
   "id": "baa5f2d2-52ff-49a3-aa34-5c92e1f85c98",
   "metadata": {},
   "outputs": [],
   "source": [
    "test_encodage = open('encodage_de_caractere.txt', encoding='utf-8').read()"
   ]
  },
  {
   "cell_type": "code",
   "execution_count": 7,
   "id": "41bea2b7-e04f-4810-8315-607a54b8b55b",
   "metadata": {},
   "outputs": [
    {
     "name": "stdout",
     "output_type": "stream",
     "text": [
      "***\n",
      "Voici un exemple de guillemets courbes :\n",
      "« Elle a dit, 'Je ne vais pas gaffer dans l'encodage !' »\n",
      "***\n",
      "\n",
      "***\n",
      "Un exemple d'emoji:\n",
      "💩\n",
      "***\n",
      "\n",
      "***\n",
      "Voici un exemple en bengali :\n",
      "আদিত্য মুখোপাধ্যায় পোপ টাইপ করতে পারেন তবে তাঁর নাম বানান করতে পারবেন না\n",
      "(Aditya Mukerjee peut taper le mot \"caca\" mais ne peut pas épeler son propre nom)\n",
      "***\n",
      "\n",
      "***Ceci est un exemple en russe :\n",
      "Говорили, что на набережной появилось новое лицо: дама с собачкой.\n",
      "(Il était dit qu'une nouvelle personne était apparue sur le front de mer : une dame avec un petit chien.)\n",
      "***\n",
      "\n",
      "***\n",
      "C'est un exemple en chinois :\n",
      "如果我们想学习中文短篇小说怎么办？\n",
      "(Que faire si nous voulons étudier des nouvelles chinoises ?)\n",
      "***\n"
     ]
    }
   ],
   "source": [
    "print(test_encodage)"
   ]
  },
  {
   "cell_type": "markdown",
   "id": "fd98b5f3-7cb6-4bd8-88b4-70cd3fe92d9d",
   "metadata": {},
   "source": [
    "Voyez ce qui se passe si nous lisons exactement le même texte avec un codage différent."
   ]
  },
  {
   "cell_type": "code",
   "execution_count": 34,
   "id": "20404321-dd38-4129-b335-089725038bba",
   "metadata": {},
   "outputs": [
    {
     "name": "stdout",
     "output_type": "stream",
     "text": [
      "***\n",
      "Voici un exemple de guillemets courbes :\n",
      "Â« Elle a dit, 'Je ne vais pas gaffer dans l'encodage !' Â»\n",
      "***\n",
      "\n",
      "***\n",
      "Un exemple d'emoji:\n",
      "ð©\n",
      "***\n",
      "\n",
      "***\n",
      "Voici un exemple en bengali :\n",
      "à¦à¦¦à¦¿à¦¤à§à¦¯ à¦®à§à¦à§à¦ªà¦¾à¦§à§à¦¯à¦¾à¦¯à¦¼ à¦ªà§à¦ª à¦à¦¾à¦à¦ª à¦à¦°à¦¤à§ à¦ªà¦¾à¦°à§à¦¨ à¦¤à¦¬à§ à¦¤à¦¾à¦à¦° à¦¨à¦¾à¦® à¦¬à¦¾à¦¨à¦¾à¦¨ à¦à¦°à¦¤à§ à¦ªà¦¾à¦°à¦¬à§à¦¨ à¦¨à¦¾\n",
      "(Aditya Mukerjee peut taper le mot \"caca\" mais ne peut pas Ã©peler son propre nom)\n",
      "***\n",
      "\n",
      "***Ceci est un exemple en russe :\n",
      "ÐÐ¾Ð²Ð¾ÑÐ¸Ð»Ð¸, ÑÑÐ¾ Ð½Ð° Ð½Ð°Ð±ÐµÑÐµÐ¶Ð½Ð¾Ð¹ Ð¿Ð¾ÑÐ²Ð¸Ð»Ð¾ÑÑ Ð½Ð¾Ð²Ð¾Ðµ Ð»Ð¸ÑÐ¾: Ð´Ð°Ð¼Ð° Ñ ÑÐ¾Ð±Ð°ÑÐºÐ¾Ð¹.\n",
      "(Il Ã©tait dit qu'une nouvelle personne Ã©tait apparue sur le front de mer : une dame avec un petit chien.)\n",
      "***\n",
      "\n",
      "***\n",
      "C'est un exemple en chinois :\n",
      "å¦ææä»¬æ³å­¦ä¹ ä¸­æç­ç¯å°è¯´æä¹åï¼\n",
      "(Que faire si nous voulons Ã©tudier des nouvelles chinoises ?)\n",
      "***\n"
     ]
    }
   ],
   "source": [
    "test_encodage_iso = open('encodage_de_caractere.txt', encoding='iso-8859-1').read()\n",
    "print(test_encodage_iso)"
   ]
  },
  {
   "cell_type": "code",
   "execution_count": null,
   "id": "108081d5-7e5c-4381-9bc2-eb0c491b131e",
   "metadata": {},
   "outputs": [],
   "source": []
  },
  {
   "cell_type": "code",
   "execution_count": 35,
   "id": "559d6864-5112-412b-823b-0e1c2d1c8a22",
   "metadata": {},
   "outputs": [
    {
     "ename": "UnicodeDecodeError",
     "evalue": "'ascii' codec can't decode byte 0xc2 in position 45: ordinal not in range(128)",
     "output_type": "error",
     "traceback": [
      "\u001b[0;31m---------------------------------------------------------------------------\u001b[0m",
      "\u001b[0;31mUnicodeDecodeError\u001b[0m                        Traceback (most recent call last)",
      "Cell \u001b[0;32mIn[35], line 1\u001b[0m\n\u001b[0;32m----> 1\u001b[0m test_encodage_ascii \u001b[38;5;241m=\u001b[39m \u001b[38;5;28;43mopen\u001b[39;49m\u001b[43m(\u001b[49m\u001b[38;5;124;43m'\u001b[39;49m\u001b[38;5;124;43mencodage_de_caractere.txt\u001b[39;49m\u001b[38;5;124;43m'\u001b[39;49m\u001b[43m,\u001b[49m\u001b[43m \u001b[49m\u001b[43mencoding\u001b[49m\u001b[38;5;241;43m=\u001b[39;49m\u001b[38;5;124;43m'\u001b[39;49m\u001b[38;5;124;43mascii\u001b[39;49m\u001b[38;5;124;43m'\u001b[39;49m\u001b[43m)\u001b[49m\u001b[38;5;241;43m.\u001b[39;49m\u001b[43mread\u001b[49m\u001b[43m(\u001b[49m\u001b[43m)\u001b[49m\n\u001b[1;32m      2\u001b[0m \u001b[38;5;28mprint\u001b[39m(test_encodage_ascii)\n",
      "File \u001b[0;32m/usr/lib/python3.10/encodings/ascii.py:26\u001b[0m, in \u001b[0;36mIncrementalDecoder.decode\u001b[0;34m(self, input, final)\u001b[0m\n\u001b[1;32m     25\u001b[0m \u001b[38;5;28;01mdef\u001b[39;00m \u001b[38;5;21mdecode\u001b[39m(\u001b[38;5;28mself\u001b[39m, \u001b[38;5;28minput\u001b[39m, final\u001b[38;5;241m=\u001b[39m\u001b[38;5;28;01mFalse\u001b[39;00m):\n\u001b[0;32m---> 26\u001b[0m     \u001b[38;5;28;01mreturn\u001b[39;00m \u001b[43mcodecs\u001b[49m\u001b[38;5;241;43m.\u001b[39;49m\u001b[43mascii_decode\u001b[49m\u001b[43m(\u001b[49m\u001b[38;5;28;43minput\u001b[39;49m\u001b[43m,\u001b[49m\u001b[43m \u001b[49m\u001b[38;5;28;43mself\u001b[39;49m\u001b[38;5;241;43m.\u001b[39;49m\u001b[43merrors\u001b[49m\u001b[43m)\u001b[49m[\u001b[38;5;241m0\u001b[39m]\n",
      "\u001b[0;31mUnicodeDecodeError\u001b[0m: 'ascii' codec can't decode byte 0xc2 in position 45: ordinal not in range(128)"
     ]
    }
   ],
   "source": [
    "test_encodage_ascii = open('encodage_de_caractere.txt', encoding='ascii').read()\n",
    "print(test_encodage_ascii)"
   ]
  },
  {
   "cell_type": "code",
   "execution_count": null,
   "id": "1f5f8beb-0f15-484d-9cfc-300817db2f19",
   "metadata": {},
   "outputs": [],
   "source": []
  },
  {
   "cell_type": "markdown",
   "id": "4043093e-4d10-413b-87cd-49d60766a9be",
   "metadata": {},
   "source": [
    "Comme l'écrit David C. Zentgraf dans son article utile sur les [encodages de caractères](http://kunststube.net/encoding/):\n",
    "\n",
    "> Si vous ouvrez un document et qu'il ressemble à ceci [voir ci-dessus], il n'y a qu'une seule raison à cela : Votre éditeur de texte, navigateur, traitement de texte ou tout autre logiciel essayant de lire le document suppose le mauvais encodage. C'est tout. Le document n'est pas corrompu... vous n'avez pas de formule magique à effectuer, vous devez simplement sélectionner le bon encodage pour afficher le document.\n",
    "\n",
    "Pas de magie ! Vérifiez simplement l'encodage."
   ]
  },
  {
   "cell_type": "code",
   "execution_count": null,
   "id": "4b0fb500-1c65-4f38-bd69-e5af241a9f4a",
   "metadata": {},
   "outputs": [],
   "source": []
  },
  {
   "cell_type": "markdown",
   "id": "d1c7dbe8-f458-4f01-b632-cedae85e9f70",
   "metadata": {},
   "source": [
    "## Plus avancé : Ouvrir et lire tous les fichiers dans un répertoire\n",
    "Nous n'avons pas encore complètement discuté des modules Python et des boucles `for`, mais une fois que vous êtes à l'aise avec ces concepts, il est utile de savoir comment travailler avec tous les fichiers d'un répertoire.\n",
    "**Importer la bibliothèque Path**"
   ]
  },
  {
   "cell_type": "code",
   "execution_count": 37,
   "id": "61c5c936-4ce3-4635-bcf9-a0c7efba2e20",
   "metadata": {},
   "outputs": [],
   "source": [
    "from pathlib import Path"
   ]
  },
  {
   "cell_type": "code",
   "execution_count": 38,
   "id": "403a6465-779e-4e68-8411-3895b3dc1cc9",
   "metadata": {},
   "outputs": [],
   "source": [
    "chemin_dossier = '../corpus/'"
   ]
  },
  {
   "cell_type": "markdown",
   "id": "8420b006-be96-4dfe-8995-c8ab537f58ea",
   "metadata": {},
   "source": [
    "**Parcourir tous les fichiers dans le répertoire avec le caractère étoile `*`, qui correspond à ''tout''**"
   ]
  },
  {
   "cell_type": "code",
   "execution_count": 39,
   "id": "1713758f-1bd9-4e18-9bf4-b4a2d3faef8f",
   "metadata": {},
   "outputs": [
    {
     "name": "stdout",
     "output_type": "stream",
     "text": [
      "../corpus/1902_Loti-Pierre_Les-derniers-jours-de-Pekin.txt\n",
      "../corpus/1906_Gide-Andre_Amyntas.txt\n",
      "../corpus/1933_Veuzit-Max-du_Vers-l'unique.txt\n",
      "../corpus/1938_Larbaud-Valery_Aux-couleurs-de-Rome.txt\n",
      "../corpus/1905_Farrere-Claude_Les-civilises.txt\n",
      "../corpus/1955_Delly_Ourida.txt\n",
      "../corpus/1904_Le-Rouge-Gustave_L-Esclave-amoureuse.txt\n",
      "../corpus/1913_Delly_Entre-deux-ames.txt\n",
      "../corpus/1912_Loti-Pierre_Un-pelerin-d-Angkor 2.txt\n",
      "../corpus/1908_Veuzit-Max-du_Le-mystere-de-Malbackt.txt\n",
      "../corpus/2008_Rolin-Olivier_La-Chambre-des-cartes.txt\n",
      "../corpus/1913_Delly_Dans-l'ombre-du-mystere.txt\n",
      "../corpus/1913_Dombre-Roger_Un-tuteur-embarrasse.txt\n",
      "../corpus/1903_Vogue-Eugene-Melchior-de_Le-Maitre-de-la-mer.txt\n",
      "../corpus/1902_Le-Rouge-Gustave_La-Princesse-des-airs_Tome-II.txt\n",
      "../corpus/1905_Lermina-Jules_To-Ho-Le-Tueur-d-or.txt\n",
      "../corpus/1905_Le-Rouge-Gustave_L-Espionne-du-grand-Lama.txt\n",
      "../corpus/1912_Loti-Pierre_Un-pelerin-d-Angkor.txt\n",
      "../corpus/1932_Veuzit-Max-du_Petite-comtesse.txt\n",
      "../corpus/1900_Verne-Jules-_Seconde-patrie.txt\n",
      "../corpus/1905_Verne-Jules_Le-Phare-du-Bout-du-Monde.txt\n",
      "../corpus/1931_Veuzit-Max-du_John,-chauffeur-russe.txt\n",
      "../corpus/1963_Bouvier-Nicolas_L-usage-du-monde.txt\n",
      "../corpus/1916_Delly_La-fin-d'une-Walkyrie.txt\n",
      "../corpus/1902_Le-Rouge-Gustave_La-Princesse-des-airs_Tome-I.txt\n",
      "../corpus/1905_Verne-Jules_L-invasion-de-la-mer.txt\n",
      "../corpus/2012_Kerangal-Maylis-de_Tangente-vers-l-est.txt\n",
      "../corpus/1901_Thurner-Georges_Mademoiselle-Flammette.txt\n",
      "../corpus/1903_Loti-Pierre_L-Inde-(sans-les-Anglais).txt\n",
      "../corpus/1904_Loti-Pierre_Vers-Ispahan.txt\n",
      "../corpus/1908_Delly_L'exilee.txt\n",
      "../corpus/1911_Gautier-Judith_En-chine-Merveilleuses-histoires.txt\n",
      "../corpus/1902_Allais-Alphonse_Le-Captain-Cap.txt\n",
      "../corpus/2013_Tesson-Sylvain_Dans-les-forets-de-Siberie.txt\n",
      "../corpus/1916_Ardel-Henri_Le-chemin-qui-descend.txt\n",
      "../corpus/1917_Delly_La-petite-chanoinesse.txt\n",
      "../corpus/1922_Alanic-Mathilde_La-route-ardente.txt\n"
     ]
    }
   ],
   "source": [
    "for chemin_fichier in Path(chemin_dossier).glob('*'):\n",
    "    print(chemin_fichier)"
   ]
  },
  {
   "cell_type": "markdown",
   "id": "8600694e-0dbb-4ed0-b487-aa83a3bbb01e",
   "metadata": {},
   "source": [
    "**Parcourir tous les fichiers `*.txt` dans le dossier**"
   ]
  },
  {
   "cell_type": "code",
   "execution_count": 40,
   "id": "37cddc20-9a96-4a88-900c-2a90027ff44d",
   "metadata": {},
   "outputs": [
    {
     "name": "stdout",
     "output_type": "stream",
     "text": [
      "../corpus/1902_Loti-Pierre_Les-derniers-jours-de-Pekin.txt\n",
      "../corpus/1906_Gide-Andre_Amyntas.txt\n",
      "../corpus/1933_Veuzit-Max-du_Vers-l'unique.txt\n",
      "../corpus/1938_Larbaud-Valery_Aux-couleurs-de-Rome.txt\n",
      "../corpus/1905_Farrere-Claude_Les-civilises.txt\n",
      "../corpus/1955_Delly_Ourida.txt\n",
      "../corpus/1904_Le-Rouge-Gustave_L-Esclave-amoureuse.txt\n",
      "../corpus/1913_Delly_Entre-deux-ames.txt\n",
      "../corpus/1912_Loti-Pierre_Un-pelerin-d-Angkor 2.txt\n",
      "../corpus/1908_Veuzit-Max-du_Le-mystere-de-Malbackt.txt\n",
      "../corpus/2008_Rolin-Olivier_La-Chambre-des-cartes.txt\n",
      "../corpus/1913_Delly_Dans-l'ombre-du-mystere.txt\n",
      "../corpus/1913_Dombre-Roger_Un-tuteur-embarrasse.txt\n",
      "../corpus/1903_Vogue-Eugene-Melchior-de_Le-Maitre-de-la-mer.txt\n",
      "../corpus/1902_Le-Rouge-Gustave_La-Princesse-des-airs_Tome-II.txt\n",
      "../corpus/1905_Lermina-Jules_To-Ho-Le-Tueur-d-or.txt\n",
      "../corpus/1905_Le-Rouge-Gustave_L-Espionne-du-grand-Lama.txt\n",
      "../corpus/1912_Loti-Pierre_Un-pelerin-d-Angkor.txt\n",
      "../corpus/1932_Veuzit-Max-du_Petite-comtesse.txt\n",
      "../corpus/1900_Verne-Jules-_Seconde-patrie.txt\n",
      "../corpus/1905_Verne-Jules_Le-Phare-du-Bout-du-Monde.txt\n",
      "../corpus/1931_Veuzit-Max-du_John,-chauffeur-russe.txt\n",
      "../corpus/1963_Bouvier-Nicolas_L-usage-du-monde.txt\n",
      "../corpus/1916_Delly_La-fin-d'une-Walkyrie.txt\n",
      "../corpus/1902_Le-Rouge-Gustave_La-Princesse-des-airs_Tome-I.txt\n",
      "../corpus/1905_Verne-Jules_L-invasion-de-la-mer.txt\n",
      "../corpus/2012_Kerangal-Maylis-de_Tangente-vers-l-est.txt\n",
      "../corpus/1901_Thurner-Georges_Mademoiselle-Flammette.txt\n",
      "../corpus/1903_Loti-Pierre_L-Inde-(sans-les-Anglais).txt\n",
      "../corpus/1904_Loti-Pierre_Vers-Ispahan.txt\n",
      "../corpus/1908_Delly_L'exilee.txt\n",
      "../corpus/1911_Gautier-Judith_En-chine-Merveilleuses-histoires.txt\n",
      "../corpus/1902_Allais-Alphonse_Le-Captain-Cap.txt\n",
      "../corpus/2013_Tesson-Sylvain_Dans-les-forets-de-Siberie.txt\n",
      "../corpus/1916_Ardel-Henri_Le-chemin-qui-descend.txt\n",
      "../corpus/1917_Delly_La-petite-chanoinesse.txt\n",
      "../corpus/1922_Alanic-Mathilde_La-route-ardente.txt\n"
     ]
    }
   ],
   "source": [
    "for chemin_fichier in Path(chemin_dossier).glob('*.txt'):\n",
    "    print(chemin_fichier)"
   ]
  },
  {
   "cell_type": "markdown",
   "id": "53aecf86-65a0-4453-8832-ed4dca394267",
   "metadata": {},
   "source": [
    "**Pour lire ces fichiers texte, il suffit d'ajouter la fonction `open()` et la méthode `.read()`**"
   ]
  },
  {
   "cell_type": "code",
   "execution_count": 41,
   "id": "68537a1f-87ed-4e5a-b410-ac66728e671f",
   "metadata": {},
   "outputs": [
    {
     "name": "stdout",
     "output_type": "stream",
     "text": [
      " Première partie  ARRIVÉE DANS LA MER JAUNE  L ’EXTRÊME MATIN, SUR UNE mer calme et sous un ciel d’é\n",
      " André Gide  AMYNTAS  (1906)  à M. A. G.  Mopsus  AVRIL 1899  Incipe, Mopse, prior…  Virgile.  Mopsu\n",
      "Max du Veuzit     Vers l’unique roman       Vers l’unique   – Êtes-vous contente d’Isabelle ? s’info\n",
      " Valery Larbaud  Aux couleurs  de Rome  Gallimard  Puissantes, lourdes, chargées sont les couleurs m\n",
      " A Monsieur Pierre Louÿs.  MON CHER AMI,  L'an passé, je risquais mon premier livre; et ce livre,—tr\n",
      "  L’automobile de la princesse Falnerra montait lentement la côte qui s’allongeait entre les hêtres \n",
      " Chapitre 1  I l y avait plus de soixante ans que l’empereur Napoléon, pressé d’argent, avait vendu \n",
      "ÀMonsieur Charles FoleyAmical et reconnaissant hommage. Les membres du Jockey-Club venaient de fêter\n",
      " Pierre Loti  Un pèlerin d'Angkor  A MONSIEUR PAUL DOUMER  Cher ami,  Vous gouverniez là-bas – et av\n",
      " Le mystère de Malbackt Édition de référence :Librairie Jules Tallandier, 1974.    À M. Auguste Gode\n",
      " Chambre avec cartes a été publié par la revue de la Bibliothèque Nationale de France, n° 8, 2001.  \n",
      "  DellyDans l’ombre du mystère roman     Dans l’ombre du mystère  Feuilleton de l’Écho de Paris –du \n",
      " 1  J’ÉTAIS MORTE.  Positivement et littéralement morte.  La preuve, c’est que tante Germaine se mou\n",
      " Eugène-Melchior de Vogüé  LE MAÎTRE DE LA MER  (1903)  PREMIÈRE PARTIE  « La mer le transforme en q\n",
      " LA PRINCESSE DES AIRS  TOME II  Première publication 1902 [mars, avril, juillet et août], 4 vol., P\n",
      " Jules Lermina  To-Ho Le Tueur d'or  Partie 1  Le Supplice de Méha  Chapitre 1  D ans le kraton de K\n",
      " L’ESPIONNE DU GRAND LAMA  1905  Malgré la chaleur torride de cet après-midi, le quai et les rues de\n",
      " Pierre Loti  Un pèlerin d'Angkor  A MONSIEUR PAUL DOUMER  Cher ami,  Vous gouverniez là-bas – et av\n",
      " – Philippe, mon enfant, veux-tu, oui ou non, examiner sérieusement ma proposition ? Ton entêtement \n",
      "La belle saison arriva dès la seconde semaine d’octobre. Ce mois est le premier du printemps de la z\n",
      "Le soleil allait disparaître derrière les collines qui limitaient la vue à l’ouest. Le temps était b\n",
      "  John, chauffeur russe Édition de référence :Éditions V.D.B. Une longue auto, à conduite intérieure\n",
      " I shall be gone and live  or stay and die.  Shakespeare  NOTE POUR  CETTE NOUVELLE ÉDITION  Les deu\n",
      "    La fin d’une Walkyrie  Édition de référence :Librairie Plon, 1916. Ce volume a aussi paru sous l\n",
      " LA PRINCESSE DES AIRS  TOME I  Première publication 1902 [mars, avril, juillet et août], 4 vol., Pa\n",
      "Ce texte a paru dans le quotidien l’Humanité le 3 avril 1905, quelques jours après la mort de J. Ver\n",
      " Tangente vers l’est est la reprise infidèle d’une fiction radiophonique intitulée Lignes de fuite ,\n",
      " INTRODUCTION  Le malouin Jacques Cartier, envoyé par François I er , après la paix de Cambrai, arri\n",
      " Première partie  EN ROUTE VERS L’INDE MIDI, DANS LA MER Rouge. De la lumière, de la lumière, tant d\n",
      " Première partie  Chapitre 1  PRÉLUDE QUI VEUT VENIR AVEC moi voir à Ispahan la saison des roses, pr\n",
      "L’exilée Les nuages s’étaient un instant écartés, un vif rayon de soleil d’avril frappait le vitrage\n",
      " « FAIRE un beau voyage,» quelle émotion soulevaient ces simples mots dans notre cœur d'enfant! Quel\n",
      " Avant-propos  Il importe tout d’abord de dissiper une des plus grossières erreurs de ce temps et de\n",
      "Sylvain TessonDans les forêtsde SibérieFévrier-juillet 2010GallimardUn pas de côté Je m’étais promis\n",
      " A  MADEMOISELLE GEORGETTE FILON  Ce livre qu'elle a aimé .  Très amicalement  H. A.  Assise sur le \n",
      "La petite chanoinesse Édition de référence :Paris, Librairie Plon, 1919.   « Ni l’éloignement ni la \n",
      "  La route ardente – Tiens ! ceci vous est adressé Mademoiselle Le Goël. Heureusement, je ne l’ai pa\n"
     ]
    }
   ],
   "source": [
    "for chemin_fichier in Path(chemin_dossier).glob('*.txt'):\n",
    "    with open(chemin_fichier, encoding='utf-8') as fichier:\n",
    "        print(fichier.read()[:100])\n",
    "        #print(chemin_fichier)"
   ]
  },
  {
   "cell_type": "code",
   "execution_count": null,
   "id": "c4166283-0613-45c7-9045-8e76993bfa5f",
   "metadata": {},
   "outputs": [],
   "source": []
  },
  {
   "cell_type": "markdown",
   "id": "ccd2b45b-9ea1-4095-99a6-ab362c65cade",
   "metadata": {},
   "source": [
    "#### Encore mieux:"
   ]
  },
  {
   "cell_type": "code",
   "execution_count": 13,
   "id": "60a60b36-2254-4640-8959-f1342837cd47",
   "metadata": {},
   "outputs": [],
   "source": [
    "from glob import glob"
   ]
  },
  {
   "cell_type": "code",
   "execution_count": 14,
   "id": "faa0c887-0598-498d-bfc8-5f1433ad053a",
   "metadata": {},
   "outputs": [],
   "source": [
    "chemin_dossier = '../corpus/*.txt'"
   ]
  },
  {
   "cell_type": "code",
   "execution_count": 15,
   "id": "acde8dbb-71ac-457f-ba87-9273d8dceedc",
   "metadata": {},
   "outputs": [
    {
     "name": "stdout",
     "output_type": "stream",
     "text": [
      " Première partie  ARRIVÉE DANS LA MER JAUNE  L ’EXTRÊME MATIN, SUR UNE mer calme et sous un ciel d’é\n",
      " André Gide  AMYNTAS  (1906)  à M. A. G.  Mopsus  AVRIL 1899  Incipe, Mopse, prior…  Virgile.  Mopsu\n",
      "Max du Veuzit     Vers l’unique roman       Vers l’unique   – Êtes-vous contente d’Isabelle ? s’info\n",
      " Valery Larbaud  Aux couleurs  de Rome  Gallimard  Puissantes, lourdes, chargées sont les couleurs m\n",
      " A Monsieur Pierre Louÿs.  MON CHER AMI,  L'an passé, je risquais mon premier livre; et ce livre,—tr\n",
      "  L’automobile de la princesse Falnerra montait lentement la côte qui s’allongeait entre les hêtres \n",
      " Chapitre 1  I l y avait plus de soixante ans que l’empereur Napoléon, pressé d’argent, avait vendu \n",
      "ÀMonsieur Charles FoleyAmical et reconnaissant hommage. Les membres du Jockey-Club venaient de fêter\n",
      " Pierre Loti  Un pèlerin d'Angkor  A MONSIEUR PAUL DOUMER  Cher ami,  Vous gouverniez là-bas – et av\n",
      " Le mystère de Malbackt Édition de référence :Librairie Jules Tallandier, 1974.    À M. Auguste Gode\n",
      " Chambre avec cartes a été publié par la revue de la Bibliothèque Nationale de France, n° 8, 2001.  \n",
      "  DellyDans l’ombre du mystère roman     Dans l’ombre du mystère  Feuilleton de l’Écho de Paris –du \n",
      " 1  J’ÉTAIS MORTE.  Positivement et littéralement morte.  La preuve, c’est que tante Germaine se mou\n",
      " Eugène-Melchior de Vogüé  LE MAÎTRE DE LA MER  (1903)  PREMIÈRE PARTIE  « La mer le transforme en q\n",
      " LA PRINCESSE DES AIRS  TOME II  Première publication 1902 [mars, avril, juillet et août], 4 vol., P\n",
      " Jules Lermina  To-Ho Le Tueur d'or  Partie 1  Le Supplice de Méha  Chapitre 1  D ans le kraton de K\n",
      " L’ESPIONNE DU GRAND LAMA  1905  Malgré la chaleur torride de cet après-midi, le quai et les rues de\n",
      " Pierre Loti  Un pèlerin d'Angkor  A MONSIEUR PAUL DOUMER  Cher ami,  Vous gouverniez là-bas – et av\n",
      " – Philippe, mon enfant, veux-tu, oui ou non, examiner sérieusement ma proposition ? Ton entêtement \n",
      "La belle saison arriva dès la seconde semaine d’octobre. Ce mois est le premier du printemps de la z\n",
      "Le soleil allait disparaître derrière les collines qui limitaient la vue à l’ouest. Le temps était b\n",
      "  John, chauffeur russe Édition de référence :Éditions V.D.B. Une longue auto, à conduite intérieure\n",
      " I shall be gone and live  or stay and die.  Shakespeare  NOTE POUR  CETTE NOUVELLE ÉDITION  Les deu\n",
      "    La fin d’une Walkyrie  Édition de référence :Librairie Plon, 1916. Ce volume a aussi paru sous l\n",
      " LA PRINCESSE DES AIRS  TOME I  Première publication 1902 [mars, avril, juillet et août], 4 vol., Pa\n",
      "Ce texte a paru dans le quotidien l’Humanité le 3 avril 1905, quelques jours après la mort de J. Ver\n",
      " Tangente vers l’est est la reprise infidèle d’une fiction radiophonique intitulée Lignes de fuite ,\n",
      " INTRODUCTION  Le malouin Jacques Cartier, envoyé par François I er , après la paix de Cambrai, arri\n",
      " Première partie  EN ROUTE VERS L’INDE MIDI, DANS LA MER Rouge. De la lumière, de la lumière, tant d\n",
      " Première partie  Chapitre 1  PRÉLUDE QUI VEUT VENIR AVEC moi voir à Ispahan la saison des roses, pr\n",
      "L’exilée Les nuages s’étaient un instant écartés, un vif rayon de soleil d’avril frappait le vitrage\n",
      " « FAIRE un beau voyage,» quelle émotion soulevaient ces simples mots dans notre cœur d'enfant! Quel\n",
      " Avant-propos  Il importe tout d’abord de dissiper une des plus grossières erreurs de ce temps et de\n",
      "Sylvain TessonDans les forêtsde SibérieFévrier-juillet 2010GallimardUn pas de côté Je m’étais promis\n",
      " A  MADEMOISELLE GEORGETTE FILON  Ce livre qu'elle a aimé .  Très amicalement  H. A.  Assise sur le \n",
      "La petite chanoinesse Édition de référence :Paris, Librairie Plon, 1919.   « Ni l’éloignement ni la \n",
      "  La route ardente – Tiens ! ceci vous est adressé Mademoiselle Le Goël. Heureusement, je ne l’ai pa\n"
     ]
    }
   ],
   "source": [
    "for chemin_fichier in glob(chemin_dossier):\n",
    "    with open(chemin_fichier, encoding='utf-8') as fichier:\n",
    "        print(fichier.read()[:100])"
   ]
  },
  {
   "cell_type": "code",
   "execution_count": null,
   "id": "64d0e6e3-474d-4dfa-ae57-4759474903bd",
   "metadata": {},
   "outputs": [],
   "source": []
  }
 ],
 "metadata": {
  "kernelspec": {
   "display_name": "Python 3 (ipykernel)",
   "language": "python",
   "name": "python3"
  },
  "language_info": {
   "codemirror_mode": {
    "name": "ipython",
    "version": 3
   },
   "file_extension": ".py",
   "mimetype": "text/x-python",
   "name": "python",
   "nbconvert_exporter": "python",
   "pygments_lexer": "ipython3",
   "version": "3.12.3"
  }
 },
 "nbformat": 4,
 "nbformat_minor": 5
}
