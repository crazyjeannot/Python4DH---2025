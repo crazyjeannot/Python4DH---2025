{
 "cells": [
  {
   "cell_type": "markdown",
   "id": "f9ec1450-cf80-4cfa-8d3e-e46593552719",
   "metadata": {},
   "source": [
    "### Exercices Séance 3.\n",
    "\n",
    "*Vous ne pouvez pas utiliser la fonction `Counter` de la librairie `collections`*\n",
    "\n",
    "**1/** Créer une fonction `compte_mots` qui prend en paramètre une liste de mot et retourne les fréquences d'apparition dans un dictionnaire des mots.\n",
    "\n",
    "**2/** Créer une fonction `sauvegarde` qui prend en paramètre deux listes, écrit dans deux fichiers distincts, `mots_peu_frequents.txt` et `mots_très_frequents.txt` et ne retourne rien.\n",
    "\n",
    "**3/** Créer une fonction `main` qui prend en paramètre un chemin de fichier (au choix dans ../data/txt/roman_choisi.txt), deux nombres N, et M (valeur par défaut=10), créé une liste de tous les mots du fichier txt, appelle la fonction `compte_mots` avec cette liste créée en argument, puis récupère le dictionnaire de sortie et crée deux listes, une première avec les N mots les plus fréquents, une seconde avec les M les moins fréquents. Enfin elle appelle la fonction `sauvegarde` et retourne les deux listes\n",
    "\n"
   ]
  },
  {
   "cell_type": "code",
   "execution_count": null,
   "id": "19afb506-5f65-435f-bba5-a61c7562670f",
   "metadata": {},
   "outputs": [],
   "source": []
  },
  {
   "cell_type": "code",
   "execution_count": null,
   "id": "d7a78b27-d412-4492-babf-342a667fbc59",
   "metadata": {},
   "outputs": [],
   "source": []
  }
 ],
 "metadata": {
  "kernelspec": {
   "display_name": "Python 3 (ipykernel)",
   "language": "python",
   "name": "python3"
  },
  "language_info": {
   "codemirror_mode": {
    "name": "ipython",
    "version": 3
   },
   "file_extension": ".py",
   "mimetype": "text/x-python",
   "name": "python",
   "nbconvert_exporter": "python",
   "pygments_lexer": "ipython3",
   "version": "3.12.3"
  }
 },
 "nbformat": 4,
 "nbformat_minor": 5
}
