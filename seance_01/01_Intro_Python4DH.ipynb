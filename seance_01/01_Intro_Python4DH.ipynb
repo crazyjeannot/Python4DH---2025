{
 "cells": [
  {
   "cell_type": "markdown",
   "id": "a92b36ea-e91d-49fc-825f-224251ac09f4",
   "metadata": {},
   "source": [
    "# Introduction à Python pour les Humanités"
   ]
  },
  {
   "cell_type": "markdown",
   "id": "04def753-20e6-4db7-b329-0997370d71df",
   "metadata": {},
   "source": [
    "<img src=\"https://cdn.pixabay.com/photo/2017/01/31/23/21/animal-2028134_960_720.png\" alt=\"The command line\" width=\"70%\" >"
   ]
  },
  {
   "cell_type": "markdown",
   "id": "5afbc1e8-65b3-4251-b4a2-b7d635dc7dcb",
   "metadata": {},
   "source": [
    "## Pourquoi apprendre un Langage de Programmation ?"
   ]
  },
  {
   "cell_type": "markdown",
   "id": "76622c16-ae6a-42e9-9a3e-fb1bd12b421e",
   "metadata": {},
   "source": [
    "* Gagner du temps et de l'énergie en automatisant les tâches\n",
    "* Collecter et analyser des données culturelles d'un point de vue différent, avec un nouvel angle, à plus grande échelle\n",
    "* Autonomie dans vos projets de recherche"
   ]
  },
  {
   "cell_type": "markdown",
   "id": "402947e7-f4e2-436f-944d-a22fa9750ac6",
   "metadata": {},
   "source": [
    "## Pourquoi Python ?"
   ]
  },
  {
   "cell_type": "markdown",
   "id": "ecbe53be-b088-4226-bceb-1364d1d99840",
   "metadata": {},
   "source": [
    "* Python est un langage largement utilisé et populaire (recherche scientifique, publique/privée)\n",
    "* Python est de mieux en mieux adapté à la science des données\n",
    "* Données textuelles & images\n",
    "* Permet d'utiliser des outils à l'état de l'art en apprentissage machine/profond, en TAL\n",
    "* On sait que Python a une courbe d'apprentissage relativement fluide.\n",
    "\n",
    "___"
   ]
  },
  {
   "cell_type": "markdown",
   "id": "b30b9231-41c9-4116-9503-077cb7f976a1",
   "metadata": {},
   "source": [
    "## Ce semestre - Les Bases.. Mise à niveau pour les cours de S2 / de M2\n",
    "\n",
    "* Aucune expérience préalable en programmation nécessaire\n",
    "* Les bases de Python .. et des autres langages de programmation (Variables, Types, Boucles, Fonctions, scripts)\n",
    "* Les bases de l'algorithmique: complexité, calculabilité\n",
    "\n",
    "\n",
    "***\n",
    "\n",
    "\n",
    "\n",
    "\n",
    "\n",
    "\n",
    "\n",
    "\n",
    "\n",
    "\n",
    "\n",
    "\n"
   ]
  },
  {
   "cell_type": "code",
   "execution_count": null,
   "id": "857c7ec9-3a6d-4a1c-b43d-9285e2fc45d0",
   "metadata": {},
   "outputs": [],
   "source": []
  },
  {
   "cell_type": "code",
   "execution_count": null,
   "id": "5344e014-37d6-4bdc-9933-33010feaab20",
   "metadata": {},
   "outputs": [],
   "source": []
  },
  {
   "cell_type": "markdown",
   "id": "7295b145-c1e3-4990-88f2-792ab16a8308",
   "metadata": {},
   "source": [
    "<img src=\"https://payload.cargocollective.com/1/5/179769/4797922/Meet%20the%20Professorrr_900.jpg\" alt=\"The command line\" width=\"50%\" >"
   ]
  },
  {
   "cell_type": "code",
   "execution_count": null,
   "id": "3cb3a067-c7fb-4080-a53a-5b24b34023c2",
   "metadata": {},
   "outputs": [],
   "source": []
  },
  {
   "cell_type": "code",
   "execution_count": null,
   "id": "d49da75a-6628-475d-9677-2d91af622785",
   "metadata": {},
   "outputs": [],
   "source": []
  },
  {
   "cell_type": "markdown",
   "id": "cb00533f-88ef-4492-afa9-22816cf1e967",
   "metadata": {},
   "source": [
    "## Jupyter Notebook"
   ]
  },
  {
   "cell_type": "markdown",
   "id": "6f0f8bfc-f77b-4249-8170-e4d9f0d5e533",
   "metadata": {},
   "source": [
    "* document .ipynb, et ne peut être ouvert que si vous avez l'application JupyterLab ou Jupyter Notebook\n",
    "* code, texte, images et affichages au même endroit. \n",
    "* explorer les données / apprentissage et enseignement."
   ]
  },
  {
   "cell_type": "markdown",
   "id": "f56cdf98-f1b4-4305-96d4-9e774758005b",
   "metadata": {},
   "source": [
    "\n",
    "#### Afficher les données\n",
    "\n",
    "Nous pouvons afficher et explorer les données de manière lisible et esthétiquement plaisante.\n",
    "\n",
    "Par exemple, voici un extrait d'un fichier CSV avec quelques données sur un corpus de textes littéraires"
   ]
  },
  {
   "cell_type": "code",
   "execution_count": 2,
   "id": "fa41d499-83ab-4f77-8671-911b799ead40",
   "metadata": {},
   "outputs": [],
   "source": [
    "import pandas as pd\n",
    "data = pd.read_csv('../data/csv/data_corpus.csv')"
   ]
  },
  {
   "cell_type": "code",
   "execution_count": 3,
   "id": "a7d1c217-e631-4569-b580-7fffdb889ff8",
   "metadata": {},
   "outputs": [
    {
     "data": {
      "text/html": [
       "<div>\n",
       "<style scoped>\n",
       "    .dataframe tbody tr th:only-of-type {\n",
       "        vertical-align: middle;\n",
       "    }\n",
       "\n",
       "    .dataframe tbody tr th {\n",
       "        vertical-align: top;\n",
       "    }\n",
       "\n",
       "    .dataframe thead th {\n",
       "        text-align: right;\n",
       "    }\n",
       "</style>\n",
       "<table border=\"1\" class=\"dataframe\">\n",
       "  <thead>\n",
       "    <tr style=\"text-align: right;\">\n",
       "      <th></th>\n",
       "      <th>doc_name</th>\n",
       "      <th>date</th>\n",
       "      <th>auteur</th>\n",
       "      <th>titre</th>\n",
       "      <th>canon</th>\n",
       "      <th>gender</th>\n",
       "      <th>mort_auteur</th>\n",
       "    </tr>\n",
       "  </thead>\n",
       "  <tbody>\n",
       "    <tr>\n",
       "      <th>0</th>\n",
       "      <td>1861_Segur-comtesse-de_Pauvre-Blaise</td>\n",
       "      <td>1861</td>\n",
       "      <td>comtesse de segur</td>\n",
       "      <td>pauvre blaise</td>\n",
       "      <td>False</td>\n",
       "      <td>female</td>\n",
       "      <td>1874</td>\n",
       "    </tr>\n",
       "    <tr>\n",
       "      <th>1</th>\n",
       "      <td>1845_Sand-George_Teverino</td>\n",
       "      <td>1845</td>\n",
       "      <td>george sand</td>\n",
       "      <td>teverino</td>\n",
       "      <td>True</td>\n",
       "      <td>female</td>\n",
       "      <td>1876</td>\n",
       "    </tr>\n",
       "    <tr>\n",
       "      <th>2</th>\n",
       "      <td>1892_Allais-Alphonse_Vive-la-vie</td>\n",
       "      <td>1892</td>\n",
       "      <td>alphonse allais</td>\n",
       "      <td>vive la vie</td>\n",
       "      <td>False</td>\n",
       "      <td>male</td>\n",
       "      <td>1905</td>\n",
       "    </tr>\n",
       "    <tr>\n",
       "      <th>3</th>\n",
       "      <td>1997_Bergounioux-Pierre_La-ligne</td>\n",
       "      <td>1997</td>\n",
       "      <td>pierre bergounioux</td>\n",
       "      <td>la ligne</td>\n",
       "      <td>True</td>\n",
       "      <td>male</td>\n",
       "      <td>20--</td>\n",
       "    </tr>\n",
       "    <tr>\n",
       "      <th>4</th>\n",
       "      <td>1894_Rachilde_Le-Demon-de-l-Absurde</td>\n",
       "      <td>1894</td>\n",
       "      <td>rachilde</td>\n",
       "      <td>le demon de l absurde</td>\n",
       "      <td>False</td>\n",
       "      <td>female</td>\n",
       "      <td>1953</td>\n",
       "    </tr>\n",
       "    <tr>\n",
       "      <th>...</th>\n",
       "      <td>...</td>\n",
       "      <td>...</td>\n",
       "      <td>...</td>\n",
       "      <td>...</td>\n",
       "      <td>...</td>\n",
       "      <td>...</td>\n",
       "      <td>...</td>\n",
       "    </tr>\n",
       "    <tr>\n",
       "      <th>2955</th>\n",
       "      <td>1960_Simenon-Georges_Maigret-et-les-vieillards</td>\n",
       "      <td>1960</td>\n",
       "      <td>georges simenon</td>\n",
       "      <td>maigret et les vieillards</td>\n",
       "      <td>True</td>\n",
       "      <td>male</td>\n",
       "      <td>1989</td>\n",
       "    </tr>\n",
       "    <tr>\n",
       "      <th>2956</th>\n",
       "      <td>1910_Zevaco-Michel_Triboulet</td>\n",
       "      <td>1910</td>\n",
       "      <td>michel zevaco</td>\n",
       "      <td>triboulet</td>\n",
       "      <td>False</td>\n",
       "      <td>male</td>\n",
       "      <td>1918</td>\n",
       "    </tr>\n",
       "    <tr>\n",
       "      <th>2957</th>\n",
       "      <td>1880_Gouraud-Julie_Aller-et-retour</td>\n",
       "      <td>1880</td>\n",
       "      <td>julie gouraud</td>\n",
       "      <td>aller et retour</td>\n",
       "      <td>False</td>\n",
       "      <td>female</td>\n",
       "      <td>1891</td>\n",
       "    </tr>\n",
       "    <tr>\n",
       "      <th>2958</th>\n",
       "      <td>1956_Sagan-Françoise_Un-certain-sourire</td>\n",
       "      <td>1956</td>\n",
       "      <td>françoise sagan</td>\n",
       "      <td>un certain sourire</td>\n",
       "      <td>False</td>\n",
       "      <td>female</td>\n",
       "      <td>2004</td>\n",
       "    </tr>\n",
       "    <tr>\n",
       "      <th>2959</th>\n",
       "      <td>1845_Sue-Eugene_La-coucaratcha_Tome-II</td>\n",
       "      <td>1845</td>\n",
       "      <td>eugene sue</td>\n",
       "      <td>la coucaratcha</td>\n",
       "      <td>True</td>\n",
       "      <td>male</td>\n",
       "      <td>1857</td>\n",
       "    </tr>\n",
       "  </tbody>\n",
       "</table>\n",
       "<p>2960 rows × 7 columns</p>\n",
       "</div>"
      ],
      "text/plain": [
       "                                            doc_name  date  \\\n",
       "0               1861_Segur-comtesse-de_Pauvre-Blaise  1861   \n",
       "1                          1845_Sand-George_Teverino  1845   \n",
       "2                   1892_Allais-Alphonse_Vive-la-vie  1892   \n",
       "3                   1997_Bergounioux-Pierre_La-ligne  1997   \n",
       "4                1894_Rachilde_Le-Demon-de-l-Absurde  1894   \n",
       "...                                              ...   ...   \n",
       "2955  1960_Simenon-Georges_Maigret-et-les-vieillards  1960   \n",
       "2956                    1910_Zevaco-Michel_Triboulet  1910   \n",
       "2957              1880_Gouraud-Julie_Aller-et-retour  1880   \n",
       "2958         1956_Sagan-Françoise_Un-certain-sourire  1956   \n",
       "2959          1845_Sue-Eugene_La-coucaratcha_Tome-II  1845   \n",
       "\n",
       "                  auteur                      titre  canon  gender mort_auteur  \n",
       "0      comtesse de segur              pauvre blaise  False  female        1874  \n",
       "1            george sand                   teverino   True  female        1876  \n",
       "2        alphonse allais                vive la vie  False    male        1905  \n",
       "3     pierre bergounioux                   la ligne   True    male        20--  \n",
       "4               rachilde      le demon de l absurde  False  female        1953  \n",
       "...                  ...                        ...    ...     ...         ...  \n",
       "2955     georges simenon  maigret et les vieillards   True    male        1989  \n",
       "2956       michel zevaco                  triboulet  False    male        1918  \n",
       "2957       julie gouraud            aller et retour  False  female        1891  \n",
       "2958     françoise sagan         un certain sourire  False  female        2004  \n",
       "2959          eugene sue             la coucaratcha   True    male        1857  \n",
       "\n",
       "[2960 rows x 7 columns]"
      ]
     },
     "execution_count": 3,
     "metadata": {},
     "output_type": "execute_result"
    }
   ],
   "source": [
    "data"
   ]
  },
  {
   "cell_type": "code",
   "execution_count": 4,
   "id": "3320b54a-ee87-49ed-99ab-6babbbb8d149",
   "metadata": {},
   "outputs": [
    {
     "data": {
      "text/html": [
       "<div>\n",
       "<style scoped>\n",
       "    .dataframe tbody tr th:only-of-type {\n",
       "        vertical-align: middle;\n",
       "    }\n",
       "\n",
       "    .dataframe tbody tr th {\n",
       "        vertical-align: top;\n",
       "    }\n",
       "\n",
       "    .dataframe thead th {\n",
       "        text-align: right;\n",
       "    }\n",
       "</style>\n",
       "<table border=\"1\" class=\"dataframe\">\n",
       "  <thead>\n",
       "    <tr style=\"text-align: right;\">\n",
       "      <th></th>\n",
       "      <th>doc_name</th>\n",
       "      <th>date</th>\n",
       "      <th>auteur</th>\n",
       "      <th>titre</th>\n",
       "      <th>canon</th>\n",
       "      <th>gender</th>\n",
       "      <th>mort_auteur</th>\n",
       "    </tr>\n",
       "  </thead>\n",
       "  <tbody>\n",
       "    <tr>\n",
       "      <th>0</th>\n",
       "      <td>1861_Segur-comtesse-de_Pauvre-Blaise</td>\n",
       "      <td>1861</td>\n",
       "      <td>comtesse de segur</td>\n",
       "      <td>pauvre blaise</td>\n",
       "      <td>False</td>\n",
       "      <td>female</td>\n",
       "      <td>1874</td>\n",
       "    </tr>\n",
       "    <tr>\n",
       "      <th>1</th>\n",
       "      <td>1845_Sand-George_Teverino</td>\n",
       "      <td>1845</td>\n",
       "      <td>george sand</td>\n",
       "      <td>teverino</td>\n",
       "      <td>True</td>\n",
       "      <td>female</td>\n",
       "      <td>1876</td>\n",
       "    </tr>\n",
       "    <tr>\n",
       "      <th>2</th>\n",
       "      <td>1892_Allais-Alphonse_Vive-la-vie</td>\n",
       "      <td>1892</td>\n",
       "      <td>alphonse allais</td>\n",
       "      <td>vive la vie</td>\n",
       "      <td>False</td>\n",
       "      <td>male</td>\n",
       "      <td>1905</td>\n",
       "    </tr>\n",
       "    <tr>\n",
       "      <th>3</th>\n",
       "      <td>1997_Bergounioux-Pierre_La-ligne</td>\n",
       "      <td>1997</td>\n",
       "      <td>pierre bergounioux</td>\n",
       "      <td>la ligne</td>\n",
       "      <td>True</td>\n",
       "      <td>male</td>\n",
       "      <td>20--</td>\n",
       "    </tr>\n",
       "  </tbody>\n",
       "</table>\n",
       "</div>"
      ],
      "text/plain": [
       "                               doc_name  date              auteur  \\\n",
       "0  1861_Segur-comtesse-de_Pauvre-Blaise  1861   comtesse de segur   \n",
       "1             1845_Sand-George_Teverino  1845         george sand   \n",
       "2      1892_Allais-Alphonse_Vive-la-vie  1892     alphonse allais   \n",
       "3      1997_Bergounioux-Pierre_La-ligne  1997  pierre bergounioux   \n",
       "\n",
       "           titre  canon  gender mort_auteur  \n",
       "0  pauvre blaise  False  female        1874  \n",
       "1       teverino   True  female        1876  \n",
       "2    vive la vie  False    male        1905  \n",
       "3       la ligne   True    male        20--  "
      ]
     },
     "execution_count": 4,
     "metadata": {},
     "output_type": "execute_result"
    }
   ],
   "source": [
    "data.head(4)"
   ]
  },
  {
   "cell_type": "code",
   "execution_count": 7,
   "id": "df812023-c59b-4419-8350-2b46076209f3",
   "metadata": {},
   "outputs": [
    {
     "data": {
      "text/plain": [
       "<Axes: title={'center': 'Nombre de Romans par an'}, xlabel='date'>"
      ]
     },
     "execution_count": 7,
     "metadata": {},
     "output_type": "execute_result"
    },
    {
     "data": {
      "image/png": "[encoded data removed]",
      "text/plain": [
       "<Figure size 640x480 with 1 Axes>"
      ]
     },
     "metadata": {},
     "output_type": "display_data"
    }
   ],
   "source": [
    "data.groupby('date')['doc_name'].count().plot(title='Nombre de Romans par an')"
   ]
  },
  {
   "cell_type": "markdown",
   "id": "67db70af-8490-4558-a435-21484288faa4",
   "metadata": {},
   "source": [
    "### Créer et exécuter une cellule\n",
    "\n",
    "#### Exemples"
   ]
  },
  {
   "cell_type": "code",
   "execution_count": 11,
   "id": "f9e39c9e-81f2-47b8-b6ae-69bc19e7a1d3",
   "metadata": {},
   "outputs": [
    {
     "data": {
      "text/plain": [
       "6"
      ]
     },
     "execution_count": 11,
     "metadata": {},
     "output_type": "execute_result"
    }
   ],
   "source": [
    "4+2"
   ]
  },
  {
   "cell_type": "code",
   "execution_count": 12,
   "id": "e57a380e-55e8-4ac4-826a-49271e7c2de3",
   "metadata": {},
   "outputs": [
    {
     "data": {
      "text/plain": [
       "8"
      ]
     },
     "execution_count": 12,
     "metadata": {},
     "output_type": "execute_result"
    }
   ],
   "source": [
    "5+3"
   ]
  },
  {
   "cell_type": "code",
   "execution_count": 14,
   "id": "b1f48f84-b51e-4466-b4a7-171b38879c14",
   "metadata": {},
   "outputs": [
    {
     "data": {
      "text/plain": [
       "16768134616004183477550100252"
      ]
     },
     "execution_count": 14,
     "metadata": {},
     "output_type": "execute_result"
    }
   ],
   "source": [
    "53158734618253862 * 315435172346"
   ]
  },
  {
   "cell_type": "markdown",
   "id": "5652c519-4ddb-4d25-afb5-02375bacbb4f",
   "metadata": {},
   "source": [
    "#### Opérations ! +, -, *, /, %, ..."
   ]
  },
  {
   "cell_type": "code",
   "execution_count": 18,
   "id": "2ada64fe-4650-4916-b699-57f31cb872bf",
   "metadata": {},
   "outputs": [
    {
     "data": {
      "text/plain": [
       "8"
      ]
     },
     "execution_count": 18,
     "metadata": {},
     "output_type": "execute_result"
    }
   ],
   "source": [
    "1243 % 65"
   ]
  },
  {
   "cell_type": "markdown",
   "id": "02860a52-ad83-44c2-b246-3bca36bc6cf0",
   "metadata": {},
   "source": [
    "## Comment sauvegarder son notebook ?"
   ]
  },
  {
   "cell_type": "markdown",
   "id": "9361158c-f357-4067-8a4c-b14bdea995d6",
   "metadata": {},
   "source": [
    "Sauvegarde: presser  `Ctrl` + `S` (Linux) / `Command ⌘` + `S` (Mac) / `Windows Key` + `S` (Windows)."
   ]
  },
  {
   "cell_type": "code",
   "execution_count": null,
   "id": "a566034c-a614-46d1-af0b-4296e0bbc2e1",
   "metadata": {},
   "outputs": [],
   "source": []
  },
  {
   "cell_type": "markdown",
   "id": "f719ac33-63cb-4343-a919-a460738bf0d7",
   "metadata": {},
   "source": [
    "## Tour de Table !\n",
    "\n",
    "<img src=\"https://media.istockphoto.com/vectors/office-meeting-at-round-table-vector-id977735720?k=6&m=977735720&s=612x612&w=0&h=0zvp7covak97L-MopQEILFawcKxoz_hlBrtUbdg8RQ0=\" alt=\"The command line\" width=\"40%\" >\n",
    "\n",
    "\n",
    "* Backgroud ?\n",
    "\n",
    "* Experience de programmation ?\n",
    "\n",
    "* Projet de recherche ? début, mais au moins les champs de recherche ? les corpus d'études ?"
   ]
  },
  {
   "cell_type": "code",
   "execution_count": null,
   "id": "263dee64-ad77-4a3a-83e2-670b2252b956",
   "metadata": {},
   "outputs": [],
   "source": []
  }
 ],
 "metadata": {
  "kernelspec": {
   "display_name": "Python 3 (ipykernel)",
   "language": "python",
   "name": "python3"
  },
  "language_info": {
   "codemirror_mode": {
    "name": "ipython",
    "version": 3
   },
   "file_extension": ".py",
   "mimetype": "text/x-python",
   "name": "python",
   "nbconvert_exporter": "python",
   "pygments_lexer": "ipython3",
   "version": "3.12.3"
  }
 },
 "nbformat": 4,
 "nbformat_minor": 5
}
