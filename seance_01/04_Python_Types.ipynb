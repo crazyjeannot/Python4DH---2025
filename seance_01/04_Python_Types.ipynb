{
 "cells": [
  {
   "cell_type": "markdown",
   "id": "e506d351-3bdb-4587-be5b-ac556b4627aa",
   "metadata": {},
   "source": [
    "# Les Bases de Python\n",
    "\n",
    "## Les Types de Données"
   ]
  },
  {
   "cell_type": "markdown",
   "id": "ae5291ba-1943-4ac4-be5f-2d9088c59d0a",
   "metadata": {},
   "source": [
    "<img src=\"https://hips.hearstapps.com/digitalspyuk.cdnds.net/16/08/1456483171-pokemon2.jpg?resize=768:*\" >"
   ]
  },
  {
   "cell_type": "markdown",
   "id": "37529e21-898b-4a8a-b261-612cdb2def65",
   "metadata": {},
   "source": [
    "Il existe quatre types de données essentiels en Python, chacun ayant des fonctionnalités et capacités différentes :"
   ]
  },
  {
   "cell_type": "markdown",
   "id": "90ee0766-23af-4573-b970-cce8cc774101",
   "metadata": {},
   "source": [
    "- Chaînes de caractères (Texte)"
   ]
  },
  {
   "cell_type": "code",
   "execution_count": 1,
   "id": "464112a4-532c-412d-8d9a-2d3159bd0ffd",
   "metadata": {},
   "outputs": [],
   "source": [
    "x = \"ceci est du texte\""
   ]
  },
  {
   "cell_type": "code",
   "execution_count": 7,
   "id": "91748fff-84ee-4e0c-9880-d2dc296b3f1c",
   "metadata": {},
   "outputs": [
    {
     "data": {
      "text/plain": [
       "'ceci est du texte !!!!!!4436564784!!!! ceci est du texte'"
      ]
     },
     "execution_count": 7,
     "metadata": {},
     "output_type": "execute_result"
    }
   ],
   "source": [
    "x + \" !!!!!!4436564784!!!! \" + x"
   ]
  },
  {
   "cell_type": "code",
   "execution_count": 6,
   "id": "64ed2ab8-776b-4cdb-aba6-81626f2a6a56",
   "metadata": {},
   "outputs": [
    {
     "data": {
      "text/plain": [
       "str"
      ]
     },
     "execution_count": 6,
     "metadata": {},
     "output_type": "execute_result"
    }
   ],
   "source": [
    "type(x)"
   ]
  },
  {
   "cell_type": "markdown",
   "id": "fb8ed781-d4d3-4e21-b031-f1b12c36c299",
   "metadata": {},
   "source": [
    "- Entiers (Nombres entiers)"
   ]
  },
  {
   "cell_type": "code",
   "execution_count": null,
   "id": "fe79040c-566a-42af-bab8-97698b3a82a4",
   "metadata": {},
   "outputs": [],
   "source": []
  },
  {
   "cell_type": "code",
   "execution_count": 13,
   "id": "486b71da-26a3-4b32-8178-45f545577dfe",
   "metadata": {},
   "outputs": [],
   "source": [
    "y = '3'"
   ]
  },
  {
   "cell_type": "code",
   "execution_count": 14,
   "id": "33c42ec6-6b67-419e-bcfb-fb52989d95c3",
   "metadata": {},
   "outputs": [
    {
     "data": {
      "text/plain": [
       "str"
      ]
     },
     "execution_count": 14,
     "metadata": {},
     "output_type": "execute_result"
    }
   ],
   "source": [
    "type(y)"
   ]
  },
  {
   "cell_type": "code",
   "execution_count": null,
   "id": "293a58f8-8406-4969-8860-1f7a0d5a953b",
   "metadata": {},
   "outputs": [],
   "source": [
    "# 3, '3', casting"
   ]
  },
  {
   "cell_type": "code",
   "execution_count": 16,
   "id": "061c2202-9f89-4970-b3d2-580044627f5f",
   "metadata": {},
   "outputs": [],
   "source": [
    "z = int('3')"
   ]
  },
  {
   "cell_type": "code",
   "execution_count": 17,
   "id": "8746ef86-497e-40e8-96a3-d3eb7cd48618",
   "metadata": {},
   "outputs": [
    {
     "data": {
      "text/plain": [
       "int"
      ]
     },
     "execution_count": 17,
     "metadata": {},
     "output_type": "execute_result"
    }
   ],
   "source": [
    "type(z)"
   ]
  },
  {
   "cell_type": "markdown",
   "id": "9334da41-1292-4460-9b61-c2795920b722",
   "metadata": {},
   "source": [
    "- Flottants (Nombres décimaux)"
   ]
  },
  {
   "cell_type": "code",
   "execution_count": 19,
   "id": "e1460f67-7a19-4166-b7bf-1105498b6c36",
   "metadata": {},
   "outputs": [
    {
     "data": {
      "text/plain": [
       "float"
      ]
     },
     "execution_count": 19,
     "metadata": {},
     "output_type": "execute_result"
    }
   ],
   "source": [
    "type(6.327148369)"
   ]
  },
  {
   "cell_type": "markdown",
   "id": "6fb0a6d2-cc9a-4479-96e5-1470eca1e2cf",
   "metadata": {},
   "source": [
    "- Booléens (Vrai/Faux)"
   ]
  },
  {
   "cell_type": "code",
   "execution_count": 21,
   "id": "bde67d84-5ee9-4d89-85c7-3d456698eb8f",
   "metadata": {},
   "outputs": [],
   "source": [
    "var_bool = 5 == 5"
   ]
  },
  {
   "cell_type": "code",
   "execution_count": 22,
   "id": "73ab70e2-9d03-4b3d-8f91-b5339796c0b2",
   "metadata": {},
   "outputs": [
    {
     "data": {
      "text/plain": [
       "True"
      ]
     },
     "execution_count": 22,
     "metadata": {},
     "output_type": "execute_result"
    }
   ],
   "source": [
    "var_bool"
   ]
  },
  {
   "cell_type": "code",
   "execution_count": null,
   "id": "e58a19b5-e8cc-4e0e-9e41-221072008210",
   "metadata": {},
   "outputs": [],
   "source": []
  },
  {
   "cell_type": "code",
   "execution_count": null,
   "id": "d1f9bc82-6ad5-44e1-b912-462f16800eb0",
   "metadata": {},
   "outputs": [],
   "source": []
  },
  {
   "cell_type": "code",
   "execution_count": 26,
   "id": "8ebe575d-32cf-4b95-8631-109907d8d005",
   "metadata": {},
   "outputs": [
    {
     "data": {
      "text/plain": [
       "True"
      ]
     },
     "execution_count": 26,
     "metadata": {},
     "output_type": "execute_result"
    }
   ],
   "source": [
    "4 == int('4')"
   ]
  },
  {
   "cell_type": "code",
   "execution_count": null,
   "id": "56dd26d4-8ad8-4128-95e6-deeba106d049",
   "metadata": {},
   "outputs": [],
   "source": []
  },
  {
   "cell_type": "code",
   "execution_count": null,
   "id": "3fdbadfb-d2da-434c-b656-946cfcc0bfc0",
   "metadata": {},
   "outputs": [],
   "source": []
  },
  {
   "cell_type": "markdown",
   "id": "ad428dfc-0964-4b61-8a95-3cd326134de0",
   "metadata": {},
   "source": [
    "Examinez les variables `chemin_du_texte` et `nombre_de_mots_voulu` dans le code de comptage de mots ci-dessous.\n",
    "\n",
    "Quelles différences remarquez-vous entre ces deux variables et leurs valeurs correspondantes ?"
   ]
  },
  {
   "cell_type": "code",
   "execution_count": 33,
   "id": "7b2ef673-3782-40f5-9777-71e23a39f161",
   "metadata": {},
   "outputs": [],
   "source": [
    "# Import des modules nécessaires\n",
    "import re  # Module pour les expressions régulières\n",
    "from collections import Counter  # Objet de comptage\n",
    "\n",
    "# Fonction pour découper le texte en mots\n",
    "def decouper_en_mots(un_morceau_de_texte):\n",
    "    texte_minuscule = un_morceau_de_texte.lower()  # Convertir en minuscules\n",
    "    mots_separes = re.split(\"\\W+\", texte_minuscule)  # Séparer les mots\n",
    "    return mots_separes  # Retourner la liste de mots\n",
    "\n",
    "# Chemin d'accès du texte\n",
    "chemin_du_texte = \"../data/txt/1907_Leblanc-Maurice_Arsene-Lupin-gentleman-cambrioleur.txt\"\n",
    "\n",
    "# Nombre de mots les plus fréquents à afficher\n",
    "nombre_de_mots_voulu = 40\n"
   ]
  },
  {
   "cell_type": "code",
   "execution_count": 35,
   "id": "41a55deb-4af3-470e-8ab7-7b0c038f1295",
   "metadata": {},
   "outputs": [
    {
     "data": {
      "text/plain": [
       "str"
      ]
     },
     "execution_count": 35,
     "metadata": {},
     "output_type": "execute_result"
    }
   ],
   "source": [
    "type(chemin_du_texte)"
   ]
  },
  {
   "cell_type": "markdown",
   "id": "18d29c7a-5ecf-4f60-8b7b-1c6b6ea3c234",
   "metadata": {},
   "source": [
    "| Data Type       | Explanation          | Example  |\n",
    "| ------------- |:-------------:| -----:|\n",
    "| String     | Texte | ```\"../data/txt/1907_Leblanc-Maurice_Arsene-Lupin-gentleman-cambrioleur.txt\"``` |\n",
    "| Integer     | Nombre Entier      |   ```40``` |\n",
    "| Float | Nombre Décimal      |   ```40.2``` |\n",
    "| Boolean | True/False     |   ```False``` |"
   ]
  },
  {
   "cell_type": "code",
   "execution_count": null,
   "id": "cd1f8115-86d1-49ed-83ba-eb5e680aaee5",
   "metadata": {},
   "outputs": [],
   "source": []
  },
  {
   "cell_type": "markdown",
   "id": "c44eb7db-de90-4f26-93ce-018d3dc0e2df",
   "metadata": {},
   "source": [
    "### Vérifier les Types de Données\n",
    "\n",
    "- avec type() var str/int, \"eheh\", x"
   ]
  },
  {
   "cell_type": "code",
   "execution_count": null,
   "id": "079b3199-bb47-4a94-8156-18ea8bd06dfc",
   "metadata": {},
   "outputs": [],
   "source": []
  },
  {
   "cell_type": "code",
   "execution_count": null,
   "id": "552d54b5-e9ad-464a-aee5-c36f8f9b0589",
   "metadata": {},
   "outputs": [],
   "source": []
  },
  {
   "cell_type": "markdown",
   "id": "06ec5b1e-1aa5-413f-8794-00c6c9b70054",
   "metadata": {},
   "source": [
    "## String\n",
    "\n",
    "Une *chaîne de caractères* est un type de données Python qui est traité comme du texte, même s'il contient un nombre. Les chaînes de caractères sont toujours encapsulées entre des guillemets simples `'c'est une chaîne'` ou des guillemets doubles `\"c'est une chaîne\"`."
   ]
  },
  {
   "cell_type": "code",
   "execution_count": 32,
   "id": "ce9465c0-422d-4f59-bc16-41a8b2003224",
   "metadata": {},
   "outputs": [
    {
     "data": {
      "text/plain": [
       "'Ceci est une chaîne de caractères'"
      ]
     },
     "execution_count": 32,
     "metadata": {},
     "output_type": "execute_result"
    }
   ],
   "source": [
    "\"Ceci est une chaîne de caractères\""
   ]
  },
  {
   "cell_type": "code",
   "execution_count": 33,
   "id": "4ff31ea1-0b32-4589-8291-65f4b5ef15db",
   "metadata": {},
   "outputs": [
    {
     "data": {
      "text/plain": [
       "'Ceci est également une chaîne de caractères, même si elle contient un nombre comme 42'"
      ]
     },
     "execution_count": 33,
     "metadata": {},
     "output_type": "execute_result"
    }
   ],
   "source": [
    "\"Ceci est également une chaîne de caractères, même si elle contient un nombre comme 42\""
   ]
  },
  {
   "cell_type": "code",
   "execution_count": 39,
   "id": "9972cabc-cb89-4743-a99d-f297cd7ea634",
   "metadata": {},
   "outputs": [
    {
     "data": {
      "text/plain": [
       "\"Ceci n'est pas une string\""
      ]
     },
     "execution_count": 39,
     "metadata": {},
     "output_type": "execute_result"
    }
   ],
   "source": [
    "\"Ceci n'est pas une string\""
   ]
  },
  {
   "cell_type": "code",
   "execution_count": 40,
   "id": "6ed959fa-c991-4988-b26b-fab91a7fb677",
   "metadata": {},
   "outputs": [],
   "source": [
    "string = \"Arsène Lupin n'est pas un vrai méchant, il est même plutôt gentil\""
   ]
  },
  {
   "cell_type": "code",
   "execution_count": null,
   "id": "962526b8-fa2e-40fd-996e-fd6edec94e95",
   "metadata": {},
   "outputs": [],
   "source": [
    "# type "
   ]
  },
  {
   "cell_type": "code",
   "execution_count": null,
   "id": "ec9746c7-6aae-4b02-8691-cb4fe1063cba",
   "metadata": {},
   "outputs": [],
   "source": []
  },
  {
   "cell_type": "markdown",
   "id": "f399b9ea-abc0-404f-8e59-35147355f497",
   "metadata": {},
   "source": [
    "type()"
   ]
  },
  {
   "cell_type": "markdown",
   "id": "dfc907b7-70cf-4a76-b795-ed2ce6537dda",
   "metadata": {},
   "source": [
    "### f-String"
   ]
  },
  {
   "cell_type": "markdown",
   "id": "aa570a11-6b18-4a4f-9828-5a3e3dc32793",
   "metadata": {},
   "source": [
    "Un type spécial de chaîne de caractères que nous allons utiliser dans ce cours s'appelle une *f-string*. Une f-string, abréviation de \"formatted string literal\", vous permet d'insérer une variable directement dans une chaîne de caractères. [Les f-strings ont été introduites avec la version 3.6 de Python](https://docs.python.org/3/whatsnew/3.6.html#new-features).\n",
    "\n",
    "Une f-string doit commencer par un `f` en dehors des guillemets. Ensuite, à l'intérieur des guillemets, la variable insérée doit être placée entre des accolades `{}`."
   ]
  },
  {
   "cell_type": "code",
   "execution_count": 47,
   "id": "1271a228-5dc2-4c5a-b88e-d1c48928e038",
   "metadata": {},
   "outputs": [
    {
     "name": "stdout",
     "output_type": "stream",
     "text": [
      "Lupin est un gentil cambrioleur: \n",
      "\n",
      "'Arsène Lupin n'est pas un vrai méchant, il est même plutôt gentil'\n"
     ]
    }
   ],
   "source": [
    "print(f\"Lupin est un gentil cambrioleur: \\n\\n'{string}'\")"
   ]
  },
  {
   "cell_type": "markdown",
   "id": "25c5e281-5623-4da9-8f18-0e12160ae693",
   "metadata": {},
   "source": [
    "## Integers & Floats\n",
    "\n",
    "Un *entier* et un *flottant* (abrégé en *nombre à virgule flottante* / nombre décimale) sont deux types de données Python pour représenter des nombres. Les entiers représentent des nombres entiers. Les flottants représentent des nombres avec des décimales. Ils n'ont pas besoin d'être placés entre guillemets."
   ]
  },
  {
   "cell_type": "code",
   "execution_count": 50,
   "id": "23a1c9d3-9736-43fd-a651-6c3654e35e37",
   "metadata": {},
   "outputs": [
    {
     "data": {
      "text/plain": [
       "40.0"
      ]
     },
     "execution_count": 50,
     "metadata": {},
     "output_type": "execute_result"
    }
   ],
   "source": [
    "float(40)"
   ]
  },
  {
   "cell_type": "code",
   "execution_count": 49,
   "id": "1973b2c6-4668-4f11-a253-152e2af30b19",
   "metadata": {},
   "outputs": [
    {
     "data": {
      "text/plain": [
       "float"
      ]
     },
     "execution_count": 49,
     "metadata": {},
     "output_type": "execute_result"
    }
   ],
   "source": [
    "type(40.00004)"
   ]
  },
  {
   "cell_type": "markdown",
   "id": "7562fea0-b75b-4c51-8078-afadf75c0253",
   "metadata": {},
   "source": [
    "| Operation       | Explanation                                                                      |\n",
    "|-----------------|-----------------------------------------------------------------------------|\n",
    "| `x` + `y`           | sum of `x` and `y`                                                              |\n",
    "| `x` - `y`           | difference of `x` and `y`                                                       |\n",
    "| `x` * `y`           | product of `x` and `y`                                                          |\n",
    "| `x` / `y`           | quotient of ``x`` and `y`                                                         |\n",
    "| ``x`` // `y`          | floored quotient of `x` and\n",
    "`y`                                                 |\n",
    "| `x` % `y`           | remainder of `x` / `y`                                                          |\n",
    "| -`x`              | `x` negated                                                                   |\n",
    "| +`x`              | `x` unchanged                                                                 |\n",
    "| `abs(x)`          | absolute value or magnitude of `x`                                         |\n",
    "| `int(x)`          | `x` converted to integer                                                      |\n",
    "| `float(x)`        | `x` converted to floating point                                               |\n",
    "| `pow(x, y)`       | `x` to the power `y`                                                            |\n",
    "| `x` ** `y`          | `x` to the power `y`                                                            |\n"
   ]
  },
  {
   "cell_type": "markdown",
   "id": "f1100811-7b14-4877-a223-04f823d2f746",
   "metadata": {},
   "source": [
    "### Multiplication\n",
    "\n",
    "x, y, x*y"
   ]
  },
  {
   "cell_type": "code",
   "execution_count": null,
   "id": "6645753c-bce6-4a2b-b51f-526f414dd8bf",
   "metadata": {},
   "outputs": [],
   "source": []
  },
  {
   "cell_type": "markdown",
   "id": "c739f027-7869-499e-92a8-c2c13a35f5c8",
   "metadata": {},
   "source": [
    "#### Exponents"
   ]
  },
  {
   "cell_type": "code",
   "execution_count": null,
   "id": "3daf0cf2-55d6-40d6-ad4d-be9348d5f702",
   "metadata": {},
   "outputs": [],
   "source": []
  },
  {
   "cell_type": "markdown",
   "id": "24aeeaba-65e3-4f46-b83a-239010a01113",
   "metadata": {},
   "source": [
    "#### Remainder"
   ]
  },
  {
   "cell_type": "code",
   "execution_count": null,
   "id": "43c04ad0-f740-4e95-a832-76fbee41d614",
   "metadata": {},
   "outputs": [],
   "source": []
  },
  {
   "cell_type": "code",
   "execution_count": null,
   "id": "617e8eaf-f028-4870-8ac2-8ec823514085",
   "metadata": {},
   "outputs": [],
   "source": []
  },
  {
   "cell_type": "markdown",
   "id": "0cc5ce95-171b-432e-91f5-84e991d66259",
   "metadata": {},
   "source": [
    "## Booleans"
   ]
  },
  {
   "cell_type": "markdown",
   "id": "ec1f4f3d-565c-4f45-a43c-617d53fc368a",
   "metadata": {},
   "source": [
    "Les booléens sont des valeurs de \"vérité\". Ils indiquent si les éléments de votre univers Python sont `Vrai` ou `Faux`. Ce sont les seules deux options pour un booléen : `Vrai` ou `Faux`."
   ]
  },
  {
   "cell_type": "markdown",
   "id": "b4fefb48-8c49-4ed8-8857-6e45e88aff7d",
   "metadata": {},
   "source": [
    "<div class=\"admonition pythonreview\" name=\"html-admonition\" style=\"background: lightgreen; padding: 10px\">\n",
    "<p class=\"title\">Fondamentaux Python</p>\n",
    "<p>Rappelez-vous la différence entre un signe égal simple `=` et un double signe égal `==` ?</p>\n",
    " \n",
    "<ul>\n",
    "<li>Un signe égal simple `=` est utilisé pour l'attribution de variables</li> \n",
    "<li>Un double signe égal `==` est utilisé comme opérateur d'égalité</li>\n",
    "</div>"
   ]
  },
  {
   "cell_type": "code",
   "execution_count": 59,
   "id": "f70c3e45-c3a2-40ac-9045-435ca716659b",
   "metadata": {},
   "outputs": [],
   "source": [
    "Lupin = 'serie netflix'"
   ]
  },
  {
   "cell_type": "code",
   "execution_count": null,
   "id": "f4593a5e-0253-4f39-bd95-00410a3abb54",
   "metadata": {},
   "outputs": [],
   "source": [
    "Lupin == 'serie netflix'"
   ]
  },
  {
   "cell_type": "code",
   "execution_count": 5,
   "id": "a6550026-294e-43b2-ba6c-973375be8b99",
   "metadata": {},
   "outputs": [],
   "source": [
    "# type et roman d'aventures?"
   ]
  },
  {
   "cell_type": "markdown",
   "id": "dddc96e4-572e-4a74-b02e-e982c6ddc48e",
   "metadata": {},
   "source": [
    "## TypeError"
   ]
  },
  {
   "cell_type": "markdown",
   "id": "783433f9-d129-4cda-a16e-3153f000c59a",
   "metadata": {},
   "source": [
    "Si vous n'utilisez pas le bon \"type\" de données pour une méthode ou une fonction particulière, vous obtiendrez une `TypeError` (erreur de type).\n",
    "\n",
    "Voyons ce qui se passe si nous changeons le \"type\" de données de `nombre_de_mots_voulu` en une chaîne de caractères `\"40\"` au lieu d'un entier."
   ]
  },
  {
   "cell_type": "code",
   "execution_count": 31,
   "id": "98f0a5e6-5d14-4445-9865-a7379a2d1e22",
   "metadata": {},
   "outputs": [
    {
     "name": "stdout",
     "output_type": "stream",
     "text": [
      "Les 40 mots les plus fréquents sont :\n",
      "[('lupin', 295), ('arsène', 269), ('bien', 159), ('monsieur', 109), ('homme', 108), ('ganimard', 88), ('rien', 78), ('heures', 65), ('comment', 63), ('fait', 63), ('trois', 62), ('yeux', 57), ('jour', 55), ('andermatt', 55), ('devanne', 54), ('quelques', 52), ('porte', 52), ('temps', 51), ('coup', 49), ('nom', 48), ('nuit', 48), ('lettres', 48), ('peut', 47), ('varin', 47), ('daspry', 46), ('chose', 45), ('dire', 45), ('faire', 45), ('eut', 45), ('main', 44), ('ah', 44), ('petit', 43), ('cependant', 42), ('baron', 42), ('êtes', 42), ('personne', 42), ('jusqu', 42), ('heure', 41), ('affaire', 41), ('jamais', 39)]\n"
     ]
    }
   ],
   "source": [
    "# Import des modules nécessaires\n",
    "import re  # Module pour les expressions régulières\n",
    "from collections import Counter  # Objet de comptage\n",
    "\n",
    "# Fonction pour découper le texte en mots\n",
    "def decouper_en_mots(un_morceau_de_texte):\n",
    "    texte_minuscule = un_morceau_de_texte.lower()  # Convertir en minuscules\n",
    "    mots_separes = re.split(\"\\\\W+\", texte_minuscule)  # Séparer les mots\n",
    "    return mots_separes  # Retourner la liste de mots\n",
    "\n",
    "# Chemin d'accès du texte\n",
    "chemin_du_texte = \"../data/txt/1907_Leblanc-Maurice_Arsene-Lupin-gentleman-cambrioleur.txt\"\n",
    "\n",
    "# Nombre de mots les plus fréquents à afficher\n",
    "nombre_de_mots_voulu = 40\n",
    "\n",
    "# Liste des mots vides à exclure\n",
    "mots_vides = ['je', 'tu', 'il', 'elle', 'on', 'nous', 'vous', 'ils', 'elles',\n",
    "    'le', 'la', 'les', 'un', 'une', 'des', 'mon', 'ma', 'mes', 'ton', 'ta', 'tes',\n",
    "    'son', 'sa', 'ses', 'notre', 'votre', 'leurs', 'de', 'du', 'l', 'à', 'au', 'aux', 'en', 'par', 'pour', 'avec',\n",
    "    'sur', 'sous', 'dans', 'vers', 'contre', 'à travers', 'après', 'avant', 'pendant',\n",
    "    'alors', 'quand', 'si', 'comme', 'parce que', 'parce', 'mais', 'ou', 'et', 'donc',\n",
    "    'si', 'car', 'lorsque', 'puisque', 'qu', 'quel', 'quelle', 'quels', 'quelles',\n",
    "    'ainsi', 'autant', 'autre', 'autres', 'celui', 'celle', 'ceux', 'celles',\n",
    "    'chaque', 'ci', 'ça', 'cela', 'ce', 'ceci', 'celui-ci', 'celle-ci',\n",
    "    'celui-là', 'celle-là', 'cent', 'certain', 'certaine', 'certaines', 'certains',\n",
    "    'ceux-ci', 'ceux-là', 'chaque', 'combien', 'comme', 'd', 'dans', 'des', 'du', 'deux',\n",
    "    'devant', 'donc', 'dont', 'duquel', 'elle', 'elles', 'en', 'encore', 'entre',\n",
    "    'envers', 'est', 'et', 'eu', 'eux', 'fin', 'fut', 'hormis', 'hui', 'huit', 'ici',\n",
    "    'il', 'ils', 'je', 'jusque', 'l', 'la', 'le', 'les', 'leur', 'leurs', 'lors',\n",
    "    'lui', 'là', 'ma', 'mais', 'me', 'même', 'mes', 'moi', 'moins', 'mon', 'ne', 'ni',\n",
    "    'nombreuses', 'nombreux', 'notre', 'nous', 'ou', 'où', 'par', 'parmi', 'pas',\n",
    "    'peu', 'plus', 'plupart', 'pour', 'pourquoi', 'quand', 'que', 'quel', 'quelle',\n",
    "    'quelles', 'quels', 'qui', 'quoi', 'sa', 'sans', 'se', 'sept', 'ses', 'si',\n",
    "    'sien', 'soi', 'soit', 'son', 'sont', 'sous', 'soyez', 'sujet', 'sur', 'ta',\n",
    "    'tandis', 'te', 'tel', 'telle', 'telles', 'tels', 'tes', 'toi', 'ton', 'tous',\n",
    "    'tout', 'toute', 'toutes', 'un', 'une', 'va', 'vers', 'voici', 'voilà', 'vont',\n",
    "    'votre', 'vous', 'vu', 'ça', 's', 'n', 'c', 'a', 'm', 'j', 'y', 't', 'ces', \n",
    "    'dit', 'cet', 'oui', 'non', 'était', 'est', 'être', 'été', 'ai', 'puis', 'avez', \n",
    "    'avait', 'avais', 'eût', 'très', 'cette', 'point', 'fois', 'fit', 'aussi', 'suis' \n",
    "]\n",
    "\n",
    "# Lire le texte complet depuis le fichier\n",
    "texte_complet = open(chemin_du_texte, encoding=\"utf-8\").read()\n",
    "\n",
    "# Découper le texte en mots\n",
    "tous_les_mots = decouper_en_mots(texte_complet)\n",
    "\n",
    "# Filtrer les mots significatifs en enlevant les mots vides\n",
    "mots_significatifs = [mot for mot in tous_les_mots if mot not in mots_vides]\n",
    "\n",
    "# Compter le nombre d'occurrences de chaque mot significatif\n",
    "conteur_mots_significatifs = Counter(mots_significatifs)\n",
    "\n",
    "# Extraire les mots les plus fréquents\n",
    "mots_significatifs_frequents = conteur_mots_significatifs.most_common(int(nombre_de_mots_voulu))\n",
    "\n",
    "# Afficher les mots les plus fréquents\n",
    "print(\"Les\", nombre_de_mots_voulu, \"mots les plus fréquents sont :\")\n",
    "print(mots_significatifs_frequents)"
   ]
  },
  {
   "cell_type": "code",
   "execution_count": null,
   "id": "435f951f-46b8-4f78-bc96-5b9a235ad4df",
   "metadata": {},
   "outputs": [],
   "source": []
  },
  {
   "cell_type": "markdown",
   "id": "aa30c851-7dc5-4588-8f3d-7c319867fea4",
   "metadata": {},
   "source": [
    "### Conversion de type pour palier cela"
   ]
  },
  {
   "cell_type": "code",
   "execution_count": null,
   "id": "dec4657e-793c-4b19-b99f-c8b3428bd739",
   "metadata": {},
   "outputs": [],
   "source": []
  }
 ],
 "metadata": {
  "kernelspec": {
   "display_name": "Python 3 (ipykernel)",
   "language": "python",
   "name": "python3"
  },
  "language_info": {
   "codemirror_mode": {
    "name": "ipython",
    "version": 3
   },
   "file_extension": ".py",
   "mimetype": "text/x-python",
   "name": "python",
   "nbconvert_exporter": "python",
   "pygments_lexer": "ipython3",
   "version": "3.12.3"
  }
 },
 "nbformat": 4,
 "nbformat_minor": 5
}
